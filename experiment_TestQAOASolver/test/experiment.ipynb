{
 "cells": [
  {
   "cell_type": "markdown",
   "id": "8835e88e-578c-4d4e-83ed-a2ef46a67a7e",
   "metadata": {},
   "source": [
    "# Test experiment"
   ]
  },
  {
   "cell_type": "markdown",
   "id": "c1386a02-2e0b-47cd-903a-3495ba41f5bc",
   "metadata": {},
   "source": [
    "The goal is to analyze the complete workflow and the outputs it has, so as to detect possible errors or mistake before running it with bigger and more complex instances."
   ]
  },
  {
   "cell_type": "markdown",
   "id": "5fbe8ea1-f1b1-4cd5-81bf-06b7fb3bb7ae",
   "metadata": {},
   "source": [
    "### Imports"
   ]
  },
  {
   "cell_type": "code",
   "execution_count": 1,
   "id": "39dafbf2-b02d-43ae-8b89-ad8f1b6881ce",
   "metadata": {},
   "outputs": [],
   "source": [
    "import sys\n",
    "import os\n",
    "from IPython.display import clear_output\n",
    "\n",
    "sys.path.append(os.path.abspath(os.path.join('../..', 'functions')))\n",
    "from TestQAOASolver import TestQAOASolver\n",
    "from ALORandomGenerator import ALORandomGenerator\n",
    "from ALOClassic import ALOClassic\n",
    "from openqaoa import QUBO"
   ]
  },
  {
   "cell_type": "markdown",
   "id": "79974e9f-3b48-4e15-97da-cf575f43c3b1",
   "metadata": {},
   "source": [
    "### Define configurations"
   ]
  },
  {
   "cell_type": "code",
   "execution_count": 2,
   "id": "8cb4e26b-7ea5-4cc4-8f23-b037edee9113",
   "metadata": {},
   "outputs": [],
   "source": [
    "# all the ALO initialization configurations for the ALORandomGenerator\n",
    "alo_init_configurations = [\n",
    "    {'num_containers':2 , 'num_positions':3 },\n",
    "    {'num_containers':3 , 'num_positions':2},\n",
    "    {'num_containers':4,'num_positions':2}\n",
    "]"
   ]
  },
  {
   "cell_type": "code",
   "execution_count": 3,
   "id": "6515a5e2-6ae1-4768-9db1-e8d174b8175c",
   "metadata": {},
   "outputs": [],
   "source": [
    "circuit_configurations =[\n",
    "    {\n",
    "    'p': 1,\n",
    "    'param_type':'standard',\n",
    "    'init_type':'ramp',\n",
    "    'mixer_hamiltonian':'x'\n",
    "    },\n",
    "    {\n",
    "    'p': 2,\n",
    "    'param_type':'extended',\n",
    "    'init_type':'ramp',\n",
    "    'mixer_hamiltonian':'x'\n",
    "    }\n",
    "    ]"
   ]
  },
  {
   "cell_type": "code",
   "execution_count": 4,
   "id": "7677c598-5f63-4933-bd2f-bc5c11c303a1",
   "metadata": {},
   "outputs": [],
   "source": [
    "optimization_backend_configuration ={\n",
    "    'n_shots':10000,\n",
    "    'qiskit_simulation_method':'statevector'\n",
    "    }\n",
    "\n",
    "evaluation_backend_configuration ={\n",
    "    'n_shots':20,\n",
    "    'qiskit_simulation_method':'statevector'\n",
    "    }"
   ]
  },
  {
   "cell_type": "code",
   "execution_count": 5,
   "id": "8000ec30-0bb8-42c9-9cc3-e765054f2e8f",
   "metadata": {},
   "outputs": [],
   "source": [
    "optimizer_configuration={\n",
    "    'method' : 'Powell',\n",
    "    'maxfev':100,\n",
    "    'tol':0.01,\n",
    "    'optimization_progress':True,\n",
    "    'cost_progress':True,\n",
    "    'parameter_log':True\n",
    "    }"
   ]
  },
  {
   "cell_type": "code",
   "execution_count": 6,
   "id": "e3b295b9-5269-40ea-a713-bef269d1ecf3",
   "metadata": {},
   "outputs": [],
   "source": [
    "qubo_configuration={\n",
    "    'unbalanced':True,\n",
    "    'lambdas':[0.9603,0.0371]\n",
    "}"
   ]
  },
  {
   "cell_type": "markdown",
   "id": "787fa767-cf1f-4d49-be96-d5b62363beb4",
   "metadata": {},
   "source": [
    "### Sampling "
   ]
  },
  {
   "cell_type": "code",
   "execution_count": 7,
   "id": "60668439-dd23-4cc0-ad2a-a86da162d51d",
   "metadata": {},
   "outputs": [
    {
     "data": {
      "text/plain": [
       "\"n_samples = 3\\nsolver = TestQAOASolver()\\n\\nfor itr,conf in enumerate(alo_init_configurations):\\n    print('CONFIGURATION ',itr)\\n    name = str(itr)+'_arbitraryInstances'\\n    solver.sample_workflows_with_arbitraryInstances(\\n        str(name),\\n        n_samples,\\n        conf,\\n        circuit_configuration,\\n        optimizer_configuration,\\n        optimization_backend_configuration,\\n        evaluation_backend_configuration\\n    )\\n    clear_output(wait=True)\""
      ]
     },
     "execution_count": 7,
     "metadata": {},
     "output_type": "execute_result"
    }
   ],
   "source": [
    "'''n_samples = 3\n",
    "solver = TestQAOASolver()\n",
    "\n",
    "for itr,conf in enumerate(alo_init_configurations):\n",
    "    print('CONFIGURATION ',itr)\n",
    "    name = str(itr)+'_arbitraryInstances'\n",
    "    solver.sample_workflows_with_arbitraryInstances(\n",
    "        str(name),\n",
    "        n_samples,\n",
    "        conf,\n",
    "        circuit_configuration,\n",
    "        optimizer_configuration,\n",
    "        optimization_backend_configuration,\n",
    "        evaluation_backend_configuration\n",
    "    )\n",
    "    clear_output(wait=True)'''"
   ]
  },
  {
   "cell_type": "code",
   "execution_count": 8,
   "id": "5712d386-753a-477a-8e8b-afb3247e25c5",
   "metadata": {},
   "outputs": [
    {
     "name": "stdout",
     "output_type": "stream",
     "text": [
      "ALO CONF  2  - CIRCUIT CONF  0\n",
      "running sample  0\n",
      "00110101\n",
      "11101010\n",
      "01011110\n",
      "11010010\n",
      "11000011\n",
      "10111000\n",
      "00101000\n",
      "10001001\n",
      "00011111\n",
      "00100110\n",
      "00000000\n",
      "11010101\n",
      "11011001\n",
      "00010100\n",
      "01000110\n",
      "11110100\n",
      "01111110\n",
      "00010000\n",
      "11000100\n",
      "running sample  1\n",
      "00110011\n",
      "11111111\n",
      "00101001\n",
      "11100001\n",
      "00000111\n",
      "00010011\n",
      "11011010\n",
      "00001000\n",
      "10101010\n",
      "01100000\n",
      "11110100\n",
      "10001100\n",
      "10110001\n",
      "01011010\n",
      "11101000\n",
      "11111010\n",
      "10010100\n",
      "00010101\n",
      "10111000\n",
      "running sample  2\n",
      "01101001\n",
      "11100100\n",
      "10010110\n",
      "10011111\n",
      "00110010\n",
      "10111001\n",
      "10101001\n",
      "10111101\n",
      "11010001\n",
      "00000000\n",
      "10010101\n",
      "01100111\n",
      "01011100\n",
      "10000010\n",
      "11001100\n",
      "01011010\n",
      "11011000\n",
      "01110001\n",
      "ALO CONF  2  - CIRCUIT CONF  1\n",
      "running sample  0\n",
      "10000001\n",
      "10100010\n",
      "00101001\n",
      "11001011\n",
      "00001010\n",
      "01010010\n",
      "00001000\n",
      "01011010\n",
      "10000010\n",
      "01000111\n",
      "10000101\n",
      "10110111\n",
      "11000110\n",
      "10010110\n",
      "10110101\n",
      "01110101\n",
      "10101110\n",
      "running sample  1\n",
      "00110111\n",
      "00100001\n",
      "00011111\n",
      "10001010\n",
      "11101110\n",
      "10111001\n",
      "00000111\n",
      "01101110\n",
      "10000100\n",
      "00001110\n",
      "00111001\n",
      "11001111\n",
      "00110110\n",
      "10110101\n",
      "00011011\n",
      "00001000\n",
      "00101010\n",
      "11100011\n",
      "10001011\n",
      "running sample  2\n",
      "10110001\n",
      "10000011\n",
      "10010000\n",
      "01101110\n",
      "00001101\n",
      "01111010\n",
      "11101100\n",
      "11001101\n",
      "10101101\n",
      "11000111\n",
      "01111110\n",
      "11111111\n",
      "11000011\n",
      "00110001\n",
      "00011000\n",
      "11111110\n",
      "00111111\n",
      "01000110\n"
     ]
    }
   ],
   "source": [
    "n_samples = 3\n",
    "solver = TestQAOASolver()\n",
    "\n",
    "for itr,alo_conf in enumerate(alo_init_configurations):\n",
    "    solver.set_fixedInstances(alo_conf,n_samples)\n",
    "    for itr2,circuit_conf in enumerate(circuit_configurations):\n",
    "        print('ALO CONF ',itr,' - CIRCUIT CONF ',itr2)\n",
    "\n",
    "        name = '_alo'+str(itr)+'_circuit'+str(itr2)+'_fixedInstances'\n",
    "        solver.sample_workflows_with_fixedInstances(\n",
    "        str(name),\n",
    "        circuit_conf,\n",
    "        optimizer_configuration,\n",
    "        optimization_backend_configuration,\n",
    "        evaluation_backend_configuration,\n",
    "        qubo_configuration\n",
    "    )\n",
    "    clear_output(wait=True)"
   ]
  }
 ],
 "metadata": {
  "kernelspec": {
   "display_name": "Python 3 (ipykernel)",
   "language": "python",
   "name": "python3"
  },
  "language_info": {
   "codemirror_mode": {
    "name": "ipython",
    "version": 3
   },
   "file_extension": ".py",
   "mimetype": "text/x-python",
   "name": "python",
   "nbconvert_exporter": "python",
   "pygments_lexer": "ipython3",
   "version": "3.10.13"
  }
 },
 "nbformat": 4,
 "nbformat_minor": 5
}
