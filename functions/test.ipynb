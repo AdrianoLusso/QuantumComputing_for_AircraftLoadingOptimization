{
 "cells": [
  {
   "cell_type": "markdown",
   "id": "2e4a506a-2e70-4cff-9420-b73634e984a5",
   "metadata": {},
   "source": [
    "## ALORandomGenerator"
   ]
  },
  {
   "cell_type": "code",
   "execution_count": 1,
   "id": "c7123152-4b41-4604-83fa-2b0e86760197",
   "metadata": {},
   "outputs": [],
   "source": [
    "from ALORandomGenerator import ALORandomGenerator\n",
    "import json"
   ]
  },
  {
   "cell_type": "code",
   "execution_count": 2,
   "id": "5f68639c-c08c-4132-ba5e-f27bcb14b160",
   "metadata": {},
   "outputs": [
    {
     "data": {
      "text/plain": [
       "{'num_containers': 3,\n",
       " 'num_positions': 3,\n",
       " 'containers_weight': [27, 68, 7],\n",
       " 'containers_type': [1, 3, 1],\n",
       " 't_list': [1, 0.5, 1],\n",
       " 'd_list': [1, 1, 1],\n",
       " 'max_weight': 100,\n",
       " 'allBinaryVariables': [0, 1, 2, 3, 4, 5, 6, 7, 8]}"
      ]
     },
     "metadata": {},
     "output_type": "display_data"
    },
    {
     "name": "stdout",
     "output_type": "stream",
     "text": [
      "\n"
     ]
    },
    {
     "data": {
      "text/plain": [
       "{'num_containers': 3,\n",
       " 'num_positions': 3,\n",
       " 'containers_weight': [74, 99, 13],\n",
       " 'containers_type': [2, 1, 2],\n",
       " 't_list': [1, 1, 1],\n",
       " 'd_list': [0.5, 1, 0.5],\n",
       " 'max_weight': 100,\n",
       " 'allBinaryVariables': [0, 1, 2, 3, 4, 5, 6, 7, 8]}"
      ]
     },
     "metadata": {},
     "output_type": "display_data"
    },
    {
     "name": "stdout",
     "output_type": "stream",
     "text": [
      "\n"
     ]
    },
    {
     "data": {
      "text/plain": [
       "{'num_containers': 3,\n",
       " 'num_positions': 3,\n",
       " 'containers_weight': [78, 6, 79],\n",
       " 'containers_type': [2, 1, 1],\n",
       " 't_list': [1, 1, 1],\n",
       " 'd_list': [0.5, 1, 1],\n",
       " 'max_weight': 100,\n",
       " 'allBinaryVariables': [0, 1, 2, 3, 4, 5, 6, 7, 8]}"
      ]
     },
     "metadata": {},
     "output_type": "display_data"
    },
    {
     "name": "stdout",
     "output_type": "stream",
     "text": [
      "\n"
     ]
    },
    {
     "data": {
      "text/plain": [
       "{'num_containers': 3,\n",
       " 'num_positions': 1,\n",
       " 'containers_weight': [64, 68, 35],\n",
       " 'containers_type': [1, 3, 2],\n",
       " 't_list': [1, 0.5, 1],\n",
       " 'd_list': [1, 1, 0.5],\n",
       " 'max_weight': 100,\n",
       " 'allBinaryVariables': [0, 1, 2]}"
      ]
     },
     "metadata": {},
     "output_type": "display_data"
    },
    {
     "name": "stdout",
     "output_type": "stream",
     "text": [
      "\n"
     ]
    },
    {
     "data": {
      "text/plain": [
       "{'num_containers': 3,\n",
       " 'num_positions': 1,\n",
       " 'containers_weight': [82, 36, 95],\n",
       " 'containers_type': [3, 3, 2],\n",
       " 't_list': [0.5, 0.5, 1],\n",
       " 'd_list': [1, 1, 0.5],\n",
       " 'max_weight': 100,\n",
       " 'allBinaryVariables': [0, 1, 2]}"
      ]
     },
     "metadata": {},
     "output_type": "display_data"
    },
    {
     "name": "stdout",
     "output_type": "stream",
     "text": [
      "\n"
     ]
    },
    {
     "data": {
      "text/plain": [
       "{'num_containers': 3,\n",
       " 'num_positions': 1,\n",
       " 'containers_weight': [9, 65, 60],\n",
       " 'containers_type': [2, 3, 2],\n",
       " 't_list': [1, 0.5, 1],\n",
       " 'd_list': [0.5, 1, 0.5],\n",
       " 'max_weight': 100,\n",
       " 'allBinaryVariables': [0, 1, 2]}"
      ]
     },
     "metadata": {},
     "output_type": "display_data"
    },
    {
     "name": "stdout",
     "output_type": "stream",
     "text": [
      "\n"
     ]
    },
    {
     "data": {
      "text/plain": [
       "{'num_containers': 1,\n",
       " 'num_positions': 3,\n",
       " 'containers_weight': [8],\n",
       " 'containers_type': [3],\n",
       " 't_list': [0.5],\n",
       " 'd_list': [1],\n",
       " 'max_weight': 100,\n",
       " 'allBinaryVariables': [0, 1, 2]}"
      ]
     },
     "metadata": {},
     "output_type": "display_data"
    },
    {
     "name": "stdout",
     "output_type": "stream",
     "text": [
      "\n"
     ]
    },
    {
     "data": {
      "text/plain": [
       "{'num_containers': 1,\n",
       " 'num_positions': 3,\n",
       " 'containers_weight': [68],\n",
       " 'containers_type': [2],\n",
       " 't_list': [1],\n",
       " 'd_list': [0.5],\n",
       " 'max_weight': 100,\n",
       " 'allBinaryVariables': [0, 1, 2]}"
      ]
     },
     "metadata": {},
     "output_type": "display_data"
    },
    {
     "name": "stdout",
     "output_type": "stream",
     "text": [
      "\n"
     ]
    },
    {
     "data": {
      "text/plain": [
       "{'num_containers': 1,\n",
       " 'num_positions': 3,\n",
       " 'containers_weight': [4],\n",
       " 'containers_type': [2],\n",
       " 't_list': [1],\n",
       " 'd_list': [0.5],\n",
       " 'max_weight': 100,\n",
       " 'allBinaryVariables': [0, 1, 2]}"
      ]
     },
     "metadata": {},
     "output_type": "display_data"
    },
    {
     "name": "stdout",
     "output_type": "stream",
     "text": [
      "\n"
     ]
    },
    {
     "data": {
      "text/plain": [
       "{'num_containers': 7,\n",
       " 'num_positions': 3,\n",
       " 'containers_weight': [100, 52, 58, 17, 53, 4, 85],\n",
       " 'containers_type': [3, 3, 2, 1, 1, 1, 3],\n",
       " 't_list': [0.5, 0.5, 1, 1, 1, 1, 0.5],\n",
       " 'd_list': [1, 1, 0.5, 1, 1, 1, 1],\n",
       " 'max_weight': 100,\n",
       " 'allBinaryVariables': [0,\n",
       "  1,\n",
       "  2,\n",
       "  3,\n",
       "  4,\n",
       "  5,\n",
       "  6,\n",
       "  7,\n",
       "  8,\n",
       "  9,\n",
       "  10,\n",
       "  11,\n",
       "  12,\n",
       "  13,\n",
       "  14,\n",
       "  15,\n",
       "  16,\n",
       "  17,\n",
       "  18,\n",
       "  19,\n",
       "  20]}"
      ]
     },
     "metadata": {},
     "output_type": "display_data"
    },
    {
     "name": "stdout",
     "output_type": "stream",
     "text": [
      "\n"
     ]
    },
    {
     "data": {
      "text/plain": [
       "{'num_containers': 7,\n",
       " 'num_positions': 3,\n",
       " 'containers_weight': [28, 35, 1, 39, 61, 39, 6],\n",
       " 'containers_type': [1, 3, 2, 2, 3, 1, 3],\n",
       " 't_list': [1, 0.5, 1, 1, 0.5, 1, 0.5],\n",
       " 'd_list': [1, 1, 0.5, 0.5, 1, 1, 1],\n",
       " 'max_weight': 100,\n",
       " 'allBinaryVariables': [0,\n",
       "  1,\n",
       "  2,\n",
       "  3,\n",
       "  4,\n",
       "  5,\n",
       "  6,\n",
       "  7,\n",
       "  8,\n",
       "  9,\n",
       "  10,\n",
       "  11,\n",
       "  12,\n",
       "  13,\n",
       "  14,\n",
       "  15,\n",
       "  16,\n",
       "  17,\n",
       "  18,\n",
       "  19,\n",
       "  20]}"
      ]
     },
     "metadata": {},
     "output_type": "display_data"
    },
    {
     "name": "stdout",
     "output_type": "stream",
     "text": [
      "\n"
     ]
    },
    {
     "data": {
      "text/plain": [
       "{'num_containers': 7,\n",
       " 'num_positions': 3,\n",
       " 'containers_weight': [24, 95, 91, 61, 4, 20, 2],\n",
       " 'containers_type': [2, 2, 2, 3, 2, 1, 2],\n",
       " 't_list': [1, 1, 1, 0.5, 1, 1, 1],\n",
       " 'd_list': [0.5, 0.5, 0.5, 1, 0.5, 1, 0.5],\n",
       " 'max_weight': 100,\n",
       " 'allBinaryVariables': [0,\n",
       "  1,\n",
       "  2,\n",
       "  3,\n",
       "  4,\n",
       "  5,\n",
       "  6,\n",
       "  7,\n",
       "  8,\n",
       "  9,\n",
       "  10,\n",
       "  11,\n",
       "  12,\n",
       "  13,\n",
       "  14,\n",
       "  15,\n",
       "  16,\n",
       "  17,\n",
       "  18,\n",
       "  19,\n",
       "  20]}"
      ]
     },
     "metadata": {},
     "output_type": "display_data"
    },
    {
     "name": "stdout",
     "output_type": "stream",
     "text": [
      "\n"
     ]
    },
    {
     "data": {
      "text/plain": [
       "{'num_containers': 3,\n",
       " 'num_positions': 7,\n",
       " 'containers_weight': [56, 21, 88],\n",
       " 'containers_type': [3, 3, 2],\n",
       " 't_list': [0.5, 0.5, 1],\n",
       " 'd_list': [1, 1, 0.5],\n",
       " 'max_weight': 100,\n",
       " 'allBinaryVariables': [0,\n",
       "  1,\n",
       "  2,\n",
       "  3,\n",
       "  4,\n",
       "  5,\n",
       "  6,\n",
       "  7,\n",
       "  8,\n",
       "  9,\n",
       "  10,\n",
       "  11,\n",
       "  12,\n",
       "  13,\n",
       "  14,\n",
       "  15,\n",
       "  16,\n",
       "  17,\n",
       "  18,\n",
       "  19,\n",
       "  20]}"
      ]
     },
     "metadata": {},
     "output_type": "display_data"
    },
    {
     "name": "stdout",
     "output_type": "stream",
     "text": [
      "\n"
     ]
    },
    {
     "data": {
      "text/plain": [
       "{'num_containers': 3,\n",
       " 'num_positions': 7,\n",
       " 'containers_weight': [10, 80, 66],\n",
       " 'containers_type': [3, 3, 1],\n",
       " 't_list': [0.5, 0.5, 1],\n",
       " 'd_list': [1, 1, 1],\n",
       " 'max_weight': 100,\n",
       " 'allBinaryVariables': [0,\n",
       "  1,\n",
       "  2,\n",
       "  3,\n",
       "  4,\n",
       "  5,\n",
       "  6,\n",
       "  7,\n",
       "  8,\n",
       "  9,\n",
       "  10,\n",
       "  11,\n",
       "  12,\n",
       "  13,\n",
       "  14,\n",
       "  15,\n",
       "  16,\n",
       "  17,\n",
       "  18,\n",
       "  19,\n",
       "  20]}"
      ]
     },
     "metadata": {},
     "output_type": "display_data"
    },
    {
     "name": "stdout",
     "output_type": "stream",
     "text": [
      "\n"
     ]
    },
    {
     "data": {
      "text/plain": [
       "{'num_containers': 3,\n",
       " 'num_positions': 7,\n",
       " 'containers_weight': [3, 28, 50],\n",
       " 'containers_type': [2, 2, 1],\n",
       " 't_list': [1, 1, 1],\n",
       " 'd_list': [0.5, 0.5, 1],\n",
       " 'max_weight': 100,\n",
       " 'allBinaryVariables': [0,\n",
       "  1,\n",
       "  2,\n",
       "  3,\n",
       "  4,\n",
       "  5,\n",
       "  6,\n",
       "  7,\n",
       "  8,\n",
       "  9,\n",
       "  10,\n",
       "  11,\n",
       "  12,\n",
       "  13,\n",
       "  14,\n",
       "  15,\n",
       "  16,\n",
       "  17,\n",
       "  18,\n",
       "  19,\n",
       "  20]}"
      ]
     },
     "metadata": {},
     "output_type": "display_data"
    },
    {
     "name": "stdout",
     "output_type": "stream",
     "text": [
      "\n"
     ]
    }
   ],
   "source": [
    "sizes = [[3,3],[3,1],[1,3],[7,3],[3,7]]\n",
    "for size in sizes:\n",
    "    gen = ALORandomGenerator(size[0],size[1])\n",
    "    for i in range(3):\n",
    "        inst=gen.generate_random_instance()\n",
    "        display(json.loads(inst))\n",
    "        print()"
   ]
  },
  {
   "cell_type": "markdown",
   "id": "a7005649-9979-444b-88c3-1952285d2efc",
   "metadata": {},
   "source": [
    "## ALOClassic"
   ]
  },
  {
   "cell_type": "code",
   "execution_count": 16,
   "id": "e5af31a2-b895-4a2a-9d47-31e61163a4f8",
   "metadata": {},
   "outputs": [],
   "source": [
    "from ALORandomGenerator import ALORandomGenerator\n",
    "from ALOClassic import ALOClassic\n",
    "import json"
   ]
  },
  {
   "cell_type": "code",
   "execution_count": 17,
   "id": "d9d3d74c-392f-4028-baeb-ef0fec78df2d",
   "metadata": {
    "scrolled": true
   },
   "outputs": [
    {
     "data": {
      "text/plain": [
       "{'num_containers': 4,\n",
       " 'num_positions': 4,\n",
       " 'containers_weight': [20, 60, 80, 28],\n",
       " 'containers_type': [2, 3, 1, 1],\n",
       " 't_list': [1, 0.5, 1, 1],\n",
       " 'd_list': [0.5, 1, 1, 1],\n",
       " 'max_weight': 100,\n",
       " 'allBinaryVariables': [0, 1, 2, 3, 4, 5, 6, 7, 8, 9, 10, 11, 12, 13, 14, 15]}"
      ]
     },
     "metadata": {},
     "output_type": "display_data"
    }
   ],
   "source": [
    "gen = ALORandomGenerator(4,4)\n",
    "inst = json.loads(gen.generate_random_instance())\n",
    "display(inst)"
   ]
  },
  {
   "cell_type": "code",
   "execution_count": 18,
   "id": "1b0d2894-a659-4be5-af74-e0b612469551",
   "metadata": {},
   "outputs": [
    {
     "name": "stdout",
     "output_type": "stream",
     "text": [
      "GENERAL OPTIMIZATION FORM:\n",
      "-40x_4*x_5-40x_5*x_6-40x_6*x_7-20x_0-20x_1-20x_2-20x_3-10x_4-10x_5-10x_6-10x_7-80x_8-80x_9-80x_10-80x_11-28x_12-28x_13-28x_14-28x_15 \n",
      "\n",
      "constraints:\n",
      "no overlaps: 0.500x_0+x_4+x_8+x_12 <= 1\n",
      "no overlaps: 0.500x_1+x_5+x_9+x_13 <= 1\n",
      "no overlaps: 0.500x_2+x_6+x_10+x_14 <= 1\n",
      "no overlaps: 0.500x_3+x_7+x_11+x_15 <= 1\n",
      "no duplicates: x_0+x_1+x_2+x_3 <= 1\n",
      "no duplicates: 0.500x_4+0.500x_5+0.500x_6+0.500x_7 <= 1\n",
      "no duplicates: x_8+x_9+x_10+x_11 <= 1\n",
      "no duplicates: x_12+x_13+x_14+x_15 <= 1\n",
      "maximum capacity: 20x_0+20x_1+20x_2+20x_3+30x_4+30x_5+30x_6+30x_7+80x_8+80x_9+80x_10+80x_11+28x_12+28x_13+28x_14+28x_15 <= 100\n",
      "QUBO FORM:\n",
      "linear terms:\n",
      "(docplex.mp.Var(type=B,name='x_0'), -400320.0)\n",
      "(docplex.mp.Var(type=B,name='x_1'), -400320.0)\n",
      "(docplex.mp.Var(type=B,name='x_2'), -400320.0)\n",
      "(docplex.mp.Var(type=B,name='x_3'), -400320.0)\n",
      "(docplex.mp.Var(type=B,name='x_4'), -600310.0)\n",
      "(docplex.mp.Var(type=B,name='x_5'), -600310.0)\n",
      "(docplex.mp.Var(type=B,name='x_6'), -600310.0)\n",
      "(docplex.mp.Var(type=B,name='x_7'), -600310.0)\n",
      "(docplex.mp.Var(type=B,name='x_8'), -1600480)\n",
      "(docplex.mp.Var(type=B,name='x_9'), -1600480)\n",
      "(docplex.mp.Var(type=B,name='x_10'), -1600480)\n",
      "(docplex.mp.Var(type=B,name='x_11'), -1600480)\n",
      "(docplex.mp.Var(type=B,name='x_12'), -560428)\n",
      "(docplex.mp.Var(type=B,name='x_13'), -560428)\n",
      "(docplex.mp.Var(type=B,name='x_14'), -560428)\n",
      "(docplex.mp.Var(type=B,name='x_15'), -560428)\n",
      "(docplex.mp.Var(type=B,name='slack_C0_0'), -200)\n",
      "(docplex.mp.Var(type=B,name='slack_C1_0'), -200)\n",
      "(docplex.mp.Var(type=B,name='slack_C2_0'), -200)\n",
      "(docplex.mp.Var(type=B,name='slack_C3_0'), -200)\n",
      "(docplex.mp.Var(type=B,name='slack_C4_0'), -200)\n",
      "(docplex.mp.Var(type=B,name='slack_C5_0'), -200.0)\n",
      "(docplex.mp.Var(type=B,name='slack_C6_0'), -200)\n",
      "(docplex.mp.Var(type=B,name='slack_C7_0'), -200)\n",
      "(docplex.mp.Var(type=B,name='slack_C8_0'), -20000)\n",
      "(docplex.mp.Var(type=B,name='slack_C8_1'), -40000)\n",
      "(docplex.mp.Var(type=B,name='slack_C8_2'), -80000)\n",
      "(docplex.mp.Var(type=B,name='slack_C8_3'), -160000)\n",
      "(docplex.mp.Var(type=B,name='slack_C8_4'), -320000)\n",
      "(docplex.mp.Var(type=B,name='slack_C8_5'), -640000)\n",
      "(docplex.mp.Var(type=B,name='slack_C8_6'), -740000)\n",
      "\n",
      "quad. terms:\n",
      "(docplex.mp.quad.VarPair(first=x_4,second=x_5), 180010.0)\n",
      "(docplex.mp.quad.VarPair(first=x_5,second=x_6), 180010.0)\n",
      "(docplex.mp.quad.VarPair(first=x_6,second=x_7), 180010.0)\n",
      "(docplex.mp.quad.VarPair(first=x_0,second=x_0), 40125.0)\n",
      "(docplex.mp.quad.VarPair(first=x_0,second=x_4), 120100.0)\n",
      "(docplex.mp.quad.VarPair(first=x_0,second=x_8), 320100.0)\n",
      "(docplex.mp.quad.VarPair(first=x_0,second=x_12), 112100.0)\n",
      "(docplex.mp.quad.VarPair(first=x_0,second=slack_C0_0), 100.0)\n",
      "(docplex.mp.quad.VarPair(first=x_4,second=x_4), 90125.0)\n",
      "(docplex.mp.quad.VarPair(first=x_4,second=x_8), 480200.0)\n",
      "(docplex.mp.quad.VarPair(first=x_4,second=x_12), 168200.0)\n",
      "(docplex.mp.quad.VarPair(first=x_4,second=slack_C0_0), 200)\n",
      "(docplex.mp.quad.VarPair(first=x_8,second=x_8), 640200)\n",
      "(docplex.mp.quad.VarPair(first=x_8,second=x_12), 448200)\n",
      "(docplex.mp.quad.VarPair(first=x_8,second=slack_C0_0), 200)\n",
      "(docplex.mp.quad.VarPair(first=x_12,second=x_12), 78600)\n",
      "(docplex.mp.quad.VarPair(first=x_12,second=slack_C0_0), 200)\n",
      "(docplex.mp.quad.VarPair(first=slack_C0_0,second=slack_C0_0), 100)\n",
      "(docplex.mp.quad.VarPair(first=x_1,second=x_1), 40125.0)\n",
      "(docplex.mp.quad.VarPair(first=x_1,second=x_5), 120100.0)\n",
      "(docplex.mp.quad.VarPair(first=x_1,second=x_9), 320100.0)\n",
      "(docplex.mp.quad.VarPair(first=x_1,second=x_13), 112100.0)\n",
      "(docplex.mp.quad.VarPair(first=x_1,second=slack_C1_0), 100.0)\n",
      "(docplex.mp.quad.VarPair(first=x_5,second=x_5), 90125.0)\n",
      "(docplex.mp.quad.VarPair(first=x_5,second=x_9), 480200.0)\n",
      "(docplex.mp.quad.VarPair(first=x_5,second=x_13), 168200.0)\n",
      "(docplex.mp.quad.VarPair(first=x_5,second=slack_C1_0), 200)\n",
      "(docplex.mp.quad.VarPair(first=x_9,second=x_9), 640200)\n",
      "(docplex.mp.quad.VarPair(first=x_9,second=x_13), 448200)\n",
      "(docplex.mp.quad.VarPair(first=x_9,second=slack_C1_0), 200)\n",
      "(docplex.mp.quad.VarPair(first=x_13,second=x_13), 78600)\n",
      "(docplex.mp.quad.VarPair(first=x_13,second=slack_C1_0), 200)\n",
      "(docplex.mp.quad.VarPair(first=slack_C1_0,second=slack_C1_0), 100)\n",
      "(docplex.mp.quad.VarPair(first=x_2,second=x_2), 40125.0)\n",
      "(docplex.mp.quad.VarPair(first=x_2,second=x_6), 120100.0)\n",
      "(docplex.mp.quad.VarPair(first=x_2,second=x_10), 320100.0)\n",
      "(docplex.mp.quad.VarPair(first=x_2,second=x_14), 112100.0)\n",
      "(docplex.mp.quad.VarPair(first=x_2,second=slack_C2_0), 100.0)\n",
      "(docplex.mp.quad.VarPair(first=x_6,second=x_6), 90125.0)\n",
      "(docplex.mp.quad.VarPair(first=x_6,second=x_10), 480200.0)\n",
      "(docplex.mp.quad.VarPair(first=x_6,second=x_14), 168200.0)\n",
      "(docplex.mp.quad.VarPair(first=x_6,second=slack_C2_0), 200)\n",
      "(docplex.mp.quad.VarPair(first=x_10,second=x_10), 640200)\n",
      "(docplex.mp.quad.VarPair(first=x_10,second=x_14), 448200)\n",
      "(docplex.mp.quad.VarPair(first=x_10,second=slack_C2_0), 200)\n",
      "(docplex.mp.quad.VarPair(first=x_14,second=x_14), 78600)\n",
      "(docplex.mp.quad.VarPair(first=x_14,second=slack_C2_0), 200)\n",
      "(docplex.mp.quad.VarPair(first=slack_C2_0,second=slack_C2_0), 100)\n",
      "(docplex.mp.quad.VarPair(first=x_3,second=x_3), 40125.0)\n",
      "(docplex.mp.quad.VarPair(first=x_3,second=x_7), 120100.0)\n",
      "(docplex.mp.quad.VarPair(first=x_3,second=x_11), 320100.0)\n",
      "(docplex.mp.quad.VarPair(first=x_3,second=x_15), 112100.0)\n",
      "(docplex.mp.quad.VarPair(first=x_3,second=slack_C3_0), 100.0)\n",
      "(docplex.mp.quad.VarPair(first=x_7,second=x_7), 90125.0)\n",
      "(docplex.mp.quad.VarPair(first=x_7,second=x_11), 480200.0)\n",
      "(docplex.mp.quad.VarPair(first=x_7,second=x_15), 168200.0)\n",
      "(docplex.mp.quad.VarPair(first=x_7,second=slack_C3_0), 200)\n",
      "(docplex.mp.quad.VarPair(first=x_11,second=x_11), 640200)\n",
      "(docplex.mp.quad.VarPair(first=x_11,second=x_15), 448200)\n",
      "(docplex.mp.quad.VarPair(first=x_11,second=slack_C3_0), 200)\n",
      "(docplex.mp.quad.VarPair(first=x_15,second=x_15), 78600)\n",
      "(docplex.mp.quad.VarPair(first=x_15,second=slack_C3_0), 200)\n",
      "(docplex.mp.quad.VarPair(first=slack_C3_0,second=slack_C3_0), 100)\n",
      "(docplex.mp.quad.VarPair(first=x_0,second=x_1), 80200)\n",
      "(docplex.mp.quad.VarPair(first=x_0,second=x_2), 80200)\n",
      "(docplex.mp.quad.VarPair(first=x_0,second=x_3), 80200)\n",
      "(docplex.mp.quad.VarPair(first=x_0,second=slack_C4_0), 200)\n",
      "(docplex.mp.quad.VarPair(first=x_1,second=x_2), 80200)\n",
      "(docplex.mp.quad.VarPair(first=x_1,second=x_3), 80200)\n",
      "(docplex.mp.quad.VarPair(first=x_1,second=slack_C4_0), 200)\n",
      "(docplex.mp.quad.VarPair(first=x_2,second=x_3), 80200)\n",
      "(docplex.mp.quad.VarPair(first=x_2,second=slack_C4_0), 200)\n",
      "(docplex.mp.quad.VarPair(first=x_3,second=slack_C4_0), 200)\n",
      "(docplex.mp.quad.VarPair(first=slack_C4_0,second=slack_C4_0), 100)\n",
      "(docplex.mp.quad.VarPair(first=x_4,second=x_6), 180050.0)\n",
      "(docplex.mp.quad.VarPair(first=x_4,second=x_7), 180050.0)\n",
      "(docplex.mp.quad.VarPair(first=x_4,second=slack_C5_0), 100.0)\n",
      "(docplex.mp.quad.VarPair(first=x_5,second=x_7), 180050.0)\n",
      "(docplex.mp.quad.VarPair(first=x_5,second=slack_C5_0), 100.0)\n",
      "(docplex.mp.quad.VarPair(first=x_6,second=slack_C5_0), 100.0)\n",
      "(docplex.mp.quad.VarPair(first=x_7,second=slack_C5_0), 100.0)\n",
      "(docplex.mp.quad.VarPair(first=slack_C5_0,second=slack_C5_0), 100.0)\n",
      "(docplex.mp.quad.VarPair(first=x_8,second=x_9), 1280200)\n",
      "(docplex.mp.quad.VarPair(first=x_8,second=x_10), 1280200)\n",
      "(docplex.mp.quad.VarPair(first=x_8,second=x_11), 1280200)\n",
      "(docplex.mp.quad.VarPair(first=x_8,second=slack_C6_0), 200)\n",
      "(docplex.mp.quad.VarPair(first=x_9,second=x_10), 1280200)\n",
      "(docplex.mp.quad.VarPair(first=x_9,second=x_11), 1280200)\n",
      "(docplex.mp.quad.VarPair(first=x_9,second=slack_C6_0), 200)\n",
      "(docplex.mp.quad.VarPair(first=x_10,second=x_11), 1280200)\n",
      "(docplex.mp.quad.VarPair(first=x_10,second=slack_C6_0), 200)\n",
      "(docplex.mp.quad.VarPair(first=x_11,second=slack_C6_0), 200)\n",
      "(docplex.mp.quad.VarPair(first=slack_C6_0,second=slack_C6_0), 100)\n",
      "(docplex.mp.quad.VarPair(first=x_12,second=x_13), 157000)\n",
      "(docplex.mp.quad.VarPair(first=x_12,second=x_14), 157000)\n",
      "(docplex.mp.quad.VarPair(first=x_12,second=x_15), 157000)\n",
      "(docplex.mp.quad.VarPair(first=x_12,second=slack_C7_0), 200)\n",
      "(docplex.mp.quad.VarPair(first=x_13,second=x_14), 157000)\n",
      "(docplex.mp.quad.VarPair(first=x_13,second=x_15), 157000)\n",
      "(docplex.mp.quad.VarPair(first=x_13,second=slack_C7_0), 200)\n",
      "(docplex.mp.quad.VarPair(first=x_14,second=x_15), 157000)\n",
      "(docplex.mp.quad.VarPair(first=x_14,second=slack_C7_0), 200)\n",
      "(docplex.mp.quad.VarPair(first=x_15,second=slack_C7_0), 200)\n",
      "(docplex.mp.quad.VarPair(first=slack_C7_0,second=slack_C7_0), 100)\n",
      "(docplex.mp.quad.VarPair(first=x_0,second=x_5), 120000.0)\n",
      "(docplex.mp.quad.VarPair(first=x_0,second=x_6), 120000.0)\n",
      "(docplex.mp.quad.VarPair(first=x_0,second=x_7), 120000.0)\n",
      "(docplex.mp.quad.VarPair(first=x_0,second=x_9), 320000)\n",
      "(docplex.mp.quad.VarPair(first=x_0,second=x_10), 320000)\n",
      "(docplex.mp.quad.VarPair(first=x_0,second=x_11), 320000)\n",
      "(docplex.mp.quad.VarPair(first=x_0,second=x_13), 112000)\n",
      "(docplex.mp.quad.VarPair(first=x_0,second=x_14), 112000)\n",
      "(docplex.mp.quad.VarPair(first=x_0,second=x_15), 112000)\n",
      "(docplex.mp.quad.VarPair(first=x_0,second=slack_C8_0), 4000)\n",
      "(docplex.mp.quad.VarPair(first=x_0,second=slack_C8_1), 8000)\n",
      "(docplex.mp.quad.VarPair(first=x_0,second=slack_C8_2), 16000)\n",
      "(docplex.mp.quad.VarPair(first=x_0,second=slack_C8_3), 32000)\n",
      "(docplex.mp.quad.VarPair(first=x_0,second=slack_C8_4), 64000)\n",
      "(docplex.mp.quad.VarPair(first=x_0,second=slack_C8_5), 128000)\n",
      "(docplex.mp.quad.VarPair(first=x_0,second=slack_C8_6), 148000)\n",
      "(docplex.mp.quad.VarPair(first=x_1,second=x_4), 120000.0)\n",
      "(docplex.mp.quad.VarPair(first=x_1,second=x_6), 120000.0)\n",
      "(docplex.mp.quad.VarPair(first=x_1,second=x_7), 120000.0)\n",
      "(docplex.mp.quad.VarPair(first=x_1,second=x_8), 320000)\n",
      "(docplex.mp.quad.VarPair(first=x_1,second=x_10), 320000)\n",
      "(docplex.mp.quad.VarPair(first=x_1,second=x_11), 320000)\n",
      "(docplex.mp.quad.VarPair(first=x_1,second=x_12), 112000)\n",
      "(docplex.mp.quad.VarPair(first=x_1,second=x_14), 112000)\n",
      "(docplex.mp.quad.VarPair(first=x_1,second=x_15), 112000)\n",
      "(docplex.mp.quad.VarPair(first=x_1,second=slack_C8_0), 4000)\n",
      "(docplex.mp.quad.VarPair(first=x_1,second=slack_C8_1), 8000)\n",
      "(docplex.mp.quad.VarPair(first=x_1,second=slack_C8_2), 16000)\n",
      "(docplex.mp.quad.VarPair(first=x_1,second=slack_C8_3), 32000)\n",
      "(docplex.mp.quad.VarPair(first=x_1,second=slack_C8_4), 64000)\n",
      "(docplex.mp.quad.VarPair(first=x_1,second=slack_C8_5), 128000)\n",
      "(docplex.mp.quad.VarPair(first=x_1,second=slack_C8_6), 148000)\n",
      "(docplex.mp.quad.VarPair(first=x_2,second=x_4), 120000.0)\n",
      "(docplex.mp.quad.VarPair(first=x_2,second=x_5), 120000.0)\n",
      "(docplex.mp.quad.VarPair(first=x_2,second=x_7), 120000.0)\n",
      "(docplex.mp.quad.VarPair(first=x_2,second=x_8), 320000)\n",
      "(docplex.mp.quad.VarPair(first=x_2,second=x_9), 320000)\n",
      "(docplex.mp.quad.VarPair(first=x_2,second=x_11), 320000)\n",
      "(docplex.mp.quad.VarPair(first=x_2,second=x_12), 112000)\n",
      "(docplex.mp.quad.VarPair(first=x_2,second=x_13), 112000)\n",
      "(docplex.mp.quad.VarPair(first=x_2,second=x_15), 112000)\n",
      "(docplex.mp.quad.VarPair(first=x_2,second=slack_C8_0), 4000)\n",
      "(docplex.mp.quad.VarPair(first=x_2,second=slack_C8_1), 8000)\n",
      "(docplex.mp.quad.VarPair(first=x_2,second=slack_C8_2), 16000)\n",
      "(docplex.mp.quad.VarPair(first=x_2,second=slack_C8_3), 32000)\n",
      "(docplex.mp.quad.VarPair(first=x_2,second=slack_C8_4), 64000)\n",
      "(docplex.mp.quad.VarPair(first=x_2,second=slack_C8_5), 128000)\n",
      "(docplex.mp.quad.VarPair(first=x_2,second=slack_C8_6), 148000)\n",
      "(docplex.mp.quad.VarPair(first=x_3,second=x_4), 120000.0)\n",
      "(docplex.mp.quad.VarPair(first=x_3,second=x_5), 120000.0)\n",
      "(docplex.mp.quad.VarPair(first=x_3,second=x_6), 120000.0)\n",
      "(docplex.mp.quad.VarPair(first=x_3,second=x_8), 320000)\n",
      "(docplex.mp.quad.VarPair(first=x_3,second=x_9), 320000)\n",
      "(docplex.mp.quad.VarPair(first=x_3,second=x_10), 320000)\n",
      "(docplex.mp.quad.VarPair(first=x_3,second=x_12), 112000)\n",
      "(docplex.mp.quad.VarPair(first=x_3,second=x_13), 112000)\n",
      "(docplex.mp.quad.VarPair(first=x_3,second=x_14), 112000)\n",
      "(docplex.mp.quad.VarPair(first=x_3,second=slack_C8_0), 4000)\n",
      "(docplex.mp.quad.VarPair(first=x_3,second=slack_C8_1), 8000)\n",
      "(docplex.mp.quad.VarPair(first=x_3,second=slack_C8_2), 16000)\n",
      "(docplex.mp.quad.VarPair(first=x_3,second=slack_C8_3), 32000)\n",
      "(docplex.mp.quad.VarPair(first=x_3,second=slack_C8_4), 64000)\n",
      "(docplex.mp.quad.VarPair(first=x_3,second=slack_C8_5), 128000)\n",
      "(docplex.mp.quad.VarPair(first=x_3,second=slack_C8_6), 148000)\n",
      "(docplex.mp.quad.VarPair(first=x_4,second=x_9), 480000.0)\n",
      "(docplex.mp.quad.VarPair(first=x_4,second=x_10), 480000.0)\n",
      "(docplex.mp.quad.VarPair(first=x_4,second=x_11), 480000.0)\n",
      "(docplex.mp.quad.VarPair(first=x_4,second=x_13), 168000.0)\n",
      "(docplex.mp.quad.VarPair(first=x_4,second=x_14), 168000.0)\n",
      "(docplex.mp.quad.VarPair(first=x_4,second=x_15), 168000.0)\n",
      "(docplex.mp.quad.VarPair(first=x_4,second=slack_C8_0), 6000.0)\n",
      "(docplex.mp.quad.VarPair(first=x_4,second=slack_C8_1), 12000.0)\n",
      "(docplex.mp.quad.VarPair(first=x_4,second=slack_C8_2), 24000.0)\n",
      "(docplex.mp.quad.VarPair(first=x_4,second=slack_C8_3), 48000.0)\n",
      "(docplex.mp.quad.VarPair(first=x_4,second=slack_C8_4), 96000.0)\n",
      "(docplex.mp.quad.VarPair(first=x_4,second=slack_C8_5), 192000.0)\n",
      "(docplex.mp.quad.VarPair(first=x_4,second=slack_C8_6), 222000.0)\n",
      "(docplex.mp.quad.VarPair(first=x_5,second=x_8), 480000.0)\n",
      "(docplex.mp.quad.VarPair(first=x_5,second=x_10), 480000.0)\n",
      "(docplex.mp.quad.VarPair(first=x_5,second=x_11), 480000.0)\n",
      "(docplex.mp.quad.VarPair(first=x_5,second=x_12), 168000.0)\n",
      "(docplex.mp.quad.VarPair(first=x_5,second=x_14), 168000.0)\n",
      "(docplex.mp.quad.VarPair(first=x_5,second=x_15), 168000.0)\n",
      "(docplex.mp.quad.VarPair(first=x_5,second=slack_C8_0), 6000.0)\n",
      "(docplex.mp.quad.VarPair(first=x_5,second=slack_C8_1), 12000.0)\n",
      "(docplex.mp.quad.VarPair(first=x_5,second=slack_C8_2), 24000.0)\n",
      "(docplex.mp.quad.VarPair(first=x_5,second=slack_C8_3), 48000.0)\n",
      "(docplex.mp.quad.VarPair(first=x_5,second=slack_C8_4), 96000.0)\n",
      "(docplex.mp.quad.VarPair(first=x_5,second=slack_C8_5), 192000.0)\n",
      "(docplex.mp.quad.VarPair(first=x_5,second=slack_C8_6), 222000.0)\n",
      "(docplex.mp.quad.VarPair(first=x_6,second=x_8), 480000.0)\n",
      "(docplex.mp.quad.VarPair(first=x_6,second=x_9), 480000.0)\n",
      "(docplex.mp.quad.VarPair(first=x_6,second=x_11), 480000.0)\n",
      "(docplex.mp.quad.VarPair(first=x_6,second=x_12), 168000.0)\n",
      "(docplex.mp.quad.VarPair(first=x_6,second=x_13), 168000.0)\n",
      "(docplex.mp.quad.VarPair(first=x_6,second=x_15), 168000.0)\n",
      "(docplex.mp.quad.VarPair(first=x_6,second=slack_C8_0), 6000.0)\n",
      "(docplex.mp.quad.VarPair(first=x_6,second=slack_C8_1), 12000.0)\n",
      "(docplex.mp.quad.VarPair(first=x_6,second=slack_C8_2), 24000.0)\n",
      "(docplex.mp.quad.VarPair(first=x_6,second=slack_C8_3), 48000.0)\n",
      "(docplex.mp.quad.VarPair(first=x_6,second=slack_C8_4), 96000.0)\n",
      "(docplex.mp.quad.VarPair(first=x_6,second=slack_C8_5), 192000.0)\n",
      "(docplex.mp.quad.VarPair(first=x_6,second=slack_C8_6), 222000.0)\n",
      "(docplex.mp.quad.VarPair(first=x_7,second=x_8), 480000.0)\n",
      "(docplex.mp.quad.VarPair(first=x_7,second=x_9), 480000.0)\n",
      "(docplex.mp.quad.VarPair(first=x_7,second=x_10), 480000.0)\n",
      "(docplex.mp.quad.VarPair(first=x_7,second=x_12), 168000.0)\n",
      "(docplex.mp.quad.VarPair(first=x_7,second=x_13), 168000.0)\n",
      "(docplex.mp.quad.VarPair(first=x_7,second=x_14), 168000.0)\n",
      "(docplex.mp.quad.VarPair(first=x_7,second=slack_C8_0), 6000.0)\n",
      "(docplex.mp.quad.VarPair(first=x_7,second=slack_C8_1), 12000.0)\n",
      "(docplex.mp.quad.VarPair(first=x_7,second=slack_C8_2), 24000.0)\n",
      "(docplex.mp.quad.VarPair(first=x_7,second=slack_C8_3), 48000.0)\n",
      "(docplex.mp.quad.VarPair(first=x_7,second=slack_C8_4), 96000.0)\n",
      "(docplex.mp.quad.VarPair(first=x_7,second=slack_C8_5), 192000.0)\n",
      "(docplex.mp.quad.VarPair(first=x_7,second=slack_C8_6), 222000.0)\n",
      "(docplex.mp.quad.VarPair(first=x_8,second=x_13), 448000)\n",
      "(docplex.mp.quad.VarPair(first=x_8,second=x_14), 448000)\n",
      "(docplex.mp.quad.VarPair(first=x_8,second=x_15), 448000)\n",
      "(docplex.mp.quad.VarPair(first=x_8,second=slack_C8_0), 16000)\n",
      "(docplex.mp.quad.VarPair(first=x_8,second=slack_C8_1), 32000)\n",
      "(docplex.mp.quad.VarPair(first=x_8,second=slack_C8_2), 64000)\n",
      "(docplex.mp.quad.VarPair(first=x_8,second=slack_C8_3), 128000)\n",
      "(docplex.mp.quad.VarPair(first=x_8,second=slack_C8_4), 256000)\n",
      "(docplex.mp.quad.VarPair(first=x_8,second=slack_C8_5), 512000)\n",
      "(docplex.mp.quad.VarPair(first=x_8,second=slack_C8_6), 592000)\n",
      "(docplex.mp.quad.VarPair(first=x_9,second=x_12), 448000)\n",
      "(docplex.mp.quad.VarPair(first=x_9,second=x_14), 448000)\n",
      "(docplex.mp.quad.VarPair(first=x_9,second=x_15), 448000)\n",
      "(docplex.mp.quad.VarPair(first=x_9,second=slack_C8_0), 16000)\n",
      "(docplex.mp.quad.VarPair(first=x_9,second=slack_C8_1), 32000)\n",
      "(docplex.mp.quad.VarPair(first=x_9,second=slack_C8_2), 64000)\n",
      "(docplex.mp.quad.VarPair(first=x_9,second=slack_C8_3), 128000)\n",
      "(docplex.mp.quad.VarPair(first=x_9,second=slack_C8_4), 256000)\n",
      "(docplex.mp.quad.VarPair(first=x_9,second=slack_C8_5), 512000)\n",
      "(docplex.mp.quad.VarPair(first=x_9,second=slack_C8_6), 592000)\n",
      "(docplex.mp.quad.VarPair(first=x_10,second=x_12), 448000)\n",
      "(docplex.mp.quad.VarPair(first=x_10,second=x_13), 448000)\n",
      "(docplex.mp.quad.VarPair(first=x_10,second=x_15), 448000)\n",
      "(docplex.mp.quad.VarPair(first=x_10,second=slack_C8_0), 16000)\n",
      "(docplex.mp.quad.VarPair(first=x_10,second=slack_C8_1), 32000)\n",
      "(docplex.mp.quad.VarPair(first=x_10,second=slack_C8_2), 64000)\n",
      "(docplex.mp.quad.VarPair(first=x_10,second=slack_C8_3), 128000)\n",
      "(docplex.mp.quad.VarPair(first=x_10,second=slack_C8_4), 256000)\n",
      "(docplex.mp.quad.VarPair(first=x_10,second=slack_C8_5), 512000)\n",
      "(docplex.mp.quad.VarPair(first=x_10,second=slack_C8_6), 592000)\n",
      "(docplex.mp.quad.VarPair(first=x_11,second=x_12), 448000)\n",
      "(docplex.mp.quad.VarPair(first=x_11,second=x_13), 448000)\n",
      "(docplex.mp.quad.VarPair(first=x_11,second=x_14), 448000)\n",
      "(docplex.mp.quad.VarPair(first=x_11,second=slack_C8_0), 16000)\n",
      "(docplex.mp.quad.VarPair(first=x_11,second=slack_C8_1), 32000)\n",
      "(docplex.mp.quad.VarPair(first=x_11,second=slack_C8_2), 64000)\n",
      "(docplex.mp.quad.VarPair(first=x_11,second=slack_C8_3), 128000)\n",
      "(docplex.mp.quad.VarPair(first=x_11,second=slack_C8_4), 256000)\n",
      "(docplex.mp.quad.VarPair(first=x_11,second=slack_C8_5), 512000)\n",
      "(docplex.mp.quad.VarPair(first=x_11,second=slack_C8_6), 592000)\n",
      "(docplex.mp.quad.VarPair(first=x_12,second=slack_C8_0), 5600)\n",
      "(docplex.mp.quad.VarPair(first=x_12,second=slack_C8_1), 11200)\n",
      "(docplex.mp.quad.VarPair(first=x_12,second=slack_C8_2), 22400)\n",
      "(docplex.mp.quad.VarPair(first=x_12,second=slack_C8_3), 44800)\n",
      "(docplex.mp.quad.VarPair(first=x_12,second=slack_C8_4), 89600)\n",
      "(docplex.mp.quad.VarPair(first=x_12,second=slack_C8_5), 179200)\n",
      "(docplex.mp.quad.VarPair(first=x_12,second=slack_C8_6), 207200)\n",
      "(docplex.mp.quad.VarPair(first=x_13,second=slack_C8_0), 5600)\n",
      "(docplex.mp.quad.VarPair(first=x_13,second=slack_C8_1), 11200)\n",
      "(docplex.mp.quad.VarPair(first=x_13,second=slack_C8_2), 22400)\n",
      "(docplex.mp.quad.VarPair(first=x_13,second=slack_C8_3), 44800)\n",
      "(docplex.mp.quad.VarPair(first=x_13,second=slack_C8_4), 89600)\n",
      "(docplex.mp.quad.VarPair(first=x_13,second=slack_C8_5), 179200)\n",
      "(docplex.mp.quad.VarPair(first=x_13,second=slack_C8_6), 207200)\n",
      "(docplex.mp.quad.VarPair(first=x_14,second=slack_C8_0), 5600)\n",
      "(docplex.mp.quad.VarPair(first=x_14,second=slack_C8_1), 11200)\n",
      "(docplex.mp.quad.VarPair(first=x_14,second=slack_C8_2), 22400)\n",
      "(docplex.mp.quad.VarPair(first=x_14,second=slack_C8_3), 44800)\n",
      "(docplex.mp.quad.VarPair(first=x_14,second=slack_C8_4), 89600)\n",
      "(docplex.mp.quad.VarPair(first=x_14,second=slack_C8_5), 179200)\n",
      "(docplex.mp.quad.VarPair(first=x_14,second=slack_C8_6), 207200)\n",
      "(docplex.mp.quad.VarPair(first=x_15,second=slack_C8_0), 5600)\n",
      "(docplex.mp.quad.VarPair(first=x_15,second=slack_C8_1), 11200)\n",
      "(docplex.mp.quad.VarPair(first=x_15,second=slack_C8_2), 22400)\n",
      "(docplex.mp.quad.VarPair(first=x_15,second=slack_C8_3), 44800)\n",
      "(docplex.mp.quad.VarPair(first=x_15,second=slack_C8_4), 89600)\n",
      "(docplex.mp.quad.VarPair(first=x_15,second=slack_C8_5), 179200)\n",
      "(docplex.mp.quad.VarPair(first=x_15,second=slack_C8_6), 207200)\n",
      "(docplex.mp.quad.VarPair(first=slack_C8_0,second=slack_C8_0), 100)\n",
      "(docplex.mp.quad.VarPair(first=slack_C8_0,second=slack_C8_1), 400)\n",
      "(docplex.mp.quad.VarPair(first=slack_C8_0,second=slack_C8_2), 800)\n",
      "(docplex.mp.quad.VarPair(first=slack_C8_0,second=slack_C8_3), 1600)\n",
      "(docplex.mp.quad.VarPair(first=slack_C8_0,second=slack_C8_4), 3200)\n",
      "(docplex.mp.quad.VarPair(first=slack_C8_0,second=slack_C8_5), 6400)\n",
      "(docplex.mp.quad.VarPair(first=slack_C8_0,second=slack_C8_6), 7400)\n",
      "(docplex.mp.quad.VarPair(first=slack_C8_1,second=slack_C8_1), 400)\n",
      "(docplex.mp.quad.VarPair(first=slack_C8_1,second=slack_C8_2), 1600)\n",
      "(docplex.mp.quad.VarPair(first=slack_C8_1,second=slack_C8_3), 3200)\n",
      "(docplex.mp.quad.VarPair(first=slack_C8_1,second=slack_C8_4), 6400)\n",
      "(docplex.mp.quad.VarPair(first=slack_C8_1,second=slack_C8_5), 12800)\n",
      "(docplex.mp.quad.VarPair(first=slack_C8_1,second=slack_C8_6), 14800)\n",
      "(docplex.mp.quad.VarPair(first=slack_C8_2,second=slack_C8_2), 1600)\n",
      "(docplex.mp.quad.VarPair(first=slack_C8_2,second=slack_C8_3), 6400)\n",
      "(docplex.mp.quad.VarPair(first=slack_C8_2,second=slack_C8_4), 12800)\n",
      "(docplex.mp.quad.VarPair(first=slack_C8_2,second=slack_C8_5), 25600)\n",
      "(docplex.mp.quad.VarPair(first=slack_C8_2,second=slack_C8_6), 29600)\n",
      "(docplex.mp.quad.VarPair(first=slack_C8_3,second=slack_C8_3), 6400)\n",
      "(docplex.mp.quad.VarPair(first=slack_C8_3,second=slack_C8_4), 25600)\n",
      "(docplex.mp.quad.VarPair(first=slack_C8_3,second=slack_C8_5), 51200)\n",
      "(docplex.mp.quad.VarPair(first=slack_C8_3,second=slack_C8_6), 59200)\n",
      "(docplex.mp.quad.VarPair(first=slack_C8_4,second=slack_C8_4), 25600)\n",
      "(docplex.mp.quad.VarPair(first=slack_C8_4,second=slack_C8_5), 102400)\n",
      "(docplex.mp.quad.VarPair(first=slack_C8_4,second=slack_C8_6), 118400)\n",
      "(docplex.mp.quad.VarPair(first=slack_C8_5,second=slack_C8_5), 102400)\n",
      "(docplex.mp.quad.VarPair(first=slack_C8_5,second=slack_C8_6), 236800)\n",
      "(docplex.mp.quad.VarPair(first=slack_C8_6,second=slack_C8_6), 136900)\n"
     ]
    },
    {
     "data": {
      "text/plain": [
       "(<openqaoa.problems.qubo.QUBO at 0x29ab8dbde70>, docplex.mp.Model['ALO'])"
      ]
     },
     "execution_count": 18,
     "metadata": {},
     "output_type": "execute_result"
    }
   ],
   "source": [
    "alo = ALOClassic(inst)\n",
    "alo.to_qubo_and_ising(unbalanced=False,debug=True)"
   ]
  },
  {
   "cell_type": "code",
   "execution_count": 19,
   "id": "68d10b26-035d-4f4e-b550-fd8792bd0b55",
   "metadata": {
    "scrolled": true
   },
   "outputs": [
    {
     "name": "stdout",
     "output_type": "stream",
     "text": [
      "GENERAL OPTIMIZATION FORM:\n",
      "-40x_4*x_5-40x_5*x_6-40x_6*x_7-20x_0-20x_1-20x_2-20x_3-10x_4-10x_5-10x_6-10x_7-80x_8-80x_9-80x_10-80x_11-28x_12-28x_13-28x_14-28x_15 \n",
      "\n",
      "constraints:\n",
      "no overlaps: 0.500x_0+x_4+x_8+x_12 == 1\n",
      "no overlaps: 0.500x_1+x_5+x_9+x_13 == 1\n",
      "no overlaps: 0.500x_2+x_6+x_10+x_14 == 1\n",
      "no overlaps: 0.500x_3+x_7+x_11+x_15 == 1\n",
      "no duplicates: x_0+x_1+x_2+x_3 == 1\n",
      "no duplicates: 0.500x_4+0.500x_5+0.500x_6+0.500x_7 == 1\n",
      "no duplicates: x_8+x_9+x_10+x_11 == 1\n",
      "no duplicates: x_12+x_13+x_14+x_15 == 1\n",
      "maximum capacity: 20x_0+20x_1+20x_2+20x_3+30x_4+30x_5+30x_6+30x_7+80x_8+80x_9+80x_10+80x_11+28x_12+28x_13+28x_14+28x_15 <= 100\n",
      "QUBO FORM:\n",
      "linear terms:\n",
      "(docplex.mp.Var(type=B,name='x_0'), -449.194)\n",
      "(docplex.mp.Var(type=B,name='x_1'), -449.194)\n",
      "(docplex.mp.Var(type=B,name='x_2'), -449.194)\n",
      "(docplex.mp.Var(type=B,name='x_3'), -449.194)\n",
      "(docplex.mp.Var(type=B,name='x_4'), -503.791)\n",
      "(docplex.mp.Var(type=B,name='x_5'), -503.791)\n",
      "(docplex.mp.Var(type=B,name='x_6'), -503.791)\n",
      "(docplex.mp.Var(type=B,name='x_7'), -503.791)\n",
      "(docplex.mp.Var(type=B,name='x_8'), -996.7760000000001)\n",
      "(docplex.mp.Var(type=B,name='x_9'), -996.7760000000001)\n",
      "(docplex.mp.Var(type=B,name='x_10'), -996.7760000000001)\n",
      "(docplex.mp.Var(type=B,name='x_11'), -996.7760000000001)\n",
      "(docplex.mp.Var(type=B,name='x_12'), -608.8716000000001)\n",
      "(docplex.mp.Var(type=B,name='x_13'), -608.8716000000001)\n",
      "(docplex.mp.Var(type=B,name='x_14'), -608.8716000000001)\n",
      "(docplex.mp.Var(type=B,name='x_15'), -608.8716000000001)\n",
      "\n",
      "quad. terms:\n",
      "(docplex.mp.quad.VarPair(first=x_4,second=x_5), 76.78)\n",
      "(docplex.mp.quad.VarPair(first=x_5,second=x_6), 76.78)\n",
      "(docplex.mp.quad.VarPair(first=x_6,second=x_7), 76.78)\n",
      "(docplex.mp.quad.VarPair(first=x_0,second=x_0), 139.84)\n",
      "(docplex.mp.quad.VarPair(first=x_0,second=x_4), 144.52)\n",
      "(docplex.mp.quad.VarPair(first=x_0,second=x_8), 218.72)\n",
      "(docplex.mp.quad.VarPair(first=x_0,second=x_12), 141.552)\n",
      "(docplex.mp.quad.VarPair(first=x_4,second=x_4), 158.39)\n",
      "(docplex.mp.quad.VarPair(first=x_4,second=x_8), 378.08000000000004)\n",
      "(docplex.mp.quad.VarPair(first=x_4,second=x_12), 262.328)\n",
      "(docplex.mp.quad.VarPair(first=x_8,second=x_8), 437.44)\n",
      "(docplex.mp.quad.VarPair(first=x_8,second=x_12), 366.20799999999997)\n",
      "(docplex.mp.quad.VarPair(first=x_12,second=x_12), 229.0864)\n",
      "(docplex.mp.quad.VarPair(first=x_1,second=x_1), 139.84)\n",
      "(docplex.mp.quad.VarPair(first=x_1,second=x_5), 144.52)\n",
      "(docplex.mp.quad.VarPair(first=x_1,second=x_9), 218.72)\n",
      "(docplex.mp.quad.VarPair(first=x_1,second=x_13), 141.552)\n",
      "(docplex.mp.quad.VarPair(first=x_5,second=x_5), 158.39)\n",
      "(docplex.mp.quad.VarPair(first=x_5,second=x_9), 378.08000000000004)\n",
      "(docplex.mp.quad.VarPair(first=x_5,second=x_13), 262.328)\n",
      "(docplex.mp.quad.VarPair(first=x_9,second=x_9), 437.44)\n",
      "(docplex.mp.quad.VarPair(first=x_9,second=x_13), 366.20799999999997)\n",
      "(docplex.mp.quad.VarPair(first=x_13,second=x_13), 229.0864)\n",
      "(docplex.mp.quad.VarPair(first=x_2,second=x_2), 139.84)\n",
      "(docplex.mp.quad.VarPair(first=x_2,second=x_6), 144.52)\n",
      "(docplex.mp.quad.VarPair(first=x_2,second=x_10), 218.72)\n",
      "(docplex.mp.quad.VarPair(first=x_2,second=x_14), 141.552)\n",
      "(docplex.mp.quad.VarPair(first=x_6,second=x_6), 158.39)\n",
      "(docplex.mp.quad.VarPair(first=x_6,second=x_10), 378.08000000000004)\n",
      "(docplex.mp.quad.VarPair(first=x_6,second=x_14), 262.328)\n",
      "(docplex.mp.quad.VarPair(first=x_10,second=x_10), 437.44)\n",
      "(docplex.mp.quad.VarPair(first=x_10,second=x_14), 366.20799999999997)\n",
      "(docplex.mp.quad.VarPair(first=x_14,second=x_14), 229.0864)\n",
      "(docplex.mp.quad.VarPair(first=x_3,second=x_3), 139.84)\n",
      "(docplex.mp.quad.VarPair(first=x_3,second=x_7), 144.52)\n",
      "(docplex.mp.quad.VarPair(first=x_3,second=x_11), 218.72)\n",
      "(docplex.mp.quad.VarPair(first=x_3,second=x_15), 141.552)\n",
      "(docplex.mp.quad.VarPair(first=x_7,second=x_7), 158.39)\n",
      "(docplex.mp.quad.VarPair(first=x_7,second=x_11), 378.08000000000004)\n",
      "(docplex.mp.quad.VarPair(first=x_7,second=x_15), 262.328)\n",
      "(docplex.mp.quad.VarPair(first=x_11,second=x_11), 437.44)\n",
      "(docplex.mp.quad.VarPair(first=x_11,second=x_15), 366.20799999999997)\n",
      "(docplex.mp.quad.VarPair(first=x_15,second=x_15), 229.0864)\n",
      "(docplex.mp.quad.VarPair(first=x_0,second=x_1), 229.68)\n",
      "(docplex.mp.quad.VarPair(first=x_0,second=x_2), 229.68)\n",
      "(docplex.mp.quad.VarPair(first=x_0,second=x_3), 229.68)\n",
      "(docplex.mp.quad.VarPair(first=x_1,second=x_2), 229.68)\n",
      "(docplex.mp.quad.VarPair(first=x_1,second=x_3), 229.68)\n",
      "(docplex.mp.quad.VarPair(first=x_2,second=x_3), 229.68)\n",
      "(docplex.mp.quad.VarPair(first=x_4,second=x_6), 116.78)\n",
      "(docplex.mp.quad.VarPair(first=x_4,second=x_7), 116.78)\n",
      "(docplex.mp.quad.VarPair(first=x_5,second=x_7), 116.78)\n",
      "(docplex.mp.quad.VarPair(first=x_8,second=x_9), 674.88)\n",
      "(docplex.mp.quad.VarPair(first=x_8,second=x_10), 674.88)\n",
      "(docplex.mp.quad.VarPair(first=x_8,second=x_11), 674.88)\n",
      "(docplex.mp.quad.VarPair(first=x_9,second=x_10), 674.88)\n",
      "(docplex.mp.quad.VarPair(first=x_9,second=x_11), 674.88)\n",
      "(docplex.mp.quad.VarPair(first=x_10,second=x_11), 674.88)\n",
      "(docplex.mp.quad.VarPair(first=x_12,second=x_13), 258.1728)\n",
      "(docplex.mp.quad.VarPair(first=x_12,second=x_14), 258.1728)\n",
      "(docplex.mp.quad.VarPair(first=x_12,second=x_15), 258.1728)\n",
      "(docplex.mp.quad.VarPair(first=x_13,second=x_14), 258.1728)\n",
      "(docplex.mp.quad.VarPair(first=x_13,second=x_15), 258.1728)\n",
      "(docplex.mp.quad.VarPair(first=x_14,second=x_15), 258.1728)\n",
      "(docplex.mp.quad.VarPair(first=x_0,second=x_5), 44.52)\n",
      "(docplex.mp.quad.VarPair(first=x_0,second=x_6), 44.52)\n",
      "(docplex.mp.quad.VarPair(first=x_0,second=x_7), 44.52)\n",
      "(docplex.mp.quad.VarPair(first=x_0,second=x_9), 118.72)\n",
      "(docplex.mp.quad.VarPair(first=x_0,second=x_10), 118.72)\n",
      "(docplex.mp.quad.VarPair(first=x_0,second=x_11), 118.72)\n",
      "(docplex.mp.quad.VarPair(first=x_0,second=x_13), 41.552)\n",
      "(docplex.mp.quad.VarPair(first=x_0,second=x_14), 41.552)\n",
      "(docplex.mp.quad.VarPair(first=x_0,second=x_15), 41.552)\n",
      "(docplex.mp.quad.VarPair(first=x_1,second=x_4), 44.52)\n",
      "(docplex.mp.quad.VarPair(first=x_1,second=x_6), 44.52)\n",
      "(docplex.mp.quad.VarPair(first=x_1,second=x_7), 44.52)\n",
      "(docplex.mp.quad.VarPair(first=x_1,second=x_8), 118.72)\n",
      "(docplex.mp.quad.VarPair(first=x_1,second=x_10), 118.72)\n",
      "(docplex.mp.quad.VarPair(first=x_1,second=x_11), 118.72)\n",
      "(docplex.mp.quad.VarPair(first=x_1,second=x_12), 41.552)\n",
      "(docplex.mp.quad.VarPair(first=x_1,second=x_14), 41.552)\n",
      "(docplex.mp.quad.VarPair(first=x_1,second=x_15), 41.552)\n",
      "(docplex.mp.quad.VarPair(first=x_2,second=x_4), 44.52)\n",
      "(docplex.mp.quad.VarPair(first=x_2,second=x_5), 44.52)\n",
      "(docplex.mp.quad.VarPair(first=x_2,second=x_7), 44.52)\n",
      "(docplex.mp.quad.VarPair(first=x_2,second=x_8), 118.72)\n",
      "(docplex.mp.quad.VarPair(first=x_2,second=x_9), 118.72)\n",
      "(docplex.mp.quad.VarPair(first=x_2,second=x_11), 118.72)\n",
      "(docplex.mp.quad.VarPair(first=x_2,second=x_12), 41.552)\n",
      "(docplex.mp.quad.VarPair(first=x_2,second=x_13), 41.552)\n",
      "(docplex.mp.quad.VarPair(first=x_2,second=x_15), 41.552)\n",
      "(docplex.mp.quad.VarPair(first=x_3,second=x_4), 44.52)\n",
      "(docplex.mp.quad.VarPair(first=x_3,second=x_5), 44.52)\n",
      "(docplex.mp.quad.VarPair(first=x_3,second=x_6), 44.52)\n",
      "(docplex.mp.quad.VarPair(first=x_3,second=x_8), 118.72)\n",
      "(docplex.mp.quad.VarPair(first=x_3,second=x_9), 118.72)\n",
      "(docplex.mp.quad.VarPair(first=x_3,second=x_10), 118.72)\n",
      "(docplex.mp.quad.VarPair(first=x_3,second=x_12), 41.552)\n",
      "(docplex.mp.quad.VarPair(first=x_3,second=x_13), 41.552)\n",
      "(docplex.mp.quad.VarPair(first=x_3,second=x_14), 41.552)\n",
      "(docplex.mp.quad.VarPair(first=x_4,second=x_9), 178.08)\n",
      "(docplex.mp.quad.VarPair(first=x_4,second=x_10), 178.08)\n",
      "(docplex.mp.quad.VarPair(first=x_4,second=x_11), 178.08)\n",
      "(docplex.mp.quad.VarPair(first=x_4,second=x_13), 62.328)\n",
      "(docplex.mp.quad.VarPair(first=x_4,second=x_14), 62.328)\n",
      "(docplex.mp.quad.VarPair(first=x_4,second=x_15), 62.328)\n",
      "(docplex.mp.quad.VarPair(first=x_5,second=x_8), 178.08)\n",
      "(docplex.mp.quad.VarPair(first=x_5,second=x_10), 178.08)\n",
      "(docplex.mp.quad.VarPair(first=x_5,second=x_11), 178.08)\n",
      "(docplex.mp.quad.VarPair(first=x_5,second=x_12), 62.328)\n",
      "(docplex.mp.quad.VarPair(first=x_5,second=x_14), 62.328)\n",
      "(docplex.mp.quad.VarPair(first=x_5,second=x_15), 62.328)\n",
      "(docplex.mp.quad.VarPair(first=x_6,second=x_8), 178.08)\n",
      "(docplex.mp.quad.VarPair(first=x_6,second=x_9), 178.08)\n",
      "(docplex.mp.quad.VarPair(first=x_6,second=x_11), 178.08)\n",
      "(docplex.mp.quad.VarPair(first=x_6,second=x_12), 62.328)\n",
      "(docplex.mp.quad.VarPair(first=x_6,second=x_13), 62.328)\n",
      "(docplex.mp.quad.VarPair(first=x_6,second=x_15), 62.328)\n",
      "(docplex.mp.quad.VarPair(first=x_7,second=x_8), 178.08)\n",
      "(docplex.mp.quad.VarPair(first=x_7,second=x_9), 178.08)\n",
      "(docplex.mp.quad.VarPair(first=x_7,second=x_10), 178.08)\n",
      "(docplex.mp.quad.VarPair(first=x_7,second=x_12), 62.328)\n",
      "(docplex.mp.quad.VarPair(first=x_7,second=x_13), 62.328)\n",
      "(docplex.mp.quad.VarPair(first=x_7,second=x_14), 62.328)\n",
      "(docplex.mp.quad.VarPair(first=x_8,second=x_13), 166.208)\n",
      "(docplex.mp.quad.VarPair(first=x_8,second=x_14), 166.208)\n",
      "(docplex.mp.quad.VarPair(first=x_8,second=x_15), 166.208)\n",
      "(docplex.mp.quad.VarPair(first=x_9,second=x_12), 166.208)\n",
      "(docplex.mp.quad.VarPair(first=x_9,second=x_14), 166.208)\n",
      "(docplex.mp.quad.VarPair(first=x_9,second=x_15), 166.208)\n",
      "(docplex.mp.quad.VarPair(first=x_10,second=x_12), 166.208)\n",
      "(docplex.mp.quad.VarPair(first=x_10,second=x_13), 166.208)\n",
      "(docplex.mp.quad.VarPair(first=x_10,second=x_15), 166.208)\n",
      "(docplex.mp.quad.VarPair(first=x_11,second=x_12), 166.208)\n",
      "(docplex.mp.quad.VarPair(first=x_11,second=x_13), 166.208)\n",
      "(docplex.mp.quad.VarPair(first=x_11,second=x_14), 166.208)\n"
     ]
    },
    {
     "data": {
      "text/plain": [
       "(<openqaoa.problems.qubo.QUBO at 0x29ab8de4070>, docplex.mp.Model['ALO'])"
      ]
     },
     "execution_count": 19,
     "metadata": {},
     "output_type": "execute_result"
    }
   ],
   "source": [
    "alo = ALOClassic(inst)\n",
    "alo.to_qubo_and_ising(unbalanced=True,debug=True)"
   ]
  },
  {
   "cell_type": "code",
   "execution_count": 28,
   "id": "aaf5a403-32cf-4753-8464-f9413df39772",
   "metadata": {
    "scrolled": true
   },
   "outputs": [
    {
     "data": {
      "image/png": "[encoded data removed]",
      "text/plain": [
       "<Figure size 400x100 with 1 Axes>"
      ]
     },
     "metadata": {},
     "output_type": "display_data"
    },
    {
     "data": {
      "image/png": "[encoded data removed]",
      "text/plain": [
       "<Figure size 400x100 with 1 Axes>"
      ]
     },
     "metadata": {},
     "output_type": "display_data"
    },
    {
     "data": {
      "image/png": "[encoded data removed]",
      "text/plain": [
       "<Figure size 400x150 with 1 Axes>"
      ]
     },
     "metadata": {},
     "output_type": "display_data"
    },
    {
     "data": {
      "image/png": "[encoded data removed]",
      "text/plain": [
       "<Figure size 400x200 with 1 Axes>"
      ]
     },
     "metadata": {},
     "output_type": "display_data"
    },
    {
     "data": {
      "text/plain": [
       "[[[0, 1], [0, 1], [0, 1], [0, 1]],\n",
       " [[2, 3], [2, 3], [2, 3], [2, 3]],\n",
       " [[0, 2, 3], [1, 2, 3], [0, 2, 3], [1, 2, 3]],\n",
       " [[0, 1, 2, 3], [0, 1, 2, 3], [0, 1, 2, 3], [0, 1, 2, 3]]]"
      ]
     },
     "execution_count": 28,
     "metadata": {},
     "output_type": "execute_result"
    }
   ],
   "source": [
    "# not neccesary feasible solutions\n",
    "sols = []\n",
    "#sols.append(alo.quboSolution_to_standardSolution('0000000000000000',draw=True))\n",
    "sols.append(alo.quboSolution_to_standardSolution('1111111100000000',draw=True))\n",
    "sols.append(alo.quboSolution_to_standardSolution('0000000011111111',draw=True))\n",
    "sols.append(alo.quboSolution_to_standardSolution('1010010111111111',draw=True))\n",
    "sols.append(alo.quboSolution_to_standardSolution('1111111111111111',draw=True))\n",
    "sols"
   ]
  },
  {
   "cell_type": "code",
   "execution_count": 6,
   "id": "5858d2a3-b6ee-4c9b-94ff-5dd9af95b975",
   "metadata": {
    "scrolled": true
   },
   "outputs": [
    {
     "data": {
      "image/png": "[encoded data removed]",
      "text/plain": [
       "<Figure size 400x100 with 1 Axes>"
      ]
     },
     "metadata": {},
     "output_type": "display_data"
    },
    {
     "data": {
      "image/png": "[encoded data removed]",
      "text/plain": [
       "<Figure size 400x100 with 1 Axes>"
      ]
     },
     "metadata": {},
     "output_type": "display_data"
    },
    {
     "data": {
      "image/png": "[encoded data removed]",
      "text/plain": [
       "<Figure size 400x150 with 1 Axes>"
      ]
     },
     "metadata": {},
     "output_type": "display_data"
    },
    {
     "data": {
      "image/png": "[encoded data removed]",
      "text/plain": [
       "<Figure size 400x200 with 1 Axes>"
      ]
     },
     "metadata": {},
     "output_type": "display_data"
    }
   ],
   "source": [
    "for s in sols:\n",
    "    alo.draw_standard_solution(s,4)"
   ]
  },
  {
   "cell_type": "code",
   "execution_count": 7,
   "id": "85a1b58e-4bdd-4b87-bf87-7cc18acc2124",
   "metadata": {},
   "outputs": [
    {
     "data": {
      "image/png": "[encoded data removed]",
      "text/plain": [
       "<Figure size 400x50 with 1 Axes>"
      ]
     },
     "metadata": {},
     "output_type": "display_data"
    },
    {
     "data": {
      "image/png": "[encoded data removed]",
      "text/plain": [
       "<Figure size 400x50 with 1 Axes>"
      ]
     },
     "metadata": {},
     "output_type": "display_data"
    },
    {
     "data": {
      "image/png": "[encoded data removed]",
      "text/plain": [
       "<Figure size 400x100 with 1 Axes>"
      ]
     },
     "metadata": {},
     "output_type": "display_data"
    }
   ],
   "source": [
    "sols = []\n",
    "sols.append(alo.quboSolution_to_standardSolution('1000010000100001',draw=True))\n",
    "sols.append(alo.quboSolution_to_standardSolution('1100001100000000',draw=True))\n",
    "sols.append(alo.quboSolution_to_standardSolution('1100000100010010',draw=True))"
   ]
  },
  {
   "cell_type": "code",
   "execution_count": 8,
   "id": "82071b65-6c69-44d2-a2d0-b254834e727d",
   "metadata": {},
   "outputs": [
    {
     "data": {
      "image/png": "[encoded data removed]",
      "text/plain": [
       "<Figure size 400x50 with 1 Axes>"
      ]
     },
     "metadata": {},
     "output_type": "display_data"
    },
    {
     "data": {
      "image/png": "[encoded data removed]",
      "text/plain": [
       "<Figure size 400x50 with 1 Axes>"
      ]
     },
     "metadata": {},
     "output_type": "display_data"
    },
    {
     "data": {
      "image/png": "[encoded data removed]",
      "text/plain": [
       "<Figure size 400x100 with 1 Axes>"
      ]
     },
     "metadata": {},
     "output_type": "display_data"
    }
   ],
   "source": [
    "for s in sols:\n",
    "    alo.draw_standard_solution(s,4)"
   ]
  },
  {
   "cell_type": "code",
   "execution_count": 1,
   "id": "26125d52-d471-4b28-a189-f8c7bc0f307c",
   "metadata": {},
   "outputs": [
    {
     "name": "stdout",
     "output_type": "stream",
     "text": [
      "{'num_containers': 4, 'num_positions': 3, 'containers_weight': [75, 39, 17, 7], 'containers_type': [3, 2, 1, 2], 't_list': [0.5, 1, 1, 1], 'd_list': [1, 0.5, 1, 0.5], 'max_weight': 100, 'allBinaryVariables': [0, 1, 2, 3, 4, 5, 6, 7, 8, 9, 10, 11]} \n",
      "\n",
      "False\n",
      "False\n",
      "False\n",
      "False\n",
      "False\n",
      "\n",
      "True\n",
      "True\n",
      "True\n"
     ]
    }
   ],
   "source": [
    "from ALORandomGenerator import ALORandomGenerator\n",
    "from ALOClassic import ALOClassic\n",
    "import json\n",
    "\n",
    "gen = ALORandomGenerator(4,3)\n",
    "inst = {'num_containers': 4, 'num_positions': 3, 'containers_weight': [75, 39, 17, 7], 'containers_type': [3, 2, 1, 2], 't_list': [0.5, 1, 1, 1], 'd_list': [1, 0.5, 1, 0.5], 'max_weight': 100, 'allBinaryVariables': [0, 1, 2, 3, 4, 5, 6, 7, 8, 9, 10, 11]} \n",
    "alo = ALOClassic(inst)\n",
    "\n",
    "print(inst,'\\n')\n",
    "\n",
    "print(alo.violate_no_overlaps('000000000000')) # False\n",
    "print(alo.violate_no_overlaps('100000000000')) # False\n",
    "print(alo.violate_no_overlaps('111000000000')) # False\n",
    "print(alo.violate_no_overlaps('100010000000')) # False\n",
    "print(alo.violate_no_overlaps('000001000001')) # False\n",
    "print()\n",
    "print(alo.violate_no_overlaps('100100000000')) # True\n",
    "print(alo.violate_no_overlaps('000010010000')) # True\n",
    "print(alo.violate_no_overlaps('001000001000')) # True"
   ]
  },
  {
   "cell_type": "code",
   "execution_count": 2,
   "id": "63622225-09ae-437a-84f6-fb2a735595e9",
   "metadata": {},
   "outputs": [
    {
     "name": "stdout",
     "output_type": "stream",
     "text": [
      "False\n",
      "False\n",
      "False\n",
      "False\n",
      "False\n",
      "\n",
      "True\n",
      "True\n"
     ]
    }
   ],
   "source": [
    "print(alo.violate_no_duplication('000000000000')) # False\n",
    "print(alo.violate_no_duplication('100000000000')) # False\n",
    "print(alo.violate_no_duplication('100100000000')) # False\n",
    "print(alo.violate_no_duplication('100100100000')) # False\n",
    "print(alo.violate_no_duplication('110000000000')) # False\n",
    "print()\n",
    "print(alo.violate_no_duplication('000101000000')) # True\n",
    "print(alo.violate_no_duplication('000000110000')) # True"
   ]
  },
  {
   "cell_type": "code",
   "execution_count": 3,
   "id": "540b1a7b-6937-4f25-94c5-dd700f8e5573",
   "metadata": {},
   "outputs": [
    {
     "name": "stdout",
     "output_type": "stream",
     "text": [
      "False\n",
      "False\n",
      "False\n",
      "False\n",
      "False\n",
      "False\n",
      "False\n",
      "\n",
      "True\n",
      "True\n",
      "True\n"
     ]
    }
   ],
   "source": [
    "gen = ALORandomGenerator(1,5)\n",
    "#inst = json.loads(gen.generate_random_instance())\n",
    "inst = {'num_containers': 2,\n",
    " 'num_positions': 5,\n",
    " 'containers_weight': [79,34],\n",
    " 'containers_type': [3,3],\n",
    " 't_list': [0.5,0.5],\n",
    " 'd_list': [1,1],\n",
    " 'max_weight': 100,\n",
    " 'allBinaryVariables': [0, 1, 2, 3, 4,5,6,7,8,9]}\n",
    "alo = ALOClassic(inst)\n",
    "\n",
    "print(alo.violate_contiguity('0000000000')) # False\n",
    "print(alo.violate_contiguity('1100000000')) # False\n",
    "print(alo.violate_contiguity('0110000000')) # False\n",
    "print(alo.violate_contiguity('0011000000')) # False\n",
    "print(alo.violate_contiguity('0001100000')) # False\n",
    "print(alo.violate_contiguity('1111000000')) # False\n",
    "print(alo.violate_contiguity('0110000011')) # False\n",
    "print()\n",
    "print(alo.violate_contiguity('1110000000')) # True\n",
    "print(alo.violate_contiguity('1010000000')) # True\n",
    "print(alo.violate_contiguity('0000010001')) # True"
   ]
  },
  {
   "cell_type": "code",
   "execution_count": 15,
   "id": "dc23a7bf-8c42-43b7-b914-e05f57bb551f",
   "metadata": {},
   "outputs": [
    {
     "name": "stdout",
     "output_type": "stream",
     "text": [
      "{'num_containers': 4, 'num_positions': 3, 'containers_weight': [75, 39, 17, 7], 'containers_type': [3, 2, 1, 2], 't_list': [0.5, 1, 1, 1], 'd_list': [1, 0.5, 1, 0.5], 'max_weight': 100, 'allBinaryVariables': [0, 1, 2, 3, 4, 5, 6, 7, 8, 9, 10, 11]} \n",
      "\n",
      "False\n",
      "False\n",
      "False\n",
      "False\n",
      "False\n",
      "False\n",
      "\n",
      "True\n",
      "True\n"
     ]
    }
   ],
   "source": [
    "inst = {'num_containers': 4, 'num_positions': 3, 'containers_weight': [75, 39, 17, 7], 'containers_type': [3, 2, 1, 2], 't_list': [0.5, 1, 1, 1], 'd_list': [1, 0.5, 1, 0.5], 'max_weight': 100, 'allBinaryVariables': [0, 1, 2, 3, 4, 5, 6, 7, 8, 9, 10, 11]} \n",
    "alo = ALOClassic(inst)\n",
    "print(inst,'\\n')\n",
    "\n",
    "print(alo.violate_maximum_weight('000000000000')) # False\n",
    "print(alo.violate_maximum_weight('100000000000')) # False\n",
    "print(alo.violate_maximum_weight('110000000000')) # False\n",
    "print(alo.violate_maximum_weight('100000100000')) # False\n",
    "print(alo.violate_maximum_weight('100000100010')) # False\n",
    "print(alo.violate_maximum_weight('000001110111')) # False\n",
    "print()\n",
    "print(alo.violate_maximum_weight('111000000000')) # True\n",
    "print(alo.violate_maximum_weight('110100000000')) # True"
   ]
  },
  {
   "cell_type": "code",
   "execution_count": 1,
   "id": "8159d247-f5c9-4cb7-b3ab-7d7784328d36",
   "metadata": {},
   "outputs": [
    {
     "name": "stdout",
     "output_type": "stream",
     "text": [
      "{'num_containers': 4, 'num_positions': 3, 'containers_weight': [75, 39, 17, 7], 'containers_type': [1, 1, 1, 1], 't_list': [1, 1, 1, 1], 'd_list': [1, 1, 1, 1], 'max_weight': 100, 'allBinaryVariables': [0, 1, 2, 3, 4, 5, 6, 7, 8, 9, 10, 11]} \n",
      "\n",
      "current comb  (0, 0, 0, 0)\n",
      "SUCCESS\n",
      "current comb  (0, 0, 0, 1)\n",
      "SUCCESS\n",
      "current comb  (0, 0, 1, 0)\n",
      "SUCCESS\n",
      "current comb  (0, 0, 1, 1)\n",
      "SUCCESS\n",
      "current comb  (0, 1, 0, 0)\n",
      "SUCCESS\n",
      "current comb  (0, 1, 0, 1)\n",
      "SUCCESS\n",
      "current comb  (0, 1, 1, 0)\n",
      "SUCCESS\n",
      "current comb  (0, 1, 1, 1)\n",
      "SUCCESS\n",
      "current comb  (1, 0, 0, 0)\n",
      "SUCCESS\n",
      "current comb  (1, 0, 0, 1)\n",
      "SUCCESS\n",
      "current comb  (1, 0, 1, 0)\n",
      "SUCCESS\n",
      "current comb  (1, 0, 1, 1)\n",
      "SUCCESS\n",
      "current comb  (1, 1, 0, 0)\n",
      "ERRO2\n",
      "current comb  (1, 1, 0, 1)\n",
      "ERRO2\n",
      "current comb  (1, 1, 1, 0)\n",
      "ERRO2\n",
      "current comb  (1, 1, 1, 1)\n",
      "ERRO1\n",
      "(1, 0, 1, 1)\n",
      "[1, 1, 1]\n",
      "position  0  , container  0\n",
      "1\n",
      "ERROR1\n",
      "position  1  , container  0\n",
      "position  1  , container  2\n",
      "1\n",
      "ERROR1\n",
      "position  2  , container  0\n",
      "position  2  , container  2\n",
      "position  2  , container  3\n",
      "1\n",
      "ERROR1\n"
     ]
    },
    {
     "data": {
      "text/plain": [
       "([[0], [2], [3]], 99)"
      ]
     },
     "execution_count": 1,
     "metadata": {},
     "output_type": "execute_result"
    }
   ],
   "source": [
    "from ALORandomGenerator import ALORandomGenerator\n",
    "from ALOClassic import ALOClassic\n",
    "import json\n",
    "\n",
    "inst = {'num_containers': 4, 'num_positions': 3, 'containers_weight': [75, 39, 17, 7], 'containers_type': [1, 1, 1, 1], 't_list': [1, 1, 1, 1], 'd_list': [1, 1, 1, 1], 'max_weight': 100, 'allBinaryVariables': [0, 1, 2, 3, 4, 5, 6, 7, 8, 9, 10, 11]} \n",
    "alo = ALOClassic(inst)\n",
    "print(inst,'\\n')\n",
    "\n",
    "alo.solve_standard_with_bruteforce()"
   ]
  },
  {
   "cell_type": "code",
   "execution_count": 2,
   "id": "7405bf54-3268-4fb4-8cdf-8b0287fa3665",
   "metadata": {},
   "outputs": [
    {
     "name": "stdout",
     "output_type": "stream",
     "text": [
      "{'num_containers': 4, 'num_positions': 3, 'containers_weight': [10, 20, 30, 20], 'containers_type': [1, 2, 2, 2], 't_list': [1, 1, 1, 1], 'd_list': [1, 0.5, 0.5, 0.5], 'max_weight': 100, 'allBinaryVariables': [0, 1, 2, 3, 4, 5, 6, 7, 8, 9, 10, 11]} \n",
      "\n",
      "current comb  (0, 0, 0, 0)\n",
      "SUCCESS\n",
      "current comb  (0, 0, 0, 1)\n",
      "SUCCESS\n",
      "current comb  (0, 0, 1, 0)\n",
      "SUCCESS\n",
      "current comb  (0, 0, 1, 1)\n",
      "SUCCESS\n",
      "current comb  (0, 1, 0, 0)\n",
      "current comb  (0, 1, 0, 1)\n",
      "current comb  (0, 1, 1, 0)\n",
      "current comb  (0, 1, 1, 1)\n",
      "SUCCESS\n",
      "current comb  (1, 0, 0, 0)\n",
      "current comb  (1, 0, 0, 1)\n",
      "current comb  (1, 0, 1, 0)\n",
      "current comb  (1, 0, 1, 1)\n",
      "current comb  (1, 1, 0, 0)\n",
      "current comb  (1, 1, 0, 1)\n",
      "current comb  (1, 1, 1, 0)\n",
      "current comb  (1, 1, 1, 1)\n",
      "SUCCESS\n",
      "(1, 1, 1, 1)\n",
      "[1, 0.5, 0.5, 0.5]\n",
      "position  0  , container  0\n",
      "1\n",
      "ERROR1\n",
      "position  1  , container  0\n",
      "position  1  , container  1\n",
      "0.5\n",
      "position  1  , container  2\n",
      "1.0\n",
      "ERROR1\n",
      "position  2  , container  0\n",
      "position  2  , container  1\n",
      "position  2  , container  2\n",
      "position  2  , container  3\n",
      "0.5\n"
     ]
    },
    {
     "data": {
      "text/plain": [
       "([[0], [1, 2], [3]], 80)"
      ]
     },
     "execution_count": 2,
     "metadata": {},
     "output_type": "execute_result"
    }
   ],
   "source": [
    "from ALORandomGenerator import ALORandomGenerator\n",
    "from ALOClassic import ALOClassic\n",
    "import json\n",
    "\n",
    "inst = {'num_containers': 4, 'num_positions': 3, 'containers_weight': [10, 20, 30,20], 'containers_type': [1, 2, 2, 2], 't_list': [1, 1, 1, 1], 'd_list': [1, 0.5, 0.5, 0.5], 'max_weight': 100, 'allBinaryVariables': [0, 1, 2, 3, 4, 5, 6, 7, 8, 9, 10, 11]} \n",
    "alo = ALOClassic(inst)\n",
    "print(inst,'\\n')\n",
    "\n",
    "alo.solve_standard_with_bruteforce()"
   ]
  },
  {
   "cell_type": "code",
   "execution_count": 3,
   "id": "9437965b-0d41-488e-a175-7b74bef9caa9",
   "metadata": {},
   "outputs": [
    {
     "name": "stdout",
     "output_type": "stream",
     "text": [
      "{'num_containers': 4, 'num_positions': 3, 'containers_weight': [75, 39, 17, 7], 'containers_type': [1, 2, 2, 2], 't_list': [1, 1, 1, 1], 'd_list': [1, 0.5, 0.5, 0.5], 'max_weight': 100, 'allBinaryVariables': [0, 1, 2, 3, 4, 5, 6, 7, 8, 9, 10, 11]} \n",
      "\n",
      "current comb  (0, 0, 0, 0)\n",
      "SUCCESS\n",
      "current comb  (0, 0, 0, 1)\n",
      "SUCCESS\n",
      "current comb  (0, 0, 1, 0)\n",
      "SUCCESS\n",
      "current comb  (0, 0, 1, 1)\n",
      "SUCCESS\n",
      "current comb  (0, 1, 0, 0)\n",
      "SUCCESS\n",
      "current comb  (0, 1, 0, 1)\n",
      "SUCCESS\n",
      "current comb  (0, 1, 1, 0)\n",
      "SUCCESS\n",
      "current comb  (0, 1, 1, 1)\n",
      "SUCCESS\n",
      "current comb  (1, 0, 0, 0)\n",
      "SUCCESS\n",
      "current comb  (1, 0, 0, 1)\n",
      "SUCCESS\n",
      "current comb  (1, 0, 1, 0)\n",
      "SUCCESS\n",
      "current comb  (1, 0, 1, 1)\n",
      "SUCCESS\n",
      "current comb  (1, 1, 0, 0)\n",
      "ERRO2\n",
      "current comb  (1, 1, 0, 1)\n",
      "ERRO2\n",
      "current comb  (1, 1, 1, 0)\n",
      "ERRO2\n",
      "current comb  (1, 1, 1, 1)\n",
      "ERRO2\n",
      "(1, 0, 1, 1)\n",
      "[1, 0.5, 0.5]\n",
      "position  0  , container  0\n",
      "1\n",
      "ERROR1\n",
      "position  1  , container  0\n",
      "position  1  , container  2\n",
      "0.5\n",
      "position  1  , container  3\n",
      "1.0\n",
      "ERROR1\n",
      "position  2  , container  0\n",
      "position  2  , container  2\n",
      "position  2  , container  3\n"
     ]
    },
    {
     "data": {
      "text/plain": [
       "([[0], [2, 3], []], 99)"
      ]
     },
     "execution_count": 3,
     "metadata": {},
     "output_type": "execute_result"
    }
   ],
   "source": [
    "from ALORandomGenerator import ALORandomGenerator\n",
    "from ALOClassic import ALOClassic\n",
    "import json\n",
    "\n",
    "inst = {'num_containers': 4, 'num_positions': 3, 'containers_weight': [75, 39, 17, 7], 'containers_type': [1, 2, 2, 2], 't_list': [1, 1, 1, 1], 'd_list': [1, 0.5, 0.5, 0.5], 'max_weight': 100, 'allBinaryVariables': [0, 1, 2, 3, 4, 5, 6, 7, 8, 9, 10, 11]} \n",
    "alo = ALOClassic(inst)\n",
    "print(inst,'\\n')\n",
    "\n",
    "alo.solve_standard_with_bruteforce()"
   ]
  },
  {
   "cell_type": "code",
   "execution_count": 4,
   "id": "157b63d0-d5a5-49a8-91d7-f1e4a2b9e96e",
   "metadata": {},
   "outputs": [
    {
     "name": "stdout",
     "output_type": "stream",
     "text": [
      "{'num_containers': 4, 'num_positions': 3, 'containers_weight': [75, 39, 17, 7], 'containers_type': [3, 2, 2, 2], 't_list': [1, 1, 1, 1], 'd_list': [1, 0.5, 0.5, 0.5], 'max_weight': 100, 'allBinaryVariables': [0, 1, 2, 3, 4, 5, 6, 7, 8, 9, 10, 11]} \n",
      "\n",
      "current comb  (0, 0, 0, 0)\n",
      "SUCCESS\n",
      "current comb  (0, 0, 0, 1)\n",
      "SUCCESS\n",
      "current comb  (0, 0, 1, 0)\n",
      "SUCCESS\n",
      "current comb  (0, 0, 1, 1)\n",
      "SUCCESS\n",
      "current comb  (0, 1, 0, 0)\n",
      "SUCCESS\n",
      "current comb  (0, 1, 0, 1)\n",
      "SUCCESS\n",
      "current comb  (0, 1, 1, 0)\n",
      "SUCCESS\n",
      "current comb  (0, 1, 1, 1)\n",
      "SUCCESS\n",
      "current comb  (1, 0, 0, 0)\n",
      "SUCCESS\n",
      "current comb  (1, 0, 0, 1)\n",
      "SUCCESS\n",
      "current comb  (1, 0, 1, 0)\n",
      "SUCCESS\n",
      "current comb  (1, 0, 1, 1)\n",
      "SUCCESS\n",
      "current comb  (1, 1, 0, 0)\n",
      "ERRO2\n",
      "current comb  (1, 1, 0, 1)\n",
      "ERRO2\n",
      "current comb  (1, 1, 1, 0)\n",
      "ERRO2\n",
      "current comb  (1, 1, 1, 1)\n",
      "ERRO1\n",
      "(1, 0, 1, 1)\n",
      "[1, 0.5, 0.5]\n",
      "position  0  , container  0\n",
      "position  2  , container  0\n",
      "position  2  , container  2\n",
      "0.5\n",
      "position  2  , container  3\n",
      "1.0\n",
      "ERROR1\n"
     ]
    },
    {
     "data": {
      "text/plain": [
       "([[0], [0], [2, 3]], 99)"
      ]
     },
     "execution_count": 4,
     "metadata": {},
     "output_type": "execute_result"
    }
   ],
   "source": [
    "from ALORandomGenerator import ALORandomGenerator\n",
    "from ALOClassic import ALOClassic\n",
    "import json\n",
    "\n",
    "inst = {'num_containers': 4, 'num_positions': 3, 'containers_weight': [75, 39, 17, 7], 'containers_type': [3, 2, 2, 2], 't_list': [1, 1, 1, 1], 'd_list': [1, 0.5, 0.5, 0.5], 'max_weight': 100, 'allBinaryVariables': [0, 1, 2, 3, 4, 5, 6, 7, 8, 9, 10, 11]} \n",
    "alo = ALOClassic(inst)\n",
    "print(inst,'\\n')\n",
    "\n",
    "alo.solve_standard_with_bruteforce()"
   ]
  },
  {
   "cell_type": "code",
   "execution_count": 8,
   "id": "b5a19c1f-56cd-42a4-b24c-53a830c8313f",
   "metadata": {},
   "outputs": [
    {
     "name": "stdout",
     "output_type": "stream",
     "text": [
      "{'num_containers': 10, 'num_positions': 5, 'containers_weight': [66, 7, 90, 16, 64, 77, 42, 47, 80, 84], 'containers_type': [3, 2, 3, 1, 3, 1, 3, 3, 3, 1], 't_list': [0.5, 1, 0.5, 1, 0.5, 1, 0.5, 0.5, 0.5, 1], 'd_list': [1, 0.5, 1, 1, 1, 1, 1, 1, 1, 1], 'max_weight': 100, 'allBinaryVariables': [0, 1, 2, 3, 4, 5, 6, 7, 8, 9, 10, 11, 12, 13, 14, 15, 16, 17, 18, 19, 20, 21, 22, 23, 24, 25, 26, 27, 28, 29, 30, 31, 32, 33, 34, 35, 36, 37, 38, 39, 40, 41, 42, 43, 44, 45, 46, 47, 48, 49]}\n"
     ]
    }
   ],
   "source": [
    "gen = ALORandomGenerator(10,5)\n",
    "inst = json.loads(gen.generate_random_instance())\n",
    "print(inst)"
   ]
  },
  {
   "cell_type": "code",
   "execution_count": 5,
   "id": "cdd860f5-238e-40a5-b48e-fd17fcbce9c7",
   "metadata": {},
   "outputs": [
    {
     "name": "stdout",
     "output_type": "stream",
     "text": [
      "{'num_containers': 6, 'num_positions': 5, 'containers_weight': [13, 78, 37, 68, 79, 14], 'containers_type': [2, 1, 3, 1, 2, 3], 't_list': [1, 1, 0.5, 1, 1, 0.5], 'd_list': [0.5, 1, 1, 1, 0.5, 1], 'max_weight': 100, 'allBinaryVariables': [0, 1, 2, 3, 4, 5, 6, 7, 8, 9, 10, 11, 12, 13, 14, 15, 16, 17, 18, 19, 20, 21, 22, 23, 24, 25, 26, 27, 28, 29]} \n",
      "\n",
      "current comb  (0, 0, 0, 0, 0, 0)\n",
      "SUCCESS\n",
      "current comb  (0, 0, 0, 0, 0, 1)\n",
      "SUCCESS\n",
      "current comb  (0, 0, 0, 0, 1, 0)\n",
      "SUCCESS\n",
      "current comb  (0, 0, 0, 0, 1, 1)\n",
      "SUCCESS\n",
      "current comb  (0, 0, 0, 1, 0, 0)\n",
      "current comb  (0, 0, 0, 1, 0, 1)\n",
      "current comb  (0, 0, 0, 1, 1, 0)\n",
      "ERRO2\n",
      "current comb  (0, 0, 0, 1, 1, 1)\n",
      "ERRO2\n",
      "current comb  (0, 0, 1, 0, 0, 0)\n",
      "current comb  (0, 0, 1, 0, 0, 1)\n",
      "current comb  (0, 0, 1, 0, 1, 0)\n",
      "ERRO2\n",
      "current comb  (0, 0, 1, 0, 1, 1)\n",
      "ERRO2\n",
      "current comb  (0, 0, 1, 1, 0, 0)\n",
      "ERRO2\n",
      "current comb  (0, 0, 1, 1, 0, 1)\n",
      "ERRO2\n",
      "current comb  (0, 0, 1, 1, 1, 0)\n",
      "ERRO2\n",
      "current comb  (0, 0, 1, 1, 1, 1)\n",
      "ERRO1\n",
      "current comb  (0, 1, 0, 0, 0, 0)\n",
      "current comb  (0, 1, 0, 0, 0, 1)\n",
      "current comb  (0, 1, 0, 0, 1, 0)\n",
      "ERRO2\n",
      "current comb  (0, 1, 0, 0, 1, 1)\n",
      "ERRO2\n",
      "current comb  (0, 1, 0, 1, 0, 0)\n",
      "ERRO2\n",
      "current comb  (0, 1, 0, 1, 0, 1)\n",
      "ERRO2\n",
      "current comb  (0, 1, 0, 1, 1, 0)\n",
      "ERRO2\n",
      "current comb  (0, 1, 0, 1, 1, 1)\n",
      "ERRO2\n",
      "current comb  (0, 1, 1, 0, 0, 0)\n",
      "ERRO2\n",
      "current comb  (0, 1, 1, 0, 0, 1)\n",
      "ERRO2\n",
      "current comb  (0, 1, 1, 0, 1, 0)\n",
      "ERRO2\n",
      "current comb  (0, 1, 1, 0, 1, 1)\n",
      "ERRO1\n",
      "current comb  (0, 1, 1, 1, 0, 0)\n",
      "ERRO2\n",
      "current comb  (0, 1, 1, 1, 0, 1)\n",
      "ERRO1\n",
      "current comb  (0, 1, 1, 1, 1, 0)\n",
      "ERRO2\n",
      "current comb  (0, 1, 1, 1, 1, 1)\n",
      "ERRO1\n",
      "current comb  (1, 0, 0, 0, 0, 0)\n",
      "current comb  (1, 0, 0, 0, 0, 1)\n",
      "current comb  (1, 0, 0, 0, 1, 0)\n",
      "current comb  (1, 0, 0, 0, 1, 1)\n",
      "ERRO2\n",
      "current comb  (1, 0, 0, 1, 0, 0)\n",
      "current comb  (1, 0, 0, 1, 0, 1)\n",
      "SUCCESS\n",
      "current comb  (1, 0, 0, 1, 1, 0)\n",
      "ERRO2\n",
      "current comb  (1, 0, 0, 1, 1, 1)\n",
      "ERRO2\n",
      "current comb  (1, 0, 1, 0, 0, 0)\n",
      "current comb  (1, 0, 1, 0, 0, 1)\n",
      "current comb  (1, 0, 1, 0, 1, 0)\n",
      "ERRO2\n",
      "current comb  (1, 0, 1, 0, 1, 1)\n",
      "ERRO2\n",
      "current comb  (1, 0, 1, 1, 0, 0)\n",
      "ERRO2\n",
      "current comb  (1, 0, 1, 1, 0, 1)\n",
      "ERRO1\n",
      "current comb  (1, 0, 1, 1, 1, 0)\n",
      "ERRO2\n",
      "current comb  (1, 0, 1, 1, 1, 1)\n",
      "ERRO1\n",
      "current comb  (1, 1, 0, 0, 0, 0)\n",
      "current comb  (1, 1, 0, 0, 0, 1)\n",
      "ERRO2\n",
      "current comb  (1, 1, 0, 0, 1, 0)\n",
      "ERRO2\n",
      "current comb  (1, 1, 0, 0, 1, 1)\n",
      "ERRO2\n",
      "current comb  (1, 1, 0, 1, 0, 0)\n",
      "ERRO2\n",
      "current comb  (1, 1, 0, 1, 0, 1)\n",
      "ERRO2\n",
      "current comb  (1, 1, 0, 1, 1, 0)\n",
      "ERRO2\n",
      "current comb  (1, 1, 0, 1, 1, 1)\n",
      "ERRO2\n",
      "current comb  (1, 1, 1, 0, 0, 0)\n",
      "ERRO2\n",
      "current comb  (1, 1, 1, 0, 0, 1)\n",
      "ERRO1\n",
      "current comb  (1, 1, 1, 0, 1, 0)\n",
      "ERRO2\n",
      "current comb  (1, 1, 1, 0, 1, 1)\n",
      "ERRO1\n",
      "current comb  (1, 1, 1, 1, 0, 0)\n",
      "ERRO2\n",
      "current comb  (1, 1, 1, 1, 0, 1)\n",
      "ERRO1\n",
      "current comb  (1, 1, 1, 1, 1, 0)\n",
      "ERRO2\n",
      "current comb  (1, 1, 1, 1, 1, 1)\n",
      "ERRO1\n",
      "(1, 0, 0, 1, 0, 1)\n",
      "[1, 1, 0.5]\n",
      "position  0  , container  5\n",
      "position  2  , container  5\n",
      "position  2  , container  3\n",
      "1\n",
      "ERROR1\n",
      "position  3  , container  5\n",
      "position  3  , container  3\n",
      "position  3  , container  0\n",
      "0.5\n",
      "position  4  , container  5\n",
      "position  4  , container  3\n",
      "position  4  , container  0\n"
     ]
    },
    {
     "data": {
      "text/plain": [
       "([[5], [5], [3], [0], []], 95)"
      ]
     },
     "execution_count": 5,
     "metadata": {},
     "output_type": "execute_result"
    }
   ],
   "source": [
    "from ALORandomGenerator import ALORandomGenerator\n",
    "from ALOClassic import ALOClassic\n",
    "import json\n",
    "\n",
    "inst = {'num_containers': 6, 'num_positions': 5, 'containers_weight': [13, 78, 37, 68, 79, 14], 'containers_type': [2, 1, 3, 1, 2, 3], 't_list': [1, 1, 0.5, 1, 1, 0.5], 'd_list': [0.5, 1, 1, 1, 0.5, 1], 'max_weight': 100, 'allBinaryVariables': [0, 1, 2, 3, 4, 5, 6, 7, 8, 9, 10, 11, 12, 13, 14, 15, 16, 17, 18, 19, 20, 21, 22, 23, 24, 25, 26, 27, 28, 29]}\n",
    "alo = ALOClassic(inst)\n",
    "print(inst,'\\n')\n",
    "\n",
    "alo.solve_standard_with_bruteforce()"
   ]
  },
  {
   "cell_type": "code",
   "execution_count": 12,
   "id": "fd2e55be-cb6f-44f5-8b62-6ce1a2e3e365",
   "metadata": {},
   "outputs": [
    {
     "name": "stdout",
     "output_type": "stream",
     "text": [
      "{'num_containers': 6, 'num_positions': 5, 'containers_weight': [13, 78, 37, 68, 2, 14], 'containers_type': [2, 1, 3, 1, 2, 3], 't_list': [1, 1, 0.5, 1, 1, 0.5], 'd_list': [0.5, 1, 1, 1, 0.5, 1], 'max_weight': 100, 'allBinaryVariables': [0, 1, 2, 3, 4, 5, 6, 7, 8, 9, 10, 11, 12, 13, 14, 15, 16, 17, 18, 19, 20, 21, 22, 23, 24, 25, 26, 27, 28, 29]} \n",
      "\n",
      "current comb  (0, 0, 0, 0, 0, 0)\n",
      "SUCCESS\n",
      "current comb  (0, 0, 0, 0, 0, 1)\n",
      "SUCCESS\n",
      "current comb  (0, 0, 0, 0, 1, 0)\n",
      "current comb  (0, 0, 0, 0, 1, 1)\n",
      "SUCCESS\n",
      "current comb  (0, 0, 0, 1, 0, 0)\n",
      "SUCCESS\n",
      "current comb  (0, 0, 0, 1, 0, 1)\n",
      "SUCCESS\n",
      "current comb  (0, 0, 0, 1, 1, 0)\n",
      "current comb  (0, 0, 0, 1, 1, 1)\n",
      "SUCCESS\n",
      "current comb  (0, 0, 1, 0, 0, 0)\n",
      "current comb  (0, 0, 1, 0, 0, 1)\n",
      "current comb  (0, 0, 1, 0, 1, 0)\n",
      "current comb  (0, 0, 1, 0, 1, 1)\n",
      "current comb  (0, 0, 1, 1, 0, 0)\n",
      "ERRO2\n",
      "current comb  (0, 0, 1, 1, 0, 1)\n",
      "ERRO2\n",
      "current comb  (0, 0, 1, 1, 1, 0)\n",
      "ERRO2\n",
      "current comb  (0, 0, 1, 1, 1, 1)\n",
      "ERRO1\n",
      "current comb  (0, 1, 0, 0, 0, 0)\n",
      "current comb  (0, 1, 0, 0, 0, 1)\n",
      "SUCCESS\n",
      "current comb  (0, 1, 0, 0, 1, 0)\n",
      "current comb  (0, 1, 0, 0, 1, 1)\n",
      "SUCCESS\n",
      "current comb  (0, 1, 0, 1, 0, 0)\n",
      "ERRO2\n",
      "current comb  (0, 1, 0, 1, 0, 1)\n",
      "ERRO2\n",
      "current comb  (0, 1, 0, 1, 1, 0)\n",
      "ERRO2\n",
      "current comb  (0, 1, 0, 1, 1, 1)\n",
      "ERRO2\n",
      "current comb  (0, 1, 1, 0, 0, 0)\n",
      "ERRO2\n",
      "current comb  (0, 1, 1, 0, 0, 1)\n",
      "ERRO2\n",
      "current comb  (0, 1, 1, 0, 1, 0)\n",
      "ERRO2\n",
      "current comb  (0, 1, 1, 0, 1, 1)\n",
      "ERRO1\n",
      "current comb  (0, 1, 1, 1, 0, 0)\n",
      "ERRO2\n",
      "current comb  (0, 1, 1, 1, 0, 1)\n",
      "ERRO1\n",
      "current comb  (0, 1, 1, 1, 1, 0)\n",
      "ERRO2\n",
      "current comb  (0, 1, 1, 1, 1, 1)\n",
      "ERRO1\n",
      "current comb  (1, 0, 0, 0, 0, 0)\n",
      "current comb  (1, 0, 0, 0, 0, 1)\n",
      "current comb  (1, 0, 0, 0, 1, 0)\n",
      "current comb  (1, 0, 0, 0, 1, 1)\n",
      "current comb  (1, 0, 0, 1, 0, 0)\n",
      "current comb  (1, 0, 0, 1, 0, 1)\n",
      "SUCCESS\n",
      "current comb  (1, 0, 0, 1, 1, 0)\n",
      "current comb  (1, 0, 0, 1, 1, 1)\n",
      "SUCCESS\n",
      "current comb  (1, 0, 1, 0, 0, 0)\n",
      "current comb  (1, 0, 1, 0, 0, 1)\n",
      "current comb  (1, 0, 1, 0, 1, 0)\n",
      "current comb  (1, 0, 1, 0, 1, 1)\n",
      "current comb  (1, 0, 1, 1, 0, 0)\n",
      "ERRO2\n",
      "current comb  (1, 0, 1, 1, 0, 1)\n",
      "ERRO1\n",
      "current comb  (1, 0, 1, 1, 1, 0)\n",
      "ERRO2\n",
      "current comb  (1, 0, 1, 1, 1, 1)\n",
      "ERRO1\n",
      "current comb  (1, 1, 0, 0, 0, 0)\n",
      "current comb  (1, 1, 0, 0, 0, 1)\n",
      "ERRO2\n",
      "current comb  (1, 1, 0, 0, 1, 0)\n",
      "current comb  (1, 1, 0, 0, 1, 1)\n",
      "ERRO2\n",
      "current comb  (1, 1, 0, 1, 0, 0)\n",
      "ERRO2\n",
      "current comb  (1, 1, 0, 1, 0, 1)\n",
      "ERRO2\n",
      "current comb  (1, 1, 0, 1, 1, 0)\n",
      "ERRO2\n",
      "current comb  (1, 1, 0, 1, 1, 1)\n",
      "ERRO2\n",
      "current comb  (1, 1, 1, 0, 0, 0)\n",
      "ERRO2\n",
      "current comb  (1, 1, 1, 0, 0, 1)\n",
      "ERRO1\n",
      "current comb  (1, 1, 1, 0, 1, 0)\n",
      "ERRO2\n",
      "current comb  (1, 1, 1, 0, 1, 1)\n",
      "ERRO1\n",
      "current comb  (1, 1, 1, 1, 0, 0)\n",
      "ERRO2\n",
      "current comb  (1, 1, 1, 1, 0, 1)\n",
      "ERRO1\n",
      "current comb  (1, 1, 1, 1, 1, 0)\n",
      "ERRO2\n",
      "current comb  (1, 1, 1, 1, 1, 1)\n",
      "ERRO1\n",
      "(1, 0, 0, 1, 1, 1)\n",
      "[1, 1, 0.5, 0.5]\n",
      "position  0  , container  5\n",
      "position  2  , container  5\n",
      "position  2  , container  3\n",
      "1\n",
      "ERROR1\n",
      "position  3  , container  5\n",
      "position  3  , container  3\n",
      "position  3  , container  0\n",
      "0.5\n",
      "position  3  , container  4\n",
      "1.0\n",
      "ERROR1\n",
      "position  4  , container  5\n",
      "position  4  , container  3\n",
      "position  4  , container  0\n",
      "position  4  , container  4\n"
     ]
    },
    {
     "data": {
      "text/plain": [
       "([[5], [5], [3], [0, 4], []], 97)"
      ]
     },
     "execution_count": 12,
     "metadata": {},
     "output_type": "execute_result"
    }
   ],
   "source": [
    "from ALORandomGenerator import ALORandomGenerator\n",
    "from ALOClassic import ALOClassic\n",
    "import json\n",
    "\n",
    "inst = {'num_containers': 6, 'num_positions': 5, 'containers_weight': [13, 78, 37, 68, 2, 14], 'containers_type': [2, 1, 3, 1, 2, 3], 't_list': [1, 1, 0.5, 1, 1, 0.5], 'd_list': [0.5, 1, 1, 1, 0.5, 1], 'max_weight': 100, 'allBinaryVariables': [0, 1, 2, 3, 4, 5, 6, 7, 8, 9, 10, 11, 12, 13, 14, 15, 16, 17, 18, 19, 20, 21, 22, 23, 24, 25, 26, 27, 28, 29]}\n",
    "alo = ALOClassic(inst)\n",
    "print(inst,'\\n')\n",
    "\n",
    "alo.solve_standard_with_bruteforce()"
   ]
  },
  {
   "cell_type": "code",
   "execution_count": 1,
   "id": "ec7a22e6-f76e-4cf8-b51b-4ec11ca94d27",
   "metadata": {},
   "outputs": [
    {
     "name": "stdout",
     "output_type": "stream",
     "text": [
      "{'num_containers': 10, 'num_positions': 5, 'containers_weight': [8, 11, 5, 14, 13, 12, 20, 4, 3, 6], 'containers_type': [3, 2, 3, 1, 3, 1, 3, 3, 3, 1], 't_list': [0.5, 1, 0.5, 1, 0.5, 1, 0.5, 0.5, 0.5, 1], 'd_list': [1, 0.5, 1, 1, 1, 1, 1, 1, 1, 1], 'max_weight': 100, 'allBinaryVariables': [0, 1, 2, 3, 4, 5, 6, 7, 8, 9, 10, 11, 12, 13, 14, 15, 16, 17, 18, 19, 20, 21, 22, 23, 24, 25, 26, 27, 28, 29, 30, 31, 32, 33, 34, 35, 36, 37, 38, 39, 40, 41, 42, 43, 44, 45, 46, 47, 48, 49]} \n",
      "\n"
     ]
    },
    {
     "data": {
      "text/plain": [
       "([[6], [6], [3], [5], [1]], 57)"
      ]
     },
     "execution_count": 1,
     "metadata": {},
     "output_type": "execute_result"
    }
   ],
   "source": [
    "from ALORandomGenerator import ALORandomGenerator\n",
    "from ALOClassic import ALOClassic\n",
    "import json\n",
    "\n",
    "inst = {'num_containers': 10, 'num_positions': 5, 'containers_weight': [8,11, 5, 14, 13, 12, 20, 4,3, 6], 'containers_type': [3, 2, 3, 1, 3, 1, 3, 3, 3, 1], 't_list': [0.5, 1, 0.5, 1, 0.5, 1, 0.5, 0.5, 0.5, 1], 'd_list': [1, 0.5, 1, 1, 1, 1, 1, 1, 1, 1], 'max_weight': 100, 'allBinaryVariables': [0, 1, 2, 3, 4, 5, 6, 7, 8, 9, 10, 11, 12, 13, 14, 15, 16, 17, 18, 19, 20, 21, 22, 23, 24, 25, 26, 27, 28, 29, 30, 31, 32, 33, 34, 35, 36, 37, 38, 39, 40, 41, 42, 43, 44, 45, 46, 47, 48, 49]}\n",
    "\n",
    "alo = ALOClassic(inst)\n",
    "print(inst,'\\n')\n",
    "\n",
    "alo.solve_standard_with_bruteforce()"
   ]
  }
 ],
 "metadata": {
  "kernelspec": {
   "display_name": "Python 3 (ipykernel)",
   "language": "python",
   "name": "python3"
  },
  "language_info": {
   "codemirror_mode": {
    "name": "ipython",
    "version": 3
   },
   "file_extension": ".py",
   "mimetype": "text/x-python",
   "name": "python",
   "nbconvert_exporter": "python",
   "pygments_lexer": "ipython3",
   "version": "3.10.13"
  }
 },
 "nbformat": 4,
 "nbformat_minor": 5
}
