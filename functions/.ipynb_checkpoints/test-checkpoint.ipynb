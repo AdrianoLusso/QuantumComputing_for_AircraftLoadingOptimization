{
 "cells": [
  {
   "cell_type": "markdown",
   "id": "2e4a506a-2e70-4cff-9420-b73634e984a5",
   "metadata": {},
   "source": [
    "# ALORandomGenerator"
   ]
  },
  {
   "cell_type": "markdown",
   "id": "5d1725c5-12f9-4d63-8788-ee12b0289a64",
   "metadata": {},
   "source": [
    "### Init and generate random instance"
   ]
  },
  {
   "cell_type": "code",
   "execution_count": 2,
   "id": "5f68639c-c08c-4132-ba5e-f27bcb14b160",
   "metadata": {},
   "outputs": [
    {
     "data": {
      "text/plain": [
       "{'num_containers': 3,\n",
       " 'num_positions': 3,\n",
       " 'containers_weight': [33, 16, 74],\n",
       " 'containers_type': [2, 2, 3],\n",
       " 't_list': [1, 1, 0.5],\n",
       " 'd_list': [0.5, 0.5, 1],\n",
       " 'max_weight': 100,\n",
       " 'allBinaryVariables': [0, 1, 2, 3, 4, 5, 6, 7, 8]}"
      ]
     },
     "metadata": {},
     "output_type": "display_data"
    },
    {
     "name": "stdout",
     "output_type": "stream",
     "text": [
      "\n"
     ]
    },
    {
     "data": {
      "text/plain": [
       "{'num_containers': 3,\n",
       " 'num_positions': 3,\n",
       " 'containers_weight': [72, 73, 73],\n",
       " 'containers_type': [2, 2, 1],\n",
       " 't_list': [1, 1, 1],\n",
       " 'd_list': [0.5, 0.5, 1],\n",
       " 'max_weight': 100,\n",
       " 'allBinaryVariables': [0, 1, 2, 3, 4, 5, 6, 7, 8]}"
      ]
     },
     "metadata": {},
     "output_type": "display_data"
    },
    {
     "name": "stdout",
     "output_type": "stream",
     "text": [
      "\n"
     ]
    },
    {
     "data": {
      "text/plain": [
       "{'num_containers': 3,\n",
       " 'num_positions': 3,\n",
       " 'containers_weight': [6, 50, 90],\n",
       " 'containers_type': [3, 2, 3],\n",
       " 't_list': [0.5, 1, 0.5],\n",
       " 'd_list': [1, 0.5, 1],\n",
       " 'max_weight': 100,\n",
       " 'allBinaryVariables': [0, 1, 2, 3, 4, 5, 6, 7, 8]}"
      ]
     },
     "metadata": {},
     "output_type": "display_data"
    },
    {
     "name": "stdout",
     "output_type": "stream",
     "text": [
      "\n"
     ]
    },
    {
     "data": {
      "text/plain": [
       "{'num_containers': 3,\n",
       " 'num_positions': 1,\n",
       " 'containers_weight': [10, 71, 2],\n",
       " 'containers_type': [1, 2, 1],\n",
       " 't_list': [1, 1, 1],\n",
       " 'd_list': [1, 0.5, 1],\n",
       " 'max_weight': 100,\n",
       " 'allBinaryVariables': [0, 1, 2]}"
      ]
     },
     "metadata": {},
     "output_type": "display_data"
    },
    {
     "name": "stdout",
     "output_type": "stream",
     "text": [
      "\n"
     ]
    },
    {
     "data": {
      "text/plain": [
       "{'num_containers': 3,\n",
       " 'num_positions': 1,\n",
       " 'containers_weight': [1, 15, 52],\n",
       " 'containers_type': [1, 3, 3],\n",
       " 't_list': [1, 0.5, 0.5],\n",
       " 'd_list': [1, 1, 1],\n",
       " 'max_weight': 100,\n",
       " 'allBinaryVariables': [0, 1, 2]}"
      ]
     },
     "metadata": {},
     "output_type": "display_data"
    },
    {
     "name": "stdout",
     "output_type": "stream",
     "text": [
      "\n"
     ]
    },
    {
     "data": {
      "text/plain": [
       "{'num_containers': 3,\n",
       " 'num_positions': 1,\n",
       " 'containers_weight': [14, 66, 75],\n",
       " 'containers_type': [1, 2, 3],\n",
       " 't_list': [1, 1, 0.5],\n",
       " 'd_list': [1, 0.5, 1],\n",
       " 'max_weight': 100,\n",
       " 'allBinaryVariables': [0, 1, 2]}"
      ]
     },
     "metadata": {},
     "output_type": "display_data"
    },
    {
     "name": "stdout",
     "output_type": "stream",
     "text": [
      "\n"
     ]
    },
    {
     "data": {
      "text/plain": [
       "{'num_containers': 1,\n",
       " 'num_positions': 3,\n",
       " 'containers_weight': [96],\n",
       " 'containers_type': [1],\n",
       " 't_list': [1],\n",
       " 'd_list': [1],\n",
       " 'max_weight': 100,\n",
       " 'allBinaryVariables': [0, 1, 2]}"
      ]
     },
     "metadata": {},
     "output_type": "display_data"
    },
    {
     "name": "stdout",
     "output_type": "stream",
     "text": [
      "\n"
     ]
    },
    {
     "data": {
      "text/plain": [
       "{'num_containers': 1,\n",
       " 'num_positions': 3,\n",
       " 'containers_weight': [98],\n",
       " 'containers_type': [1],\n",
       " 't_list': [1],\n",
       " 'd_list': [1],\n",
       " 'max_weight': 100,\n",
       " 'allBinaryVariables': [0, 1, 2]}"
      ]
     },
     "metadata": {},
     "output_type": "display_data"
    },
    {
     "name": "stdout",
     "output_type": "stream",
     "text": [
      "\n"
     ]
    },
    {
     "data": {
      "text/plain": [
       "{'num_containers': 1,\n",
       " 'num_positions': 3,\n",
       " 'containers_weight': [94],\n",
       " 'containers_type': [2],\n",
       " 't_list': [1],\n",
       " 'd_list': [0.5],\n",
       " 'max_weight': 100,\n",
       " 'allBinaryVariables': [0, 1, 2]}"
      ]
     },
     "metadata": {},
     "output_type": "display_data"
    },
    {
     "name": "stdout",
     "output_type": "stream",
     "text": [
      "\n"
     ]
    },
    {
     "data": {
      "text/plain": [
       "{'num_containers': 7,\n",
       " 'num_positions': 3,\n",
       " 'containers_weight': [4, 56, 68, 90, 45, 89, 61],\n",
       " 'containers_type': [3, 3, 1, 1, 1, 2, 3],\n",
       " 't_list': [0.5, 0.5, 1, 1, 1, 1, 0.5],\n",
       " 'd_list': [1, 1, 1, 1, 1, 0.5, 1],\n",
       " 'max_weight': 100,\n",
       " 'allBinaryVariables': [0,\n",
       "  1,\n",
       "  2,\n",
       "  3,\n",
       "  4,\n",
       "  5,\n",
       "  6,\n",
       "  7,\n",
       "  8,\n",
       "  9,\n",
       "  10,\n",
       "  11,\n",
       "  12,\n",
       "  13,\n",
       "  14,\n",
       "  15,\n",
       "  16,\n",
       "  17,\n",
       "  18,\n",
       "  19,\n",
       "  20]}"
      ]
     },
     "metadata": {},
     "output_type": "display_data"
    },
    {
     "name": "stdout",
     "output_type": "stream",
     "text": [
      "\n"
     ]
    },
    {
     "data": {
      "text/plain": [
       "{'num_containers': 7,\n",
       " 'num_positions': 3,\n",
       " 'containers_weight': [80, 54, 36, 41, 21, 91, 66],\n",
       " 'containers_type': [3, 3, 2, 1, 2, 1, 2],\n",
       " 't_list': [0.5, 0.5, 1, 1, 1, 1, 1],\n",
       " 'd_list': [1, 1, 0.5, 1, 0.5, 1, 0.5],\n",
       " 'max_weight': 100,\n",
       " 'allBinaryVariables': [0,\n",
       "  1,\n",
       "  2,\n",
       "  3,\n",
       "  4,\n",
       "  5,\n",
       "  6,\n",
       "  7,\n",
       "  8,\n",
       "  9,\n",
       "  10,\n",
       "  11,\n",
       "  12,\n",
       "  13,\n",
       "  14,\n",
       "  15,\n",
       "  16,\n",
       "  17,\n",
       "  18,\n",
       "  19,\n",
       "  20]}"
      ]
     },
     "metadata": {},
     "output_type": "display_data"
    },
    {
     "name": "stdout",
     "output_type": "stream",
     "text": [
      "\n"
     ]
    },
    {
     "data": {
      "text/plain": [
       "{'num_containers': 7,\n",
       " 'num_positions': 3,\n",
       " 'containers_weight': [91, 91, 86, 70, 25, 49, 74],\n",
       " 'containers_type': [2, 1, 1, 3, 2, 3, 1],\n",
       " 't_list': [1, 1, 1, 0.5, 1, 0.5, 1],\n",
       " 'd_list': [0.5, 1, 1, 1, 0.5, 1, 1],\n",
       " 'max_weight': 100,\n",
       " 'allBinaryVariables': [0,\n",
       "  1,\n",
       "  2,\n",
       "  3,\n",
       "  4,\n",
       "  5,\n",
       "  6,\n",
       "  7,\n",
       "  8,\n",
       "  9,\n",
       "  10,\n",
       "  11,\n",
       "  12,\n",
       "  13,\n",
       "  14,\n",
       "  15,\n",
       "  16,\n",
       "  17,\n",
       "  18,\n",
       "  19,\n",
       "  20]}"
      ]
     },
     "metadata": {},
     "output_type": "display_data"
    },
    {
     "name": "stdout",
     "output_type": "stream",
     "text": [
      "\n"
     ]
    },
    {
     "data": {
      "text/plain": [
       "{'num_containers': 3,\n",
       " 'num_positions': 7,\n",
       " 'containers_weight': [38, 94, 71],\n",
       " 'containers_type': [1, 2, 1],\n",
       " 't_list': [1, 1, 1],\n",
       " 'd_list': [1, 0.5, 1],\n",
       " 'max_weight': 100,\n",
       " 'allBinaryVariables': [0,\n",
       "  1,\n",
       "  2,\n",
       "  3,\n",
       "  4,\n",
       "  5,\n",
       "  6,\n",
       "  7,\n",
       "  8,\n",
       "  9,\n",
       "  10,\n",
       "  11,\n",
       "  12,\n",
       "  13,\n",
       "  14,\n",
       "  15,\n",
       "  16,\n",
       "  17,\n",
       "  18,\n",
       "  19,\n",
       "  20]}"
      ]
     },
     "metadata": {},
     "output_type": "display_data"
    },
    {
     "name": "stdout",
     "output_type": "stream",
     "text": [
      "\n"
     ]
    },
    {
     "data": {
      "text/plain": [
       "{'num_containers': 3,\n",
       " 'num_positions': 7,\n",
       " 'containers_weight': [5, 89, 41],\n",
       " 'containers_type': [2, 2, 3],\n",
       " 't_list': [1, 1, 0.5],\n",
       " 'd_list': [0.5, 0.5, 1],\n",
       " 'max_weight': 100,\n",
       " 'allBinaryVariables': [0,\n",
       "  1,\n",
       "  2,\n",
       "  3,\n",
       "  4,\n",
       "  5,\n",
       "  6,\n",
       "  7,\n",
       "  8,\n",
       "  9,\n",
       "  10,\n",
       "  11,\n",
       "  12,\n",
       "  13,\n",
       "  14,\n",
       "  15,\n",
       "  16,\n",
       "  17,\n",
       "  18,\n",
       "  19,\n",
       "  20]}"
      ]
     },
     "metadata": {},
     "output_type": "display_data"
    },
    {
     "name": "stdout",
     "output_type": "stream",
     "text": [
      "\n"
     ]
    },
    {
     "data": {
      "text/plain": [
       "{'num_containers': 3,\n",
       " 'num_positions': 7,\n",
       " 'containers_weight': [65, 28, 26],\n",
       " 'containers_type': [3, 1, 2],\n",
       " 't_list': [0.5, 1, 1],\n",
       " 'd_list': [1, 1, 0.5],\n",
       " 'max_weight': 100,\n",
       " 'allBinaryVariables': [0,\n",
       "  1,\n",
       "  2,\n",
       "  3,\n",
       "  4,\n",
       "  5,\n",
       "  6,\n",
       "  7,\n",
       "  8,\n",
       "  9,\n",
       "  10,\n",
       "  11,\n",
       "  12,\n",
       "  13,\n",
       "  14,\n",
       "  15,\n",
       "  16,\n",
       "  17,\n",
       "  18,\n",
       "  19,\n",
       "  20]}"
      ]
     },
     "metadata": {},
     "output_type": "display_data"
    },
    {
     "name": "stdout",
     "output_type": "stream",
     "text": [
      "\n"
     ]
    }
   ],
   "source": [
    "from ALORandomGenerator import ALORandomGenerator\n",
    "import json\n",
    "\n",
    "sizes = [[3,3],[3,1],[1,3],[7,3],[3,7]]\n",
    "for size in sizes:\n",
    "    gen = ALORandomGenerator(size[0],size[1])\n",
    "    for i in range(3):\n",
    "        inst=gen.generate_random_instance()\n",
    "        display(json.loads(inst))\n",
    "        print()"
   ]
  },
  {
   "cell_type": "markdown",
   "id": "a7005649-9979-444b-88c3-1952285d2efc",
   "metadata": {},
   "source": [
    "# ALOClassic"
   ]
  },
  {
   "cell_type": "markdown",
   "id": "20b110fc-a79e-4324-98a3-71b583317cd2",
   "metadata": {},
   "source": [
    "### Init and tranformer to qubo and ising"
   ]
  },
  {
   "cell_type": "code",
   "execution_count": 5,
   "id": "d9d3d74c-392f-4028-baeb-ef0fec78df2d",
   "metadata": {
    "scrolled": true
   },
   "outputs": [
    {
     "data": {
      "text/plain": [
       "{'num_containers': 4,\n",
       " 'num_positions': 4,\n",
       " 'containers_weight': [6, 63, 81, 27],\n",
       " 'containers_type': [2, 3, 1, 2],\n",
       " 't_list': [1, 0.5, 1, 1],\n",
       " 'd_list': [0.5, 1, 1, 0.5],\n",
       " 'max_weight': 100,\n",
       " 'allBinaryVariables': [0, 1, 2, 3, 4, 5, 6, 7, 8, 9, 10, 11, 12, 13, 14, 15]}"
      ]
     },
     "metadata": {},
     "output_type": "display_data"
    }
   ],
   "source": [
    "from ALORandomGenerator import ALORandomGenerator\n",
    "from ALOClassic import ALOClassic\n",
    "import json\n",
    "\n",
    "gen = ALORandomGenerator(4,4)\n",
    "inst = json.loads(gen.generate_random_instance())\n",
    "display(inst)"
   ]
  },
  {
   "cell_type": "code",
   "execution_count": 6,
   "id": "1b0d2894-a659-4be5-af74-e0b612469551",
   "metadata": {},
   "outputs": [
    {
     "name": "stdout",
     "output_type": "stream",
     "text": [
      "GENERAL OPTIMIZATION FORM:\n",
      "-40x_4*x_5-40x_5*x_6-40x_6*x_7-6x_0-6x_1-6x_2-6x_3-11.500x_4-11.500x_5-11.500x_6-11.500x_7-81x_8-81x_9-81x_10-81x_11-27x_12-27x_13-27x_14-27x_15 \n",
      "\n",
      "constraints:\n",
      "no overlaps: 0.500x_0+x_4+x_8+0.500x_12 <= 1\n",
      "no overlaps: 0.500x_1+x_5+x_9+0.500x_13 <= 1\n",
      "no overlaps: 0.500x_2+x_6+x_10+0.500x_14 <= 1\n",
      "no overlaps: 0.500x_3+x_7+x_11+0.500x_15 <= 1\n",
      "no duplicates: x_0+x_1+x_2+x_3 <= 1\n",
      "no duplicates: 0.500x_4+0.500x_5+0.500x_6+0.500x_7 <= 1\n",
      "no duplicates: x_8+x_9+x_10+x_11 <= 1\n",
      "no duplicates: x_12+x_13+x_14+x_15 <= 1\n",
      "maximum capacity: 6x_0+6x_1+6x_2+6x_3+31.500x_4+31.500x_5+31.500x_6+31.500x_7+81x_8+81x_9+81x_10+81x_11+27x_12+27x_13+27x_14+27x_15 <= 100\n",
      "QUBO FORM:\n",
      "linear terms:\n",
      "(docplex.mp.Var(type=B,name='x_0'), -120306.0)\n",
      "(docplex.mp.Var(type=B,name='x_1'), -120306.0)\n",
      "(docplex.mp.Var(type=B,name='x_2'), -120306.0)\n",
      "(docplex.mp.Var(type=B,name='x_3'), -120306.0)\n",
      "(docplex.mp.Var(type=B,name='x_4'), -630311.5)\n",
      "(docplex.mp.Var(type=B,name='x_5'), -630311.5)\n",
      "(docplex.mp.Var(type=B,name='x_6'), -630311.5)\n",
      "(docplex.mp.Var(type=B,name='x_7'), -630311.5)\n",
      "(docplex.mp.Var(type=B,name='x_8'), -1620481)\n",
      "(docplex.mp.Var(type=B,name='x_9'), -1620481)\n",
      "(docplex.mp.Var(type=B,name='x_10'), -1620481)\n",
      "(docplex.mp.Var(type=B,name='x_11'), -1620481)\n",
      "(docplex.mp.Var(type=B,name='x_12'), -540327.0)\n",
      "(docplex.mp.Var(type=B,name='x_13'), -540327.0)\n",
      "(docplex.mp.Var(type=B,name='x_14'), -540327.0)\n",
      "(docplex.mp.Var(type=B,name='x_15'), -540327.0)\n",
      "(docplex.mp.Var(type=B,name='slack_C0_0'), -200)\n",
      "(docplex.mp.Var(type=B,name='slack_C1_0'), -200)\n",
      "(docplex.mp.Var(type=B,name='slack_C2_0'), -200)\n",
      "(docplex.mp.Var(type=B,name='slack_C3_0'), -200)\n",
      "(docplex.mp.Var(type=B,name='slack_C4_0'), -200)\n",
      "(docplex.mp.Var(type=B,name='slack_C5_0'), -200.0)\n",
      "(docplex.mp.Var(type=B,name='slack_C6_0'), -200)\n",
      "(docplex.mp.Var(type=B,name='slack_C7_0'), -200)\n",
      "(docplex.mp.Var(type=B,name='slack_C8_0'), -20000)\n",
      "(docplex.mp.Var(type=B,name='slack_C8_1'), -40000)\n",
      "(docplex.mp.Var(type=B,name='slack_C8_2'), -80000)\n",
      "(docplex.mp.Var(type=B,name='slack_C8_3'), -160000)\n",
      "(docplex.mp.Var(type=B,name='slack_C8_4'), -320000)\n",
      "(docplex.mp.Var(type=B,name='slack_C8_5'), -640000)\n",
      "(docplex.mp.Var(type=B,name='slack_C8_6'), -740000)\n",
      "\n",
      "quad. terms:\n",
      "(docplex.mp.quad.VarPair(first=x_4,second=x_5), 198460.0)\n",
      "(docplex.mp.quad.VarPair(first=x_5,second=x_6), 198460.0)\n",
      "(docplex.mp.quad.VarPair(first=x_6,second=x_7), 198460.0)\n",
      "(docplex.mp.quad.VarPair(first=x_0,second=x_0), 3725.0)\n",
      "(docplex.mp.quad.VarPair(first=x_0,second=x_4), 37900.0)\n",
      "(docplex.mp.quad.VarPair(first=x_0,second=x_8), 97300.0)\n",
      "(docplex.mp.quad.VarPair(first=x_0,second=x_12), 32450.0)\n",
      "(docplex.mp.quad.VarPair(first=x_0,second=slack_C0_0), 100.0)\n",
      "(docplex.mp.quad.VarPair(first=x_4,second=x_4), 99350.0)\n",
      "(docplex.mp.quad.VarPair(first=x_4,second=x_8), 510500.0)\n",
      "(docplex.mp.quad.VarPair(first=x_4,second=x_12), 170200.0)\n",
      "(docplex.mp.quad.VarPair(first=x_4,second=slack_C0_0), 200)\n",
      "(docplex.mp.quad.VarPair(first=x_8,second=x_8), 656300)\n",
      "(docplex.mp.quad.VarPair(first=x_8,second=x_12), 437500.0)\n",
      "(docplex.mp.quad.VarPair(first=x_8,second=slack_C0_0), 200)\n",
      "(docplex.mp.quad.VarPair(first=x_12,second=x_12), 73025.0)\n",
      "(docplex.mp.quad.VarPair(first=x_12,second=slack_C0_0), 100.0)\n",
      "(docplex.mp.quad.VarPair(first=slack_C0_0,second=slack_C0_0), 100)\n",
      "(docplex.mp.quad.VarPair(first=x_1,second=x_1), 3725.0)\n",
      "(docplex.mp.quad.VarPair(first=x_1,second=x_5), 37900.0)\n",
      "(docplex.mp.quad.VarPair(first=x_1,second=x_9), 97300.0)\n",
      "(docplex.mp.quad.VarPair(first=x_1,second=x_13), 32450.0)\n",
      "(docplex.mp.quad.VarPair(first=x_1,second=slack_C1_0), 100.0)\n",
      "(docplex.mp.quad.VarPair(first=x_5,second=x_5), 99350.0)\n",
      "(docplex.mp.quad.VarPair(first=x_5,second=x_9), 510500.0)\n",
      "(docplex.mp.quad.VarPair(first=x_5,second=x_13), 170200.0)\n",
      "(docplex.mp.quad.VarPair(first=x_5,second=slack_C1_0), 200)\n",
      "(docplex.mp.quad.VarPair(first=x_9,second=x_9), 656300)\n",
      "(docplex.mp.quad.VarPair(first=x_9,second=x_13), 437500.0)\n",
      "(docplex.mp.quad.VarPair(first=x_9,second=slack_C1_0), 200)\n",
      "(docplex.mp.quad.VarPair(first=x_13,second=x_13), 73025.0)\n",
      "(docplex.mp.quad.VarPair(first=x_13,second=slack_C1_0), 100.0)\n",
      "(docplex.mp.quad.VarPair(first=slack_C1_0,second=slack_C1_0), 100)\n",
      "(docplex.mp.quad.VarPair(first=x_2,second=x_2), 3725.0)\n",
      "(docplex.mp.quad.VarPair(first=x_2,second=x_6), 37900.0)\n",
      "(docplex.mp.quad.VarPair(first=x_2,second=x_10), 97300.0)\n",
      "(docplex.mp.quad.VarPair(first=x_2,second=x_14), 32450.0)\n",
      "(docplex.mp.quad.VarPair(first=x_2,second=slack_C2_0), 100.0)\n",
      "(docplex.mp.quad.VarPair(first=x_6,second=x_6), 99350.0)\n",
      "(docplex.mp.quad.VarPair(first=x_6,second=x_10), 510500.0)\n",
      "(docplex.mp.quad.VarPair(first=x_6,second=x_14), 170200.0)\n",
      "(docplex.mp.quad.VarPair(first=x_6,second=slack_C2_0), 200)\n",
      "(docplex.mp.quad.VarPair(first=x_10,second=x_10), 656300)\n",
      "(docplex.mp.quad.VarPair(first=x_10,second=x_14), 437500.0)\n",
      "(docplex.mp.quad.VarPair(first=x_10,second=slack_C2_0), 200)\n",
      "(docplex.mp.quad.VarPair(first=x_14,second=x_14), 73025.0)\n",
      "(docplex.mp.quad.VarPair(first=x_14,second=slack_C2_0), 100.0)\n",
      "(docplex.mp.quad.VarPair(first=slack_C2_0,second=slack_C2_0), 100)\n",
      "(docplex.mp.quad.VarPair(first=x_3,second=x_3), 3725.0)\n",
      "(docplex.mp.quad.VarPair(first=x_3,second=x_7), 37900.0)\n",
      "(docplex.mp.quad.VarPair(first=x_3,second=x_11), 97300.0)\n",
      "(docplex.mp.quad.VarPair(first=x_3,second=x_15), 32450.0)\n",
      "(docplex.mp.quad.VarPair(first=x_3,second=slack_C3_0), 100.0)\n",
      "(docplex.mp.quad.VarPair(first=x_7,second=x_7), 99350.0)\n",
      "(docplex.mp.quad.VarPair(first=x_7,second=x_11), 510500.0)\n",
      "(docplex.mp.quad.VarPair(first=x_7,second=x_15), 170200.0)\n",
      "(docplex.mp.quad.VarPair(first=x_7,second=slack_C3_0), 200)\n",
      "(docplex.mp.quad.VarPair(first=x_11,second=x_11), 656300)\n",
      "(docplex.mp.quad.VarPair(first=x_11,second=x_15), 437500.0)\n",
      "(docplex.mp.quad.VarPair(first=x_11,second=slack_C3_0), 200)\n",
      "(docplex.mp.quad.VarPair(first=x_15,second=x_15), 73025.0)\n",
      "(docplex.mp.quad.VarPair(first=x_15,second=slack_C3_0), 100.0)\n",
      "(docplex.mp.quad.VarPair(first=slack_C3_0,second=slack_C3_0), 100)\n",
      "(docplex.mp.quad.VarPair(first=x_0,second=x_1), 7400)\n",
      "(docplex.mp.quad.VarPair(first=x_0,second=x_2), 7400)\n",
      "(docplex.mp.quad.VarPair(first=x_0,second=x_3), 7400)\n",
      "(docplex.mp.quad.VarPair(first=x_0,second=slack_C4_0), 200)\n",
      "(docplex.mp.quad.VarPair(first=x_1,second=x_2), 7400)\n",
      "(docplex.mp.quad.VarPair(first=x_1,second=x_3), 7400)\n",
      "(docplex.mp.quad.VarPair(first=x_1,second=slack_C4_0), 200)\n",
      "(docplex.mp.quad.VarPair(first=x_2,second=x_3), 7400)\n",
      "(docplex.mp.quad.VarPair(first=x_2,second=slack_C4_0), 200)\n",
      "(docplex.mp.quad.VarPair(first=x_3,second=slack_C4_0), 200)\n",
      "(docplex.mp.quad.VarPair(first=slack_C4_0,second=slack_C4_0), 100)\n",
      "(docplex.mp.quad.VarPair(first=x_4,second=x_6), 198500.0)\n",
      "(docplex.mp.quad.VarPair(first=x_4,second=x_7), 198500.0)\n",
      "(docplex.mp.quad.VarPair(first=x_4,second=slack_C5_0), 100.0)\n",
      "(docplex.mp.quad.VarPair(first=x_5,second=x_7), 198500.0)\n",
      "(docplex.mp.quad.VarPair(first=x_5,second=slack_C5_0), 100.0)\n",
      "(docplex.mp.quad.VarPair(first=x_6,second=slack_C5_0), 100.0)\n",
      "(docplex.mp.quad.VarPair(first=x_7,second=slack_C5_0), 100.0)\n",
      "(docplex.mp.quad.VarPair(first=slack_C5_0,second=slack_C5_0), 100.0)\n",
      "(docplex.mp.quad.VarPair(first=x_8,second=x_9), 1312400)\n",
      "(docplex.mp.quad.VarPair(first=x_8,second=x_10), 1312400)\n",
      "(docplex.mp.quad.VarPair(first=x_8,second=x_11), 1312400)\n",
      "(docplex.mp.quad.VarPair(first=x_8,second=slack_C6_0), 200)\n",
      "(docplex.mp.quad.VarPair(first=x_9,second=x_10), 1312400)\n",
      "(docplex.mp.quad.VarPair(first=x_9,second=x_11), 1312400)\n",
      "(docplex.mp.quad.VarPair(first=x_9,second=slack_C6_0), 200)\n",
      "(docplex.mp.quad.VarPair(first=x_10,second=x_11), 1312400)\n",
      "(docplex.mp.quad.VarPair(first=x_10,second=slack_C6_0), 200)\n",
      "(docplex.mp.quad.VarPair(first=x_11,second=slack_C6_0), 200)\n",
      "(docplex.mp.quad.VarPair(first=slack_C6_0,second=slack_C6_0), 100)\n",
      "(docplex.mp.quad.VarPair(first=x_12,second=x_13), 146000)\n",
      "(docplex.mp.quad.VarPair(first=x_12,second=x_14), 146000)\n",
      "(docplex.mp.quad.VarPair(first=x_12,second=x_15), 146000)\n",
      "(docplex.mp.quad.VarPair(first=x_12,second=slack_C7_0), 200)\n",
      "(docplex.mp.quad.VarPair(first=x_13,second=x_14), 146000)\n",
      "(docplex.mp.quad.VarPair(first=x_13,second=x_15), 146000)\n",
      "(docplex.mp.quad.VarPair(first=x_13,second=slack_C7_0), 200)\n",
      "(docplex.mp.quad.VarPair(first=x_14,second=x_15), 146000)\n",
      "(docplex.mp.quad.VarPair(first=x_14,second=slack_C7_0), 200)\n",
      "(docplex.mp.quad.VarPair(first=x_15,second=slack_C7_0), 200)\n",
      "(docplex.mp.quad.VarPair(first=slack_C7_0,second=slack_C7_0), 100)\n",
      "(docplex.mp.quad.VarPair(first=x_0,second=x_5), 37800.0)\n",
      "(docplex.mp.quad.VarPair(first=x_0,second=x_6), 37800.0)\n",
      "(docplex.mp.quad.VarPair(first=x_0,second=x_7), 37800.0)\n",
      "(docplex.mp.quad.VarPair(first=x_0,second=x_9), 97200)\n",
      "(docplex.mp.quad.VarPair(first=x_0,second=x_10), 97200)\n",
      "(docplex.mp.quad.VarPair(first=x_0,second=x_11), 97200)\n",
      "(docplex.mp.quad.VarPair(first=x_0,second=x_13), 32400)\n",
      "(docplex.mp.quad.VarPair(first=x_0,second=x_14), 32400)\n",
      "(docplex.mp.quad.VarPair(first=x_0,second=x_15), 32400)\n",
      "(docplex.mp.quad.VarPair(first=x_0,second=slack_C8_0), 1200)\n",
      "(docplex.mp.quad.VarPair(first=x_0,second=slack_C8_1), 2400)\n",
      "(docplex.mp.quad.VarPair(first=x_0,second=slack_C8_2), 4800)\n",
      "(docplex.mp.quad.VarPair(first=x_0,second=slack_C8_3), 9600)\n",
      "(docplex.mp.quad.VarPair(first=x_0,second=slack_C8_4), 19200)\n",
      "(docplex.mp.quad.VarPair(first=x_0,second=slack_C8_5), 38400)\n",
      "(docplex.mp.quad.VarPair(first=x_0,second=slack_C8_6), 44400)\n",
      "(docplex.mp.quad.VarPair(first=x_1,second=x_4), 37800.0)\n",
      "(docplex.mp.quad.VarPair(first=x_1,second=x_6), 37800.0)\n",
      "(docplex.mp.quad.VarPair(first=x_1,second=x_7), 37800.0)\n",
      "(docplex.mp.quad.VarPair(first=x_1,second=x_8), 97200)\n",
      "(docplex.mp.quad.VarPair(first=x_1,second=x_10), 97200)\n",
      "(docplex.mp.quad.VarPair(first=x_1,second=x_11), 97200)\n",
      "(docplex.mp.quad.VarPair(first=x_1,second=x_12), 32400)\n",
      "(docplex.mp.quad.VarPair(first=x_1,second=x_14), 32400)\n",
      "(docplex.mp.quad.VarPair(first=x_1,second=x_15), 32400)\n",
      "(docplex.mp.quad.VarPair(first=x_1,second=slack_C8_0), 1200)\n",
      "(docplex.mp.quad.VarPair(first=x_1,second=slack_C8_1), 2400)\n",
      "(docplex.mp.quad.VarPair(first=x_1,second=slack_C8_2), 4800)\n",
      "(docplex.mp.quad.VarPair(first=x_1,second=slack_C8_3), 9600)\n",
      "(docplex.mp.quad.VarPair(first=x_1,second=slack_C8_4), 19200)\n",
      "(docplex.mp.quad.VarPair(first=x_1,second=slack_C8_5), 38400)\n",
      "(docplex.mp.quad.VarPair(first=x_1,second=slack_C8_6), 44400)\n",
      "(docplex.mp.quad.VarPair(first=x_2,second=x_4), 37800.0)\n",
      "(docplex.mp.quad.VarPair(first=x_2,second=x_5), 37800.0)\n",
      "(docplex.mp.quad.VarPair(first=x_2,second=x_7), 37800.0)\n",
      "(docplex.mp.quad.VarPair(first=x_2,second=x_8), 97200)\n",
      "(docplex.mp.quad.VarPair(first=x_2,second=x_9), 97200)\n",
      "(docplex.mp.quad.VarPair(first=x_2,second=x_11), 97200)\n",
      "(docplex.mp.quad.VarPair(first=x_2,second=x_12), 32400)\n",
      "(docplex.mp.quad.VarPair(first=x_2,second=x_13), 32400)\n",
      "(docplex.mp.quad.VarPair(first=x_2,second=x_15), 32400)\n",
      "(docplex.mp.quad.VarPair(first=x_2,second=slack_C8_0), 1200)\n",
      "(docplex.mp.quad.VarPair(first=x_2,second=slack_C8_1), 2400)\n",
      "(docplex.mp.quad.VarPair(first=x_2,second=slack_C8_2), 4800)\n",
      "(docplex.mp.quad.VarPair(first=x_2,second=slack_C8_3), 9600)\n",
      "(docplex.mp.quad.VarPair(first=x_2,second=slack_C8_4), 19200)\n",
      "(docplex.mp.quad.VarPair(first=x_2,second=slack_C8_5), 38400)\n",
      "(docplex.mp.quad.VarPair(first=x_2,second=slack_C8_6), 44400)\n",
      "(docplex.mp.quad.VarPair(first=x_3,second=x_4), 37800.0)\n",
      "(docplex.mp.quad.VarPair(first=x_3,second=x_5), 37800.0)\n",
      "(docplex.mp.quad.VarPair(first=x_3,second=x_6), 37800.0)\n",
      "(docplex.mp.quad.VarPair(first=x_3,second=x_8), 97200)\n",
      "(docplex.mp.quad.VarPair(first=x_3,second=x_9), 97200)\n",
      "(docplex.mp.quad.VarPair(first=x_3,second=x_10), 97200)\n",
      "(docplex.mp.quad.VarPair(first=x_3,second=x_12), 32400)\n",
      "(docplex.mp.quad.VarPair(first=x_3,second=x_13), 32400)\n",
      "(docplex.mp.quad.VarPair(first=x_3,second=x_14), 32400)\n",
      "(docplex.mp.quad.VarPair(first=x_3,second=slack_C8_0), 1200)\n",
      "(docplex.mp.quad.VarPair(first=x_3,second=slack_C8_1), 2400)\n",
      "(docplex.mp.quad.VarPair(first=x_3,second=slack_C8_2), 4800)\n",
      "(docplex.mp.quad.VarPair(first=x_3,second=slack_C8_3), 9600)\n",
      "(docplex.mp.quad.VarPair(first=x_3,second=slack_C8_4), 19200)\n",
      "(docplex.mp.quad.VarPair(first=x_3,second=slack_C8_5), 38400)\n",
      "(docplex.mp.quad.VarPair(first=x_3,second=slack_C8_6), 44400)\n",
      "(docplex.mp.quad.VarPair(first=x_4,second=x_9), 510300.0)\n",
      "(docplex.mp.quad.VarPair(first=x_4,second=x_10), 510300.0)\n",
      "(docplex.mp.quad.VarPair(first=x_4,second=x_11), 510300.0)\n",
      "(docplex.mp.quad.VarPair(first=x_4,second=x_13), 170100.0)\n",
      "(docplex.mp.quad.VarPair(first=x_4,second=x_14), 170100.0)\n",
      "(docplex.mp.quad.VarPair(first=x_4,second=x_15), 170100.0)\n",
      "(docplex.mp.quad.VarPair(first=x_4,second=slack_C8_0), 6300.0)\n",
      "(docplex.mp.quad.VarPair(first=x_4,second=slack_C8_1), 12600.0)\n",
      "(docplex.mp.quad.VarPair(first=x_4,second=slack_C8_2), 25200.0)\n",
      "(docplex.mp.quad.VarPair(first=x_4,second=slack_C8_3), 50400.0)\n",
      "(docplex.mp.quad.VarPair(first=x_4,second=slack_C8_4), 100800.0)\n",
      "(docplex.mp.quad.VarPair(first=x_4,second=slack_C8_5), 201600.0)\n",
      "(docplex.mp.quad.VarPair(first=x_4,second=slack_C8_6), 233100.0)\n",
      "(docplex.mp.quad.VarPair(first=x_5,second=x_8), 510300.0)\n",
      "(docplex.mp.quad.VarPair(first=x_5,second=x_10), 510300.0)\n",
      "(docplex.mp.quad.VarPair(first=x_5,second=x_11), 510300.0)\n",
      "(docplex.mp.quad.VarPair(first=x_5,second=x_12), 170100.0)\n",
      "(docplex.mp.quad.VarPair(first=x_5,second=x_14), 170100.0)\n",
      "(docplex.mp.quad.VarPair(first=x_5,second=x_15), 170100.0)\n",
      "(docplex.mp.quad.VarPair(first=x_5,second=slack_C8_0), 6300.0)\n",
      "(docplex.mp.quad.VarPair(first=x_5,second=slack_C8_1), 12600.0)\n",
      "(docplex.mp.quad.VarPair(first=x_5,second=slack_C8_2), 25200.0)\n",
      "(docplex.mp.quad.VarPair(first=x_5,second=slack_C8_3), 50400.0)\n",
      "(docplex.mp.quad.VarPair(first=x_5,second=slack_C8_4), 100800.0)\n",
      "(docplex.mp.quad.VarPair(first=x_5,second=slack_C8_5), 201600.0)\n",
      "(docplex.mp.quad.VarPair(first=x_5,second=slack_C8_6), 233100.0)\n",
      "(docplex.mp.quad.VarPair(first=x_6,second=x_8), 510300.0)\n",
      "(docplex.mp.quad.VarPair(first=x_6,second=x_9), 510300.0)\n",
      "(docplex.mp.quad.VarPair(first=x_6,second=x_11), 510300.0)\n",
      "(docplex.mp.quad.VarPair(first=x_6,second=x_12), 170100.0)\n",
      "(docplex.mp.quad.VarPair(first=x_6,second=x_13), 170100.0)\n",
      "(docplex.mp.quad.VarPair(first=x_6,second=x_15), 170100.0)\n",
      "(docplex.mp.quad.VarPair(first=x_6,second=slack_C8_0), 6300.0)\n",
      "(docplex.mp.quad.VarPair(first=x_6,second=slack_C8_1), 12600.0)\n",
      "(docplex.mp.quad.VarPair(first=x_6,second=slack_C8_2), 25200.0)\n",
      "(docplex.mp.quad.VarPair(first=x_6,second=slack_C8_3), 50400.0)\n",
      "(docplex.mp.quad.VarPair(first=x_6,second=slack_C8_4), 100800.0)\n",
      "(docplex.mp.quad.VarPair(first=x_6,second=slack_C8_5), 201600.0)\n",
      "(docplex.mp.quad.VarPair(first=x_6,second=slack_C8_6), 233100.0)\n",
      "(docplex.mp.quad.VarPair(first=x_7,second=x_8), 510300.0)\n",
      "(docplex.mp.quad.VarPair(first=x_7,second=x_9), 510300.0)\n",
      "(docplex.mp.quad.VarPair(first=x_7,second=x_10), 510300.0)\n",
      "(docplex.mp.quad.VarPair(first=x_7,second=x_12), 170100.0)\n",
      "(docplex.mp.quad.VarPair(first=x_7,second=x_13), 170100.0)\n",
      "(docplex.mp.quad.VarPair(first=x_7,second=x_14), 170100.0)\n",
      "(docplex.mp.quad.VarPair(first=x_7,second=slack_C8_0), 6300.0)\n",
      "(docplex.mp.quad.VarPair(first=x_7,second=slack_C8_1), 12600.0)\n",
      "(docplex.mp.quad.VarPair(first=x_7,second=slack_C8_2), 25200.0)\n",
      "(docplex.mp.quad.VarPair(first=x_7,second=slack_C8_3), 50400.0)\n",
      "(docplex.mp.quad.VarPair(first=x_7,second=slack_C8_4), 100800.0)\n",
      "(docplex.mp.quad.VarPair(first=x_7,second=slack_C8_5), 201600.0)\n",
      "(docplex.mp.quad.VarPair(first=x_7,second=slack_C8_6), 233100.0)\n",
      "(docplex.mp.quad.VarPair(first=x_8,second=x_13), 437400)\n",
      "(docplex.mp.quad.VarPair(first=x_8,second=x_14), 437400)\n",
      "(docplex.mp.quad.VarPair(first=x_8,second=x_15), 437400)\n",
      "(docplex.mp.quad.VarPair(first=x_8,second=slack_C8_0), 16200)\n",
      "(docplex.mp.quad.VarPair(first=x_8,second=slack_C8_1), 32400)\n",
      "(docplex.mp.quad.VarPair(first=x_8,second=slack_C8_2), 64800)\n",
      "(docplex.mp.quad.VarPair(first=x_8,second=slack_C8_3), 129600)\n",
      "(docplex.mp.quad.VarPair(first=x_8,second=slack_C8_4), 259200)\n",
      "(docplex.mp.quad.VarPair(first=x_8,second=slack_C8_5), 518400)\n",
      "(docplex.mp.quad.VarPair(first=x_8,second=slack_C8_6), 599400)\n",
      "(docplex.mp.quad.VarPair(first=x_9,second=x_12), 437400)\n",
      "(docplex.mp.quad.VarPair(first=x_9,second=x_14), 437400)\n",
      "(docplex.mp.quad.VarPair(first=x_9,second=x_15), 437400)\n",
      "(docplex.mp.quad.VarPair(first=x_9,second=slack_C8_0), 16200)\n",
      "(docplex.mp.quad.VarPair(first=x_9,second=slack_C8_1), 32400)\n",
      "(docplex.mp.quad.VarPair(first=x_9,second=slack_C8_2), 64800)\n",
      "(docplex.mp.quad.VarPair(first=x_9,second=slack_C8_3), 129600)\n",
      "(docplex.mp.quad.VarPair(first=x_9,second=slack_C8_4), 259200)\n",
      "(docplex.mp.quad.VarPair(first=x_9,second=slack_C8_5), 518400)\n",
      "(docplex.mp.quad.VarPair(first=x_9,second=slack_C8_6), 599400)\n",
      "(docplex.mp.quad.VarPair(first=x_10,second=x_12), 437400)\n",
      "(docplex.mp.quad.VarPair(first=x_10,second=x_13), 437400)\n",
      "(docplex.mp.quad.VarPair(first=x_10,second=x_15), 437400)\n",
      "(docplex.mp.quad.VarPair(first=x_10,second=slack_C8_0), 16200)\n",
      "(docplex.mp.quad.VarPair(first=x_10,second=slack_C8_1), 32400)\n",
      "(docplex.mp.quad.VarPair(first=x_10,second=slack_C8_2), 64800)\n",
      "(docplex.mp.quad.VarPair(first=x_10,second=slack_C8_3), 129600)\n",
      "(docplex.mp.quad.VarPair(first=x_10,second=slack_C8_4), 259200)\n",
      "(docplex.mp.quad.VarPair(first=x_10,second=slack_C8_5), 518400)\n",
      "(docplex.mp.quad.VarPair(first=x_10,second=slack_C8_6), 599400)\n",
      "(docplex.mp.quad.VarPair(first=x_11,second=x_12), 437400)\n",
      "(docplex.mp.quad.VarPair(first=x_11,second=x_13), 437400)\n",
      "(docplex.mp.quad.VarPair(first=x_11,second=x_14), 437400)\n",
      "(docplex.mp.quad.VarPair(first=x_11,second=slack_C8_0), 16200)\n",
      "(docplex.mp.quad.VarPair(first=x_11,second=slack_C8_1), 32400)\n",
      "(docplex.mp.quad.VarPair(first=x_11,second=slack_C8_2), 64800)\n",
      "(docplex.mp.quad.VarPair(first=x_11,second=slack_C8_3), 129600)\n",
      "(docplex.mp.quad.VarPair(first=x_11,second=slack_C8_4), 259200)\n",
      "(docplex.mp.quad.VarPair(first=x_11,second=slack_C8_5), 518400)\n",
      "(docplex.mp.quad.VarPair(first=x_11,second=slack_C8_6), 599400)\n",
      "(docplex.mp.quad.VarPair(first=x_12,second=slack_C8_0), 5400)\n",
      "(docplex.mp.quad.VarPair(first=x_12,second=slack_C8_1), 10800)\n",
      "(docplex.mp.quad.VarPair(first=x_12,second=slack_C8_2), 21600)\n",
      "(docplex.mp.quad.VarPair(first=x_12,second=slack_C8_3), 43200)\n",
      "(docplex.mp.quad.VarPair(first=x_12,second=slack_C8_4), 86400)\n",
      "(docplex.mp.quad.VarPair(first=x_12,second=slack_C8_5), 172800)\n",
      "(docplex.mp.quad.VarPair(first=x_12,second=slack_C8_6), 199800)\n",
      "(docplex.mp.quad.VarPair(first=x_13,second=slack_C8_0), 5400)\n",
      "(docplex.mp.quad.VarPair(first=x_13,second=slack_C8_1), 10800)\n",
      "(docplex.mp.quad.VarPair(first=x_13,second=slack_C8_2), 21600)\n",
      "(docplex.mp.quad.VarPair(first=x_13,second=slack_C8_3), 43200)\n",
      "(docplex.mp.quad.VarPair(first=x_13,second=slack_C8_4), 86400)\n",
      "(docplex.mp.quad.VarPair(first=x_13,second=slack_C8_5), 172800)\n",
      "(docplex.mp.quad.VarPair(first=x_13,second=slack_C8_6), 199800)\n",
      "(docplex.mp.quad.VarPair(first=x_14,second=slack_C8_0), 5400)\n",
      "(docplex.mp.quad.VarPair(first=x_14,second=slack_C8_1), 10800)\n",
      "(docplex.mp.quad.VarPair(first=x_14,second=slack_C8_2), 21600)\n",
      "(docplex.mp.quad.VarPair(first=x_14,second=slack_C8_3), 43200)\n",
      "(docplex.mp.quad.VarPair(first=x_14,second=slack_C8_4), 86400)\n",
      "(docplex.mp.quad.VarPair(first=x_14,second=slack_C8_5), 172800)\n",
      "(docplex.mp.quad.VarPair(first=x_14,second=slack_C8_6), 199800)\n",
      "(docplex.mp.quad.VarPair(first=x_15,second=slack_C8_0), 5400)\n",
      "(docplex.mp.quad.VarPair(first=x_15,second=slack_C8_1), 10800)\n",
      "(docplex.mp.quad.VarPair(first=x_15,second=slack_C8_2), 21600)\n",
      "(docplex.mp.quad.VarPair(first=x_15,second=slack_C8_3), 43200)\n",
      "(docplex.mp.quad.VarPair(first=x_15,second=slack_C8_4), 86400)\n",
      "(docplex.mp.quad.VarPair(first=x_15,second=slack_C8_5), 172800)\n",
      "(docplex.mp.quad.VarPair(first=x_15,second=slack_C8_6), 199800)\n",
      "(docplex.mp.quad.VarPair(first=slack_C8_0,second=slack_C8_0), 100)\n",
      "(docplex.mp.quad.VarPair(first=slack_C8_0,second=slack_C8_1), 400)\n",
      "(docplex.mp.quad.VarPair(first=slack_C8_0,second=slack_C8_2), 800)\n",
      "(docplex.mp.quad.VarPair(first=slack_C8_0,second=slack_C8_3), 1600)\n",
      "(docplex.mp.quad.VarPair(first=slack_C8_0,second=slack_C8_4), 3200)\n",
      "(docplex.mp.quad.VarPair(first=slack_C8_0,second=slack_C8_5), 6400)\n",
      "(docplex.mp.quad.VarPair(first=slack_C8_0,second=slack_C8_6), 7400)\n",
      "(docplex.mp.quad.VarPair(first=slack_C8_1,second=slack_C8_1), 400)\n",
      "(docplex.mp.quad.VarPair(first=slack_C8_1,second=slack_C8_2), 1600)\n",
      "(docplex.mp.quad.VarPair(first=slack_C8_1,second=slack_C8_3), 3200)\n",
      "(docplex.mp.quad.VarPair(first=slack_C8_1,second=slack_C8_4), 6400)\n",
      "(docplex.mp.quad.VarPair(first=slack_C8_1,second=slack_C8_5), 12800)\n",
      "(docplex.mp.quad.VarPair(first=slack_C8_1,second=slack_C8_6), 14800)\n",
      "(docplex.mp.quad.VarPair(first=slack_C8_2,second=slack_C8_2), 1600)\n",
      "(docplex.mp.quad.VarPair(first=slack_C8_2,second=slack_C8_3), 6400)\n",
      "(docplex.mp.quad.VarPair(first=slack_C8_2,second=slack_C8_4), 12800)\n",
      "(docplex.mp.quad.VarPair(first=slack_C8_2,second=slack_C8_5), 25600)\n",
      "(docplex.mp.quad.VarPair(first=slack_C8_2,second=slack_C8_6), 29600)\n",
      "(docplex.mp.quad.VarPair(first=slack_C8_3,second=slack_C8_3), 6400)\n",
      "(docplex.mp.quad.VarPair(first=slack_C8_3,second=slack_C8_4), 25600)\n",
      "(docplex.mp.quad.VarPair(first=slack_C8_3,second=slack_C8_5), 51200)\n",
      "(docplex.mp.quad.VarPair(first=slack_C8_3,second=slack_C8_6), 59200)\n",
      "(docplex.mp.quad.VarPair(first=slack_C8_4,second=slack_C8_4), 25600)\n",
      "(docplex.mp.quad.VarPair(first=slack_C8_4,second=slack_C8_5), 102400)\n",
      "(docplex.mp.quad.VarPair(first=slack_C8_4,second=slack_C8_6), 118400)\n",
      "(docplex.mp.quad.VarPair(first=slack_C8_5,second=slack_C8_5), 102400)\n",
      "(docplex.mp.quad.VarPair(first=slack_C8_5,second=slack_C8_6), 236800)\n",
      "(docplex.mp.quad.VarPair(first=slack_C8_6,second=slack_C8_6), 136900)\n"
     ]
    },
    {
     "data": {
      "text/plain": [
       "(<openqaoa.problems.qubo.QUBO at 0x212ffaaaf20>, docplex.mp.Model['ALO'])"
      ]
     },
     "execution_count": 6,
     "metadata": {},
     "output_type": "execute_result"
    }
   ],
   "source": [
    "alo = ALOClassic(inst)\n",
    "alo.to_qubo_and_ising(unbalanced=False,debug=True)"
   ]
  },
  {
   "cell_type": "code",
   "execution_count": 8,
   "id": "68d10b26-035d-4f4e-b550-fd8792bd0b55",
   "metadata": {
    "scrolled": true
   },
   "outputs": [
    {
     "name": "stdout",
     "output_type": "stream",
     "text": [
      "GENERAL OPTIMIZATION FORM:\n",
      "-40x_4*x_5-40x_5*x_6-40x_6*x_7-6x_0-6x_1-6x_2-6x_3-11.500x_4-11.500x_5-11.500x_6-11.500x_7-81x_8-81x_9-81x_10-81x_11-27x_12-27x_13-27x_14-27x_15 \n",
      "\n",
      "constraints:\n",
      "no overlaps: 0.500x_0+x_4+x_8+0.500x_12 == 1\n",
      "no overlaps: 0.500x_1+x_5+x_9+0.500x_13 == 1\n",
      "no overlaps: 0.500x_2+x_6+x_10+0.500x_14 == 1\n",
      "no overlaps: 0.500x_3+x_7+x_11+0.500x_15 == 1\n",
      "no duplicates: x_0+x_1+x_2+x_3 == 1\n",
      "no duplicates: 0.500x_4+0.500x_5+0.500x_6+0.500x_7 == 1\n",
      "no duplicates: x_8+x_9+x_10+x_11 == 1\n",
      "no duplicates: x_12+x_13+x_14+x_15 == 1\n",
      "maximum capacity: 6x_0+6x_1+6x_2+6x_3+31.500x_4+31.500x_5+31.500x_6+31.500x_7+81x_8+81x_9+81x_10+81x_11+27x_12+27x_13+27x_14+27x_15 <= 100\n",
      "QUBO FORM:\n",
      "linear terms:\n",
      "(docplex.mp.Var(type=B,name='x_0'), -344.7582)\n",
      "(docplex.mp.Var(type=B,name='x_1'), -344.7582)\n",
      "(docplex.mp.Var(type=B,name='x_2'), -344.7582)\n",
      "(docplex.mp.Var(type=B,name='x_3'), -344.7582)\n",
      "(docplex.mp.Var(type=B,name='x_4'), -514.98055)\n",
      "(docplex.mp.Var(type=B,name='x_5'), -514.98055)\n",
      "(docplex.mp.Var(type=B,name='x_6'), -514.98055)\n",
      "(docplex.mp.Var(type=B,name='x_7'), -514.98055)\n",
      "(docplex.mp.Var(type=B,name='x_8'), -1004.2357)\n",
      "(docplex.mp.Var(type=B,name='x_9'), -1004.2357)\n",
      "(docplex.mp.Var(type=B,name='x_10'), -1004.2357)\n",
      "(docplex.mp.Var(type=B,name='x_11'), -1004.2357)\n",
      "(docplex.mp.Var(type=B,name='x_12'), -501.4119)\n",
      "(docplex.mp.Var(type=B,name='x_13'), -501.4119)\n",
      "(docplex.mp.Var(type=B,name='x_14'), -501.4119)\n",
      "(docplex.mp.Var(type=B,name='x_15'), -501.4119)\n",
      "\n",
      "quad. terms:\n",
      "(docplex.mp.quad.VarPair(first=x_4,second=x_5), 83.62495)\n",
      "(docplex.mp.quad.VarPair(first=x_5,second=x_6), 83.62495)\n",
      "(docplex.mp.quad.VarPair(first=x_6,second=x_7), 83.62495)\n",
      "(docplex.mp.quad.VarPair(first=x_0,second=x_0), 126.3356)\n",
      "(docplex.mp.quad.VarPair(first=x_0,second=x_4), 114.0238)\n",
      "(docplex.mp.quad.VarPair(first=x_0,second=x_8), 136.06119999999999)\n",
      "(docplex.mp.quad.VarPair(first=x_0,second=x_12), 62.0204)\n",
      "(docplex.mp.quad.VarPair(first=x_4,second=x_4), 161.812475)\n",
      "(docplex.mp.quad.VarPair(first=x_4,second=x_8), 389.3213)\n",
      "(docplex.mp.quad.VarPair(first=x_4,second=x_12), 163.1071)\n",
      "(docplex.mp.quad.VarPair(first=x_8,second=x_8), 443.4131)\n",
      "(docplex.mp.quad.VarPair(first=x_8,second=x_12), 262.2754)\n",
      "(docplex.mp.quad.VarPair(first=x_12,second=x_12), 152.0459)\n",
      "(docplex.mp.quad.VarPair(first=x_1,second=x_1), 126.3356)\n",
      "(docplex.mp.quad.VarPair(first=x_1,second=x_5), 114.0238)\n",
      "(docplex.mp.quad.VarPair(first=x_1,second=x_9), 136.06119999999999)\n",
      "(docplex.mp.quad.VarPair(first=x_1,second=x_13), 62.0204)\n",
      "(docplex.mp.quad.VarPair(first=x_5,second=x_5), 161.812475)\n",
      "(docplex.mp.quad.VarPair(first=x_5,second=x_9), 389.3213)\n",
      "(docplex.mp.quad.VarPair(first=x_5,second=x_13), 163.1071)\n",
      "(docplex.mp.quad.VarPair(first=x_9,second=x_9), 443.4131)\n",
      "(docplex.mp.quad.VarPair(first=x_9,second=x_13), 262.2754)\n",
      "(docplex.mp.quad.VarPair(first=x_13,second=x_13), 152.0459)\n",
      "(docplex.mp.quad.VarPair(first=x_2,second=x_2), 126.3356)\n",
      "(docplex.mp.quad.VarPair(first=x_2,second=x_6), 114.0238)\n",
      "(docplex.mp.quad.VarPair(first=x_2,second=x_10), 136.06119999999999)\n",
      "(docplex.mp.quad.VarPair(first=x_2,second=x_14), 62.0204)\n",
      "(docplex.mp.quad.VarPair(first=x_6,second=x_6), 161.812475)\n",
      "(docplex.mp.quad.VarPair(first=x_6,second=x_10), 389.3213)\n",
      "(docplex.mp.quad.VarPair(first=x_6,second=x_14), 163.1071)\n",
      "(docplex.mp.quad.VarPair(first=x_10,second=x_10), 443.4131)\n",
      "(docplex.mp.quad.VarPair(first=x_10,second=x_14), 262.2754)\n",
      "(docplex.mp.quad.VarPair(first=x_14,second=x_14), 152.0459)\n",
      "(docplex.mp.quad.VarPair(first=x_3,second=x_3), 126.3356)\n",
      "(docplex.mp.quad.VarPair(first=x_3,second=x_7), 114.0238)\n",
      "(docplex.mp.quad.VarPair(first=x_3,second=x_11), 136.06119999999999)\n",
      "(docplex.mp.quad.VarPair(first=x_3,second=x_15), 62.0204)\n",
      "(docplex.mp.quad.VarPair(first=x_7,second=x_7), 161.812475)\n",
      "(docplex.mp.quad.VarPair(first=x_7,second=x_11), 389.3213)\n",
      "(docplex.mp.quad.VarPair(first=x_7,second=x_15), 163.1071)\n",
      "(docplex.mp.quad.VarPair(first=x_11,second=x_11), 443.4131)\n",
      "(docplex.mp.quad.VarPair(first=x_11,second=x_15), 262.2754)\n",
      "(docplex.mp.quad.VarPair(first=x_15,second=x_15), 152.0459)\n",
      "(docplex.mp.quad.VarPair(first=x_0,second=x_1), 202.6712)\n",
      "(docplex.mp.quad.VarPair(first=x_0,second=x_2), 202.6712)\n",
      "(docplex.mp.quad.VarPair(first=x_0,second=x_3), 202.6712)\n",
      "(docplex.mp.quad.VarPair(first=x_1,second=x_2), 202.6712)\n",
      "(docplex.mp.quad.VarPair(first=x_1,second=x_3), 202.6712)\n",
      "(docplex.mp.quad.VarPair(first=x_2,second=x_3), 202.6712)\n",
      "(docplex.mp.quad.VarPair(first=x_4,second=x_6), 123.62495)\n",
      "(docplex.mp.quad.VarPair(first=x_4,second=x_7), 123.62495)\n",
      "(docplex.mp.quad.VarPair(first=x_5,second=x_7), 123.62495)\n",
      "(docplex.mp.quad.VarPair(first=x_8,second=x_9), 686.8262)\n",
      "(docplex.mp.quad.VarPair(first=x_8,second=x_10), 686.8262)\n",
      "(docplex.mp.quad.VarPair(first=x_8,second=x_11), 686.8262)\n",
      "(docplex.mp.quad.VarPair(first=x_9,second=x_10), 686.8262)\n",
      "(docplex.mp.quad.VarPair(first=x_9,second=x_11), 686.8262)\n",
      "(docplex.mp.quad.VarPair(first=x_10,second=x_11), 686.8262)\n",
      "(docplex.mp.quad.VarPair(first=x_12,second=x_13), 254.0918)\n",
      "(docplex.mp.quad.VarPair(first=x_12,second=x_14), 254.0918)\n",
      "(docplex.mp.quad.VarPair(first=x_12,second=x_15), 254.0918)\n",
      "(docplex.mp.quad.VarPair(first=x_13,second=x_14), 254.0918)\n",
      "(docplex.mp.quad.VarPair(first=x_13,second=x_15), 254.0918)\n",
      "(docplex.mp.quad.VarPair(first=x_14,second=x_15), 254.0918)\n",
      "(docplex.mp.quad.VarPair(first=x_0,second=x_5), 14.0238)\n",
      "(docplex.mp.quad.VarPair(first=x_0,second=x_6), 14.0238)\n",
      "(docplex.mp.quad.VarPair(first=x_0,second=x_7), 14.0238)\n",
      "(docplex.mp.quad.VarPair(first=x_0,second=x_9), 36.0612)\n",
      "(docplex.mp.quad.VarPair(first=x_0,second=x_10), 36.0612)\n",
      "(docplex.mp.quad.VarPair(first=x_0,second=x_11), 36.0612)\n",
      "(docplex.mp.quad.VarPair(first=x_0,second=x_13), 12.0204)\n",
      "(docplex.mp.quad.VarPair(first=x_0,second=x_14), 12.0204)\n",
      "(docplex.mp.quad.VarPair(first=x_0,second=x_15), 12.0204)\n",
      "(docplex.mp.quad.VarPair(first=x_1,second=x_4), 14.0238)\n",
      "(docplex.mp.quad.VarPair(first=x_1,second=x_6), 14.0238)\n",
      "(docplex.mp.quad.VarPair(first=x_1,second=x_7), 14.0238)\n",
      "(docplex.mp.quad.VarPair(first=x_1,second=x_8), 36.0612)\n",
      "(docplex.mp.quad.VarPair(first=x_1,second=x_10), 36.0612)\n",
      "(docplex.mp.quad.VarPair(first=x_1,second=x_11), 36.0612)\n",
      "(docplex.mp.quad.VarPair(first=x_1,second=x_12), 12.0204)\n",
      "(docplex.mp.quad.VarPair(first=x_1,second=x_14), 12.0204)\n",
      "(docplex.mp.quad.VarPair(first=x_1,second=x_15), 12.0204)\n",
      "(docplex.mp.quad.VarPair(first=x_2,second=x_4), 14.0238)\n",
      "(docplex.mp.quad.VarPair(first=x_2,second=x_5), 14.0238)\n",
      "(docplex.mp.quad.VarPair(first=x_2,second=x_7), 14.0238)\n",
      "(docplex.mp.quad.VarPair(first=x_2,second=x_8), 36.0612)\n",
      "(docplex.mp.quad.VarPair(first=x_2,second=x_9), 36.0612)\n",
      "(docplex.mp.quad.VarPair(first=x_2,second=x_11), 36.0612)\n",
      "(docplex.mp.quad.VarPair(first=x_2,second=x_12), 12.0204)\n",
      "(docplex.mp.quad.VarPair(first=x_2,second=x_13), 12.0204)\n",
      "(docplex.mp.quad.VarPair(first=x_2,second=x_15), 12.0204)\n",
      "(docplex.mp.quad.VarPair(first=x_3,second=x_4), 14.0238)\n",
      "(docplex.mp.quad.VarPair(first=x_3,second=x_5), 14.0238)\n",
      "(docplex.mp.quad.VarPair(first=x_3,second=x_6), 14.0238)\n",
      "(docplex.mp.quad.VarPair(first=x_3,second=x_8), 36.0612)\n",
      "(docplex.mp.quad.VarPair(first=x_3,second=x_9), 36.0612)\n",
      "(docplex.mp.quad.VarPair(first=x_3,second=x_10), 36.0612)\n",
      "(docplex.mp.quad.VarPair(first=x_3,second=x_12), 12.0204)\n",
      "(docplex.mp.quad.VarPair(first=x_3,second=x_13), 12.0204)\n",
      "(docplex.mp.quad.VarPair(first=x_3,second=x_14), 12.0204)\n",
      "(docplex.mp.quad.VarPair(first=x_4,second=x_9), 189.3213)\n",
      "(docplex.mp.quad.VarPair(first=x_4,second=x_10), 189.3213)\n",
      "(docplex.mp.quad.VarPair(first=x_4,second=x_11), 189.3213)\n",
      "(docplex.mp.quad.VarPair(first=x_4,second=x_13), 63.1071)\n",
      "(docplex.mp.quad.VarPair(first=x_4,second=x_14), 63.1071)\n",
      "(docplex.mp.quad.VarPair(first=x_4,second=x_15), 63.1071)\n",
      "(docplex.mp.quad.VarPair(first=x_5,second=x_8), 189.3213)\n",
      "(docplex.mp.quad.VarPair(first=x_5,second=x_10), 189.3213)\n",
      "(docplex.mp.quad.VarPair(first=x_5,second=x_11), 189.3213)\n",
      "(docplex.mp.quad.VarPair(first=x_5,second=x_12), 63.1071)\n",
      "(docplex.mp.quad.VarPair(first=x_5,second=x_14), 63.1071)\n",
      "(docplex.mp.quad.VarPair(first=x_5,second=x_15), 63.1071)\n",
      "(docplex.mp.quad.VarPair(first=x_6,second=x_8), 189.3213)\n",
      "(docplex.mp.quad.VarPair(first=x_6,second=x_9), 189.3213)\n",
      "(docplex.mp.quad.VarPair(first=x_6,second=x_11), 189.3213)\n",
      "(docplex.mp.quad.VarPair(first=x_6,second=x_12), 63.1071)\n",
      "(docplex.mp.quad.VarPair(first=x_6,second=x_13), 63.1071)\n",
      "(docplex.mp.quad.VarPair(first=x_6,second=x_15), 63.1071)\n",
      "(docplex.mp.quad.VarPair(first=x_7,second=x_8), 189.3213)\n",
      "(docplex.mp.quad.VarPair(first=x_7,second=x_9), 189.3213)\n",
      "(docplex.mp.quad.VarPair(first=x_7,second=x_10), 189.3213)\n",
      "(docplex.mp.quad.VarPair(first=x_7,second=x_12), 63.1071)\n",
      "(docplex.mp.quad.VarPair(first=x_7,second=x_13), 63.1071)\n",
      "(docplex.mp.quad.VarPair(first=x_7,second=x_14), 63.1071)\n",
      "(docplex.mp.quad.VarPair(first=x_8,second=x_13), 162.2754)\n",
      "(docplex.mp.quad.VarPair(first=x_8,second=x_14), 162.2754)\n",
      "(docplex.mp.quad.VarPair(first=x_8,second=x_15), 162.2754)\n",
      "(docplex.mp.quad.VarPair(first=x_9,second=x_12), 162.2754)\n",
      "(docplex.mp.quad.VarPair(first=x_9,second=x_14), 162.2754)\n",
      "(docplex.mp.quad.VarPair(first=x_9,second=x_15), 162.2754)\n",
      "(docplex.mp.quad.VarPair(first=x_10,second=x_12), 162.2754)\n",
      "(docplex.mp.quad.VarPair(first=x_10,second=x_13), 162.2754)\n",
      "(docplex.mp.quad.VarPair(first=x_10,second=x_15), 162.2754)\n",
      "(docplex.mp.quad.VarPair(first=x_11,second=x_12), 162.2754)\n",
      "(docplex.mp.quad.VarPair(first=x_11,second=x_13), 162.2754)\n",
      "(docplex.mp.quad.VarPair(first=x_11,second=x_14), 162.2754)\n"
     ]
    },
    {
     "data": {
      "text/plain": [
       "(<openqaoa.problems.qubo.QUBO at 0x212ffb8b730>, docplex.mp.Model['ALO'])"
      ]
     },
     "execution_count": 8,
     "metadata": {},
     "output_type": "execute_result"
    }
   ],
   "source": [
    "alo = ALOClassic(inst)\n",
    "alo.to_qubo_and_ising(unbalanced=True,debug=True)"
   ]
  },
  {
   "cell_type": "markdown",
   "id": "04eddc6c-fd06-4ded-84f0-46e3339a7fdc",
   "metadata": {},
   "source": [
    "### Qubo solution to standard solution and drawer"
   ]
  },
  {
   "cell_type": "code",
   "execution_count": 1,
   "id": "2c962660-7245-4d6d-be42-9300102a0dc7",
   "metadata": {},
   "outputs": [
    {
     "data": {
      "text/plain": [
       "{'num_containers': 4,\n",
       " 'num_positions': 4,\n",
       " 'containers_weight': [92, 82, 52, 30],\n",
       " 'containers_type': [2, 3, 2, 3],\n",
       " 't_list': [1, 0.5, 1, 0.5],\n",
       " 'd_list': [0.5, 1, 0.5, 1],\n",
       " 'max_weight': 100,\n",
       " 'allBinaryVariables': [0, 1, 2, 3, 4, 5, 6, 7, 8, 9, 10, 11, 12, 13, 14, 15]}"
      ]
     },
     "metadata": {},
     "output_type": "display_data"
    }
   ],
   "source": [
    "from ALORandomGenerator import ALORandomGenerator\n",
    "from ALOClassic import ALOClassic\n",
    "import json\n",
    "\n",
    "gen = ALORandomGenerator(4,4)\n",
    "inst = json.loads(gen.generate_random_instance())\n",
    "display(inst)\n",
    "alo = ALOClassic(inst)"
   ]
  },
  {
   "cell_type": "code",
   "execution_count": 4,
   "id": "aaf5a403-32cf-4753-8464-f9413df39772",
   "metadata": {
    "scrolled": true
   },
   "outputs": [
    {
     "data": {
      "image/png": "[encoded data removed]",
      "text/plain": [
       "<Figure size 400x50 with 1 Axes>"
      ]
     },
     "metadata": {},
     "output_type": "display_data"
    },
    {
     "data": {
      "image/png": "[encoded data removed]",
      "text/plain": [
       "<Figure size 400x100 with 1 Axes>"
      ]
     },
     "metadata": {},
     "output_type": "display_data"
    },
    {
     "data": {
      "image/png": "[encoded data removed]",
      "text/plain": [
       "<Figure size 400x100 with 1 Axes>"
      ]
     },
     "metadata": {},
     "output_type": "display_data"
    },
    {
     "data": {
      "image/png": "[encoded data removed]",
      "text/plain": [
       "<Figure size 400x150 with 1 Axes>"
      ]
     },
     "metadata": {},
     "output_type": "display_data"
    },
    {
     "data": {
      "image/png": "[encoded data removed]",
      "text/plain": [
       "<Figure size 400x200 with 1 Axes>"
      ]
     },
     "metadata": {},
     "output_type": "display_data"
    },
    {
     "data": {
      "image/png": "[encoded data removed]",
      "text/plain": [
       "<Figure size 400x100 with 1 Axes>"
      ]
     },
     "metadata": {},
     "output_type": "display_data"
    },
    {
     "name": "stdout",
     "output_type": "stream",
     "text": [
      "standard solutions:\n"
     ]
    },
    {
     "data": {
      "text/plain": [
       "[[[], [], [], []],\n",
       " [[0, 1], [0, 1], [0, 1], [0, 1]],\n",
       " [[2, 3], [2, 3], [2, 3], [2, 3]],\n",
       " [[0, 2, 3], [1, 2, 3], [0, 2, 3], [1, 2, 3]],\n",
       " [[0, 1, 2, 3], [0, 1, 2, 3], [0, 1, 2, 3], [0, 1, 2, 3]],\n",
       " [[0], [1], [1], [2, 3]]]"
      ]
     },
     "execution_count": 4,
     "metadata": {},
     "output_type": "execute_result"
    }
   ],
   "source": [
    "# not neccesary feasible solutions\n",
    "sols = []\n",
    "sols.append(alo.quboSolution_to_standardSolution('0000000000000000',draw=True))\n",
    "sols.append(alo.quboSolution_to_standardSolution('1111111100000000',draw=True))\n",
    "sols.append(alo.quboSolution_to_standardSolution('0000000011111111',draw=True))\n",
    "sols.append(alo.quboSolution_to_standardSolution('1010010111111111',draw=True))\n",
    "sols.append(alo.quboSolution_to_standardSolution('1111111111111111',draw=True))\n",
    "sols.append(alo.quboSolution_to_standardSolution('1000011000010001',draw=True))\n",
    "print('standard solutions:')\n",
    "sols"
   ]
  },
  {
   "cell_type": "markdown",
   "id": "d1d60334-cc41-4d10-acbb-be72f7a04763",
   "metadata": {},
   "source": [
    "### Constraint violations and if is qubo feasible"
   ]
  },
  {
   "cell_type": "code",
   "execution_count": 7,
   "id": "26125d52-d471-4b28-a189-f8c7bc0f307c",
   "metadata": {},
   "outputs": [
    {
     "name": "stdout",
     "output_type": "stream",
     "text": [
      "{'num_containers': 4, 'num_positions': 3, 'containers_weight': [75, 39, 17, 7], 'containers_type': [3, 2, 1, 2], 't_list': [0.5, 1, 1, 1], 'd_list': [1, 0.5, 1, 0.5], 'max_weight': 100, 'allBinaryVariables': [0, 1, 2, 3, 4, 5, 6, 7, 8, 9, 10, 11]} \n",
      "\n",
      "False\n",
      "False\n",
      "False\n",
      "False\n",
      "False\n",
      "\n",
      "True\n",
      "True\n",
      "True\n"
     ]
    }
   ],
   "source": [
    "from ALORandomGenerator import ALORandomGenerator\n",
    "from ALOClassic import ALOClassic\n",
    "import json\n",
    "\n",
    "gen = ALORandomGenerator(4,3)\n",
    "inst = {'num_containers': 4, 'num_positions': 3, 'containers_weight': [75, 39, 17, 7], 'containers_type': [3, 2, 1, 2], 't_list': [0.5, 1, 1, 1], 'd_list': [1, 0.5, 1, 0.5], 'max_weight': 100, 'allBinaryVariables': [0, 1, 2, 3, 4, 5, 6, 7, 8, 9, 10, 11]} \n",
    "alo = ALOClassic(inst)\n",
    "\n",
    "print(inst,'\\n')\n",
    "\n",
    "print(alo.violate_no_overlaps('000000000000')) # False\n",
    "print(alo.violate_no_overlaps('100000000000')) # False\n",
    "print(alo.violate_no_overlaps('111000000000')) # False\n",
    "print(alo.violate_no_overlaps('100010000000')) # False\n",
    "print(alo.violate_no_overlaps('000001000001')) # False\n",
    "print()\n",
    "print(alo.violate_no_overlaps('100100000000')) # True\n",
    "print(alo.violate_no_overlaps('000010010000')) # True\n",
    "print(alo.violate_no_overlaps('001000001000')) # True"
   ]
  },
  {
   "cell_type": "code",
   "execution_count": 8,
   "id": "63622225-09ae-437a-84f6-fb2a735595e9",
   "metadata": {},
   "outputs": [
    {
     "name": "stdout",
     "output_type": "stream",
     "text": [
      "False\n",
      "False\n",
      "False\n",
      "False\n",
      "False\n",
      "\n",
      "True\n",
      "True\n"
     ]
    }
   ],
   "source": [
    "print(alo.violate_no_duplication('000000000000')) # False\n",
    "print(alo.violate_no_duplication('100000000000')) # False\n",
    "print(alo.violate_no_duplication('100100000000')) # False\n",
    "print(alo.violate_no_duplication('100100100000')) # False\n",
    "print(alo.violate_no_duplication('110000000000')) # False\n",
    "print()\n",
    "print(alo.violate_no_duplication('000101000000')) # True\n",
    "print(alo.violate_no_duplication('000000110000')) # True"
   ]
  },
  {
   "cell_type": "code",
   "execution_count": 10,
   "id": "540b1a7b-6937-4f25-94c5-dd700f8e5573",
   "metadata": {},
   "outputs": [
    {
     "name": "stdout",
     "output_type": "stream",
     "text": [
      "False\n",
      "False\n",
      "False\n",
      "False\n",
      "False\n",
      "False\n",
      "False\n",
      "\n",
      "True\n",
      "True\n",
      "True\n"
     ]
    }
   ],
   "source": [
    "gen = ALORandomGenerator(1,5)\n",
    "inst = {'num_containers': 2,\n",
    " 'num_positions': 5,\n",
    " 'containers_weight': [79,34],\n",
    " 'containers_type': [3,3],\n",
    " 't_list': [0.5,0.5],\n",
    " 'd_list': [1,1],\n",
    " 'max_weight': 100,\n",
    " 'allBinaryVariables': [0, 1, 2, 3, 4,5,6,7,8,9]}\n",
    "alo = ALOClassic(inst)\n",
    "\n",
    "print(alo.violate_contiguity('0000000000')) # False\n",
    "print(alo.violate_contiguity('1100000000')) # False\n",
    "print(alo.violate_contiguity('0110000000')) # False\n",
    "print(alo.violate_contiguity('0011000000')) # False\n",
    "print(alo.violate_contiguity('0001100000')) # False\n",
    "print(alo.violate_contiguity('1111000000')) # False\n",
    "print(alo.violate_contiguity('0110000011')) # False\n",
    "print()\n",
    "print(alo.violate_contiguity('1110000000')) # True\n",
    "print(alo.violate_contiguity('1010000000')) # True\n",
    "print(alo.violate_contiguity('0000010001')) # True"
   ]
  },
  {
   "cell_type": "code",
   "execution_count": 11,
   "id": "dc23a7bf-8c42-43b7-b914-e05f57bb551f",
   "metadata": {},
   "outputs": [
    {
     "name": "stdout",
     "output_type": "stream",
     "text": [
      "{'num_containers': 4, 'num_positions': 3, 'containers_weight': [75, 39, 17, 7], 'containers_type': [3, 2, 1, 2], 't_list': [0.5, 1, 1, 1], 'd_list': [1, 0.5, 1, 0.5], 'max_weight': 100, 'allBinaryVariables': [0, 1, 2, 3, 4, 5, 6, 7, 8, 9, 10, 11]} \n",
      "\n",
      "False\n",
      "False\n",
      "False\n",
      "False\n",
      "False\n",
      "False\n",
      "\n",
      "True\n",
      "True\n"
     ]
    }
   ],
   "source": [
    "inst = {'num_containers': 4, 'num_positions': 3, 'containers_weight': [75, 39, 17, 7], 'containers_type': [3, 2, 1, 2], 't_list': [0.5, 1, 1, 1], 'd_list': [1, 0.5, 1, 0.5], 'max_weight': 100, 'allBinaryVariables': [0, 1, 2, 3, 4, 5, 6, 7, 8, 9, 10, 11]} \n",
    "alo = ALOClassic(inst)\n",
    "print(inst,'\\n')\n",
    "\n",
    "print(alo.violate_maximum_weight('000000000000')) # False\n",
    "print(alo.violate_maximum_weight('100000000000')) # False\n",
    "print(alo.violate_maximum_weight('110000000000')) # False\n",
    "print(alo.violate_maximum_weight('100000100000')) # False\n",
    "print(alo.violate_maximum_weight('100000100010')) # False\n",
    "print(alo.violate_maximum_weight('000001110111')) # False\n",
    "print()\n",
    "print(alo.violate_maximum_weight('111000000000')) # True\n",
    "print(alo.violate_maximum_weight('110100000000')) # True"
   ]
  },
  {
   "cell_type": "code",
   "execution_count": 28,
   "id": "c6016e6e-4752-4d99-bb2d-327c4f60e191",
   "metadata": {},
   "outputs": [
    {
     "name": "stdout",
     "output_type": "stream",
     "text": [
      "{'num_containers': 4, 'num_positions': 3, 'containers_weight': [75, 39, 17, 7], 'containers_type': [3, 2, 1, 2], 't_list': [0.5, 1, 1, 1], 'd_list': [1, 0.5, 1, 0.5], 'max_weight': 100, 'allBinaryVariables': [0, 1, 2, 3, 4, 5, 6, 7, 8, 9, 10, 11]} \n",
      "\n",
      "True\n",
      "True\n",
      "True\n",
      "True\n",
      "True\n",
      "\n",
      "False\n",
      "False\n",
      "False\n",
      "False\n",
      "False\n",
      "False\n"
     ]
    }
   ],
   "source": [
    "inst = {'num_containers': 4, 'num_positions': 3, 'containers_weight': [75, 39, 17, 7], 'containers_type': [3, 2, 1, 2], 't_list': [0.5, 1, 1, 1], 'd_list': [1, 0.5, 1, 0.5], 'max_weight': 100, 'allBinaryVariables': [0, 1, 2, 3, 4, 5, 6, 7, 8, 9, 10, 11]} \n",
    "alo = ALOClassic(inst)\n",
    "print(inst,'\\n')\n",
    "\n",
    "print(alo.is_qubo_feasible('000000000000')) # True\n",
    "print(alo.is_qubo_feasible('110000000000')) # True\n",
    "print(alo.is_qubo_feasible('011000000000')) # True\n",
    "print(alo.is_qubo_feasible('000100000000')) # True\n",
    "print(alo.is_qubo_feasible('000010000010')) # True\n",
    "print()\n",
    "print(alo.is_qubo_feasible('100000000000')) # False\n",
    "print(alo.is_qubo_feasible('101000000000')) # False\n",
    "print(alo.is_qubo_feasible('110100000000')) # False\n",
    "print(alo.is_qubo_feasible('000000001001')) # False\n",
    "print(alo.is_qubo_feasible('110100100000')) # False\n",
    "print(alo.is_qubo_feasible('000000011000')) # False"
   ]
  },
  {
   "cell_type": "markdown",
   "id": "4aa2faaf-4633-4ca1-987c-14743e846fe3",
   "metadata": {},
   "source": [
    "### Brute force solver"
   ]
  },
  {
   "cell_type": "code",
   "execution_count": 13,
   "id": "8159d247-f5c9-4cb7-b3ab-7d7784328d36",
   "metadata": {},
   "outputs": [
    {
     "name": "stdout",
     "output_type": "stream",
     "text": [
      "{'num_containers': 4, 'num_positions': 3, 'containers_weight': [75, 39, 17, 7], 'containers_type': [1, 1, 1, 1], 't_list': [1, 1, 1, 1], 'd_list': [1, 1, 1, 1], 'max_weight': 100, 'allBinaryVariables': [0, 1, 2, 3, 4, 5, 6, 7, 8, 9, 10, 11]} \n",
      "\n"
     ]
    },
    {
     "data": {
      "application/vnd.jupyter.widget-view+json": {
       "model_id": "22dd01604ea3407d8b7755c681c318b9",
       "version_major": 2,
       "version_minor": 0
      },
      "text/plain": [
       "Output()"
      ]
     },
     "metadata": {},
     "output_type": "display_data"
    },
    {
     "data": {
      "application/vnd.jupyter.widget-view+json": {
       "model_id": "a395c860d8af49d39769647c353a69e8",
       "version_major": 2,
       "version_minor": 0
      },
      "text/plain": [
       "Output()"
      ]
     },
     "metadata": {},
     "output_type": "display_data"
    },
    {
     "data": {
      "text/plain": [
       "([[0], [2], [3]], 99)"
      ]
     },
     "execution_count": 13,
     "metadata": {},
     "output_type": "execute_result"
    }
   ],
   "source": [
    "from ALORandomGenerator import ALORandomGenerator\n",
    "from ALOClassic import ALOClassic\n",
    "import json\n",
    "\n",
    "inst = {'num_containers': 4, 'num_positions': 3, 'containers_weight': [75, 39, 17, 7], 'containers_type': [1, 1, 1, 1], 't_list': [1, 1, 1, 1], 'd_list': [1, 1, 1, 1], 'max_weight': 100, 'allBinaryVariables': [0, 1, 2, 3, 4, 5, 6, 7, 8, 9, 10, 11]} \n",
    "alo = ALOClassic(inst)\n",
    "print(inst,'\\n')\n",
    "\n",
    "alo.solve_standard_with_bruteforce(debug_every=1,sleep=0.3)"
   ]
  },
  {
   "cell_type": "code",
   "execution_count": 12,
   "id": "7405bf54-3268-4fb4-8cdf-8b0287fa3665",
   "metadata": {},
   "outputs": [
    {
     "name": "stdout",
     "output_type": "stream",
     "text": [
      "{'num_containers': 4, 'num_positions': 3, 'containers_weight': [10, 20, 30, 20], 'containers_type': [1, 2, 2, 2], 't_list': [1, 1, 1, 1], 'd_list': [1, 0.5, 0.5, 0.5], 'max_weight': 100, 'allBinaryVariables': [0, 1, 2, 3, 4, 5, 6, 7, 8, 9, 10, 11]} \n",
      "\n"
     ]
    },
    {
     "data": {
      "application/vnd.jupyter.widget-view+json": {
       "model_id": "abcee293536a4cde9cdf2decb846003e",
       "version_major": 2,
       "version_minor": 0
      },
      "text/plain": [
       "Output()"
      ]
     },
     "metadata": {},
     "output_type": "display_data"
    },
    {
     "data": {
      "application/vnd.jupyter.widget-view+json": {
       "model_id": "9eb7388407654911929b622e5996bf60",
       "version_major": 2,
       "version_minor": 0
      },
      "text/plain": [
       "Output()"
      ]
     },
     "metadata": {},
     "output_type": "display_data"
    },
    {
     "data": {
      "text/plain": [
       "([[0], [1, 2], [3]], 80)"
      ]
     },
     "execution_count": 12,
     "metadata": {},
     "output_type": "execute_result"
    }
   ],
   "source": [
    "from ALORandomGenerator import ALORandomGenerator\n",
    "from ALOClassic import ALOClassic\n",
    "import json\n",
    "\n",
    "inst = {'num_containers': 4, 'num_positions': 3, 'containers_weight': [10, 20, 30,20], 'containers_type': [1, 2, 2, 2], 't_list': [1, 1, 1, 1], 'd_list': [1, 0.5, 0.5, 0.5], 'max_weight': 100, 'allBinaryVariables': [0, 1, 2, 3, 4, 5, 6, 7, 8, 9, 10, 11]} \n",
    "alo = ALOClassic(inst)\n",
    "print(inst,'\\n')\n",
    "\n",
    "alo.solve_standard_with_bruteforce(debug_every=1,sleep=0.3)"
   ]
  },
  {
   "cell_type": "code",
   "execution_count": 10,
   "id": "9437965b-0d41-488e-a175-7b74bef9caa9",
   "metadata": {},
   "outputs": [
    {
     "name": "stdout",
     "output_type": "stream",
     "text": [
      "{'num_containers': 4, 'num_positions': 3, 'containers_weight': [75, 39, 17, 7], 'containers_type': [1, 2, 2, 2], 't_list': [1, 1, 1, 1], 'd_list': [1, 0.5, 0.5, 0.5], 'max_weight': 100, 'allBinaryVariables': [0, 1, 2, 3, 4, 5, 6, 7, 8, 9, 10, 11]} \n",
      "\n"
     ]
    },
    {
     "data": {
      "application/vnd.jupyter.widget-view+json": {
       "model_id": "0cd71b75e0b84541aef4cc955e3d5385",
       "version_major": 2,
       "version_minor": 0
      },
      "text/plain": [
       "Output()"
      ]
     },
     "metadata": {},
     "output_type": "display_data"
    },
    {
     "data": {
      "application/vnd.jupyter.widget-view+json": {
       "model_id": "80195c94f8b1494fb24e112464fb18d2",
       "version_major": 2,
       "version_minor": 0
      },
      "text/plain": [
       "Output()"
      ]
     },
     "metadata": {},
     "output_type": "display_data"
    },
    {
     "data": {
      "text/plain": [
       "([[0], [2, 3], []], 99)"
      ]
     },
     "execution_count": 10,
     "metadata": {},
     "output_type": "execute_result"
    }
   ],
   "source": [
    "from ALORandomGenerator import ALORandomGenerator\n",
    "from ALOClassic import ALOClassic\n",
    "import json\n",
    "\n",
    "inst = {'num_containers': 4, 'num_positions': 3, 'containers_weight': [75, 39, 17, 7], 'containers_type': [1, 2, 2, 2], 't_list': [1, 1, 1, 1], 'd_list': [1, 0.5, 0.5, 0.5], 'max_weight': 100, 'allBinaryVariables': [0, 1, 2, 3, 4, 5, 6, 7, 8, 9, 10, 11]} \n",
    "alo = ALOClassic(inst)\n",
    "print(inst,'\\n')\n",
    "\n",
    "alo.solve_standard_with_bruteforce(debug_every=1,sleep=0.3)"
   ]
  },
  {
   "cell_type": "code",
   "execution_count": 9,
   "id": "157b63d0-d5a5-49a8-91d7-f1e4a2b9e96e",
   "metadata": {},
   "outputs": [
    {
     "name": "stdout",
     "output_type": "stream",
     "text": [
      "{'num_containers': 4, 'num_positions': 3, 'containers_weight': [75, 39, 17, 7], 'containers_type': [3, 2, 2, 2], 't_list': [1, 1, 1, 1], 'd_list': [1, 0.5, 0.5, 0.5], 'max_weight': 100, 'allBinaryVariables': [0, 1, 2, 3, 4, 5, 6, 7, 8, 9, 10, 11]} \n",
      "\n"
     ]
    },
    {
     "data": {
      "application/vnd.jupyter.widget-view+json": {
       "model_id": "380b601e71af4771bb77b977ffdc5796",
       "version_major": 2,
       "version_minor": 0
      },
      "text/plain": [
       "Output()"
      ]
     },
     "metadata": {},
     "output_type": "display_data"
    },
    {
     "data": {
      "application/vnd.jupyter.widget-view+json": {
       "model_id": "8dfd4e65c6c149d2a4f8c3694054d3f1",
       "version_major": 2,
       "version_minor": 0
      },
      "text/plain": [
       "Output()"
      ]
     },
     "metadata": {},
     "output_type": "display_data"
    },
    {
     "name": "stdout",
     "output_type": "stream",
     "text": [
      "solution:  [[0], [0], [2, 3]] gain:  99\n",
      "standard gain expected:  174\n"
     ]
    }
   ],
   "source": [
    "from ALORandomGenerator import ALORandomGenerator\n",
    "from ALOClassic import ALOClassic\n",
    "import json\n",
    "\n",
    "inst = {'num_containers': 4, 'num_positions': 3, 'containers_weight': [75, 39, 17, 7], 'containers_type': [3, 2, 2, 2], 't_list': [1, 1, 1, 1], 'd_list': [1, 0.5, 0.5, 0.5], 'max_weight': 100, 'allBinaryVariables': [0, 1, 2, 3, 4, 5, 6, 7, 8, 9, 10, 11]} \n",
    "alo = ALOClassic(inst)\n",
    "print(inst,'\\n')\n",
    "\n",
    "sol,gain = alo.solve_standard_with_bruteforce(debug_every=1,sleep=0.3)\n",
    "print('solution: ',sol,'gain: ',gain)\n",
    "print('standard gain expected: ',alo.calculate_standard_gain(sol))"
   ]
  },
  {
   "cell_type": "code",
   "execution_count": 7,
   "id": "cdd860f5-238e-40a5-b48e-fd17fcbce9c7",
   "metadata": {},
   "outputs": [
    {
     "name": "stdout",
     "output_type": "stream",
     "text": [
      "{'num_containers': 6, 'num_positions': 5, 'containers_weight': [13, 78, 37, 68, 79, 14], 'containers_type': [2, 1, 3, 1, 2, 3], 't_list': [1, 1, 0.5, 1, 1, 0.5], 'd_list': [0.5, 1, 1, 1, 0.5, 1], 'max_weight': 100, 'allBinaryVariables': [0, 1, 2, 3, 4, 5, 6, 7, 8, 9, 10, 11, 12, 13, 14, 15, 16, 17, 18, 19, 20, 21, 22, 23, 24, 25, 26, 27, 28, 29]} \n",
      "\n"
     ]
    },
    {
     "data": {
      "application/vnd.jupyter.widget-view+json": {
       "model_id": "9ea055f6a03946dc8a471615c76f3994",
       "version_major": 2,
       "version_minor": 0
      },
      "text/plain": [
       "Output()"
      ]
     },
     "metadata": {},
     "output_type": "display_data"
    },
    {
     "data": {
      "application/vnd.jupyter.widget-view+json": {
       "model_id": "2d0aa856f9f646ff9b8d4c3fb40fffae",
       "version_major": 2,
       "version_minor": 0
      },
      "text/plain": [
       "Output()"
      ]
     },
     "metadata": {},
     "output_type": "display_data"
    },
    {
     "name": "stdout",
     "output_type": "stream",
     "text": [
      "solution:  [[5], [5], [3], [0], []] gain:  95\n",
      "standard gain expected:  95.0\n"
     ]
    }
   ],
   "source": [
    "from ALORandomGenerator import ALORandomGenerator\n",
    "from ALOClassic import ALOClassic\n",
    "import json\n",
    "\n",
    "inst = {'num_containers': 6, 'num_positions': 5, 'containers_weight': [13, 78, 37, 68, 79, 14], 'containers_type': [2, 1, 3, 1, 2, 3], 't_list': [1, 1, 0.5, 1, 1, 0.5], 'd_list': [0.5, 1, 1, 1, 0.5, 1], 'max_weight': 100, 'allBinaryVariables': [0, 1, 2, 3, 4, 5, 6, 7, 8, 9, 10, 11, 12, 13, 14, 15, 16, 17, 18, 19, 20, 21, 22, 23, 24, 25, 26, 27, 28, 29]}\n",
    "alo = ALOClassic(inst)\n",
    "print(inst,'\\n')\n",
    "\n",
    "sol,gain = alo.solve_standard_with_bruteforce(debug_every=1,sleep=0.2)\n",
    "print('solution: ',sol,'gain: ',gain)\n",
    "print('standard gain expected: ',alo.calculate_standard_gain(sol))"
   ]
  },
  {
   "cell_type": "code",
   "execution_count": 5,
   "id": "fd2e55be-cb6f-44f5-8b62-6ce1a2e3e365",
   "metadata": {},
   "outputs": [
    {
     "name": "stdout",
     "output_type": "stream",
     "text": [
      "{'num_containers': 6, 'num_positions': 5, 'containers_weight': [13, 78, 37, 68, 2, 14], 'containers_type': [2, 1, 3, 1, 2, 3], 't_list': [1, 1, 0.5, 1, 1, 0.5], 'd_list': [0.5, 1, 1, 1, 0.5, 1], 'max_weight': 100, 'allBinaryVariables': [0, 1, 2, 3, 4, 5, 6, 7, 8, 9, 10, 11, 12, 13, 14, 15, 16, 17, 18, 19, 20, 21, 22, 23, 24, 25, 26, 27, 28, 29]} \n",
      "\n"
     ]
    },
    {
     "data": {
      "application/vnd.jupyter.widget-view+json": {
       "model_id": "37271b6779c946d1826a7401449abb6c",
       "version_major": 2,
       "version_minor": 0
      },
      "text/plain": [
       "Output()"
      ]
     },
     "metadata": {},
     "output_type": "display_data"
    },
    {
     "data": {
      "application/vnd.jupyter.widget-view+json": {
       "model_id": "c8538386297d4d18b4cabb13fc6f7daa",
       "version_major": 2,
       "version_minor": 0
      },
      "text/plain": [
       "Output()"
      ]
     },
     "metadata": {},
     "output_type": "display_data"
    },
    {
     "name": "stdout",
     "output_type": "stream",
     "text": [
      "solution:  [[5], [5], [3], [0, 4], []] gain:  97\n",
      "standard gain expected:  97.0\n"
     ]
    }
   ],
   "source": [
    "from ALORandomGenerator import ALORandomGenerator\n",
    "from ALOClassic import ALOClassic\n",
    "import json\n",
    "\n",
    "inst = {'num_containers': 6, 'num_positions': 5, 'containers_weight': [13, 78, 37, 68, 2, 14], 'containers_type': [2, 1, 3, 1, 2, 3], 't_list': [1, 1, 0.5, 1, 1, 0.5], 'd_list': [0.5, 1, 1, 1, 0.5, 1], 'max_weight': 100, 'allBinaryVariables': [0, 1, 2, 3, 4, 5, 6, 7, 8, 9, 10, 11, 12, 13, 14, 15, 16, 17, 18, 19, 20, 21, 22, 23, 24, 25, 26, 27, 28, 29]}\n",
    "alo = ALOClassic(inst)\n",
    "print(inst,'\\n')\n",
    "\n",
    "sol,gain=alo.solve_standard_with_bruteforce(debug_every=1,sleep=0.2)\n",
    "print('solution: ',sol,'gain: ',gain)\n",
    "print('standard gain expected: ',alo.calculate_standard_gain(sol))"
   ]
  },
  {
   "cell_type": "code",
   "execution_count": 4,
   "id": "ec7a22e6-f76e-4cf8-b51b-4ec11ca94d27",
   "metadata": {},
   "outputs": [
    {
     "name": "stdout",
     "output_type": "stream",
     "text": [
      "{'num_containers': 10, 'num_positions': 5, 'containers_weight': [8, 11, 5, 14, 13, 12, 20, 4, 3, 6], 'containers_type': [3, 2, 3, 1, 3, 1, 3, 3, 3, 1], 't_list': [0.5, 1, 0.5, 1, 0.5, 1, 0.5, 0.5, 0.5, 1], 'd_list': [1, 0.5, 1, 1, 1, 1, 1, 1, 1, 1], 'max_weight': 100, 'allBinaryVariables': [0, 1, 2, 3, 4, 5, 6, 7, 8, 9, 10, 11, 12, 13, 14, 15, 16, 17, 18, 19, 20, 21, 22, 23, 24, 25, 26, 27, 28, 29, 30, 31, 32, 33, 34, 35, 36, 37, 38, 39, 40, 41, 42, 43, 44, 45, 46, 47, 48, 49]} \n",
      "\n"
     ]
    },
    {
     "data": {
      "application/vnd.jupyter.widget-view+json": {
       "model_id": "993c2926fd5b42c9bca0f74ae04a7e0f",
       "version_major": 2,
       "version_minor": 0
      },
      "text/plain": [
       "Output()"
      ]
     },
     "metadata": {},
     "output_type": "display_data"
    },
    {
     "data": {
      "application/vnd.jupyter.widget-view+json": {
       "model_id": "fd4387b2d36b4fbb899ff9279acaccb3",
       "version_major": 2,
       "version_minor": 0
      },
      "text/plain": [
       "Output()"
      ]
     },
     "metadata": {},
     "output_type": "display_data"
    },
    {
     "name": "stdout",
     "output_type": "stream",
     "text": [
      "solution:  [[6], [6], [3], [5], [1]] gain:  57\n",
      "standard gain expected:  57.0\n"
     ]
    }
   ],
   "source": [
    "from ALORandomGenerator import ALORandomGenerator\n",
    "from ALOClassic import ALOClassic\n",
    "import json\n",
    "\n",
    "inst = {'num_containers': 10, 'num_positions': 5, 'containers_weight': [8,11, 5, 14, 13, 12, 20, 4,3, 6], 'containers_type': [3, 2, 3, 1, 3, 1, 3, 3, 3, 1], 't_list': [0.5, 1, 0.5, 1, 0.5, 1, 0.5, 0.5, 0.5, 1], 'd_list': [1, 0.5, 1, 1, 1, 1, 1, 1, 1, 1], 'max_weight': 100, 'allBinaryVariables': [0, 1, 2, 3, 4, 5, 6, 7, 8, 9, 10, 11, 12, 13, 14, 15, 16, 17, 18, 19, 20, 21, 22, 23, 24, 25, 26, 27, 28, 29, 30, 31, 32, 33, 34, 35, 36, 37, 38, 39, 40, 41, 42, 43, 44, 45, 46, 47, 48, 49]}\n",
    "\n",
    "alo = ALOClassic(inst)\n",
    "print(inst,'\\n')\n",
    "\n",
    "sol,gain=alo.solve_standard_with_bruteforce(debug_every=10,sleep=0.1)\n",
    "print('solution: ',sol,'gain: ',gain)\n",
    "print('standard gain expected: ',alo.calculate_standard_gain(sol))"
   ]
  },
  {
   "cell_type": "code",
   "execution_count": 2,
   "id": "bb2f4707-0b6a-4cc7-b266-0e05f938a804",
   "metadata": {},
   "outputs": [
    {
     "name": "stdout",
     "output_type": "stream",
     "text": [
      "{'num_containers': 15, 'num_positions': 8, 'containers_weight': [24, 61, 11, 35, 13, 99, 45, 63, 84, 50, 44, 9, 43, 59, 74], 'containers_type': [1, 2, 2, 1, 3, 1, 1, 3, 3, 2, 1, 1, 1, 3, 3], 't_list': [1, 1, 1, 1, 0.5, 1, 1, 0.5, 0.5, 1, 1, 1, 1, 0.5, 0.5], 'd_list': [1, 0.5, 0.5, 1, 1, 1, 1, 1, 1, 0.5, 1, 1, 1, 1, 1], 'max_weight': 100, 'allBinaryVariables': [0, 1, 2, 3, 4, 5, 6, 7, 8, 9, 10, 11, 12, 13, 14, 15, 16, 17, 18, 19, 20, 21, 22, 23, 24, 25, 26, 27, 28, 29, 30, 31, 32, 33, 34, 35, 36, 37, 38, 39, 40, 41, 42, 43, 44, 45, 46, 47, 48, 49, 50, 51, 52, 53, 54, 55, 56, 57, 58, 59, 60, 61, 62, 63, 64, 65, 66, 67, 68, 69, 70, 71, 72, 73, 74, 75, 76, 77, 78, 79, 80, 81, 82, 83, 84, 85, 86, 87, 88, 89, 90, 91, 92, 93, 94, 95, 96, 97, 98, 99, 100, 101, 102, 103, 104, 105, 106, 107, 108, 109, 110, 111, 112, 113, 114, 115, 116, 117, 118, 119]} \n",
      "\n"
     ]
    },
    {
     "data": {
      "application/vnd.jupyter.widget-view+json": {
       "model_id": "c9277eb6d9664788b77b0e2e0622fefb",
       "version_major": 2,
       "version_minor": 0
      },
      "text/plain": [
       "Output()"
      ]
     },
     "metadata": {},
     "output_type": "display_data"
    },
    {
     "data": {
      "application/vnd.jupyter.widget-view+json": {
       "model_id": "2408d9398ba54984a1f8bfb6b9633cc5",
       "version_major": 2,
       "version_minor": 0
      },
      "text/plain": [
       "Output()"
      ]
     },
     "metadata": {},
     "output_type": "display_data"
    },
    {
     "name": "stdout",
     "output_type": "stream",
     "text": [
      "solution:  [[4], [4], [10], [12], [], [], [], []] gain:  100\n",
      "standard gain expected:  100.0\n"
     ]
    }
   ],
   "source": [
    "from ALORandomGenerator import ALORandomGenerator\n",
    "from ALOClassic import ALOClassic\n",
    "import json\n",
    "\n",
    "inst = {'num_containers': 15, 'num_positions': 8, 'containers_weight': [24, 61, 11, 35, 13, 99, 45, 63, 84, 50, 44, 9, 43, 59, 74], 'containers_type': [1, 2, 2, 1, 3, 1, 1, 3, 3, 2, 1, 1, 1, 3, 3], 't_list': [1, 1, 1, 1, 0.5, 1, 1, 0.5, 0.5, 1, 1, 1, 1, 0.5, 0.5], 'd_list': [1, 0.5, 0.5, 1, 1, 1, 1, 1, 1, 0.5, 1, 1, 1, 1, 1], 'max_weight': 100, 'allBinaryVariables': [0, 1, 2, 3, 4, 5, 6, 7, 8, 9, 10, 11, 12, 13, 14, 15, 16, 17, 18, 19, 20, 21, 22, 23, 24, 25, 26, 27, 28, 29, 30, 31, 32, 33, 34, 35, 36, 37, 38, 39, 40, 41, 42, 43, 44, 45, 46, 47, 48, 49, 50, 51, 52, 53, 54, 55, 56, 57, 58, 59, 60, 61, 62, 63, 64, 65, 66, 67, 68, 69, 70, 71, 72, 73, 74, 75, 76, 77, 78, 79, 80, 81, 82, 83, 84, 85, 86, 87, 88, 89, 90, 91, 92, 93, 94, 95, 96, 97, 98, 99, 100, 101, 102, 103, 104, 105, 106, 107, 108, 109, 110, 111, 112, 113, 114, 115, 116, 117, 118, 119]}\n",
    "\n",
    "alo = ALOClassic(inst)\n",
    "print(inst,'\\n')\n",
    "\n",
    "sol,gain = alo.solve_standard_with_bruteforce(debug_every=20,sleep=0.05)\n",
    "print('solution: ',sol,'gain: ',gain)\n",
    "print('standard gain expected: ',alo.calculate_standard_gain(sol))"
   ]
  }
 ],
 "metadata": {
  "kernelspec": {
   "display_name": "Python 3 (ipykernel)",
   "language": "python",
   "name": "python3"
  },
  "language_info": {
   "codemirror_mode": {
    "name": "ipython",
    "version": 3
   },
   "file_extension": ".py",
   "mimetype": "text/x-python",
   "name": "python",
   "nbconvert_exporter": "python",
   "pygments_lexer": "ipython3",
   "version": "3.10.13"
  }
 },
 "nbformat": 4,
 "nbformat_minor": 5
}
