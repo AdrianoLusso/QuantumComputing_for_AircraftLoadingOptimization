{
 "cells": [
  {
   "cell_type": "markdown",
   "id": "a704f30c-6633-4b40-b35f-d15ef847baac",
   "metadata": {},
   "source": [
    "# Creating QUBO of Aircraft Loading Optimization (ALO)"
   ]
  },
  {
   "cell_type": "code",
   "execution_count": 44,
   "id": "781a2306-c55b-43e1-ad97-7df041d43a4d",
   "metadata": {},
   "outputs": [],
   "source": [
    "import docplex\n",
    "from docplex.mp.model import Model\n",
    "\n",
    "from openqaoa.problems.converters import FromDocplex2IsingModel # function to translate docplex problems into Ising Hamiltonians\n",
    "\n",
    "from openqaoa import QAOA, QUBO\n",
    "from openqaoa.backends import create_device"
   ]
  },
  {
   "cell_type": "code",
   "execution_count": 160,
   "id": "4a82d319-8bcb-4f81-96c4-1b4b3474651f",
   "metadata": {},
   "outputs": [],
   "source": [
    "containers = list(range(3))\n",
    "containers_type = [2,3,1]\n",
    "containers_mass = [1 , 1.2 , 1.2]\n",
    "\n",
    "positions = list(range(3))\n",
    "\n",
    "containers_proportion_of_mass_per_position = [0.5 if type == 3 else 1 for type in containers_type]\n",
    "containers_occupacy_per_position = [0.5 if type == 2 else 1 for type in containers_type]\n",
    "\n",
    "max_weight = 3\n",
    "allBinaryVariables = list(range(len(containers) * len(positions)))\n"
   ]
  },
  {
   "cell_type": "code",
   "execution_count": 165,
   "id": "6bf8709c-b964-49db-8ed2-73ab404f5d70",
   "metadata": {},
   "outputs": [
    {
     "data": {
      "text/plain": [
       "'\\n# CONTIGUITY FOR BIG CONTAINERS\\nfor i in containers:\\n    if containers_type[i] != 3:\\n        continue\\n    mdl.add_constraint(\\n        mdl.sum(\\n            x[len(positions) * i + j] * x[len(positions) * i + (j+1)]\\n            for j in positions[:-1]\\n        ) \\n        ==\\n        0.5 * mdl.sum(\\n            x[len(positions) * i + j]\\n            for j in positions\\n        )\\n    )\\n\\n# MAXIMUM CAPACITY\\nmdl.add_constraint(\\n    mdl.sum(\\n        t_i * m_i * x[len(positions) * i + j] \\n        for j in positions\\n        for t_i,m_i,i in zip(containers_proportion_of_mass_per_position,containers_mass,containers)\\n    ) <= max_weight\\n)'"
      ]
     },
     "execution_count": 165,
     "metadata": {},
     "output_type": "execute_result"
    }
   ],
   "source": [
    "mdl = Model(\"ALO\")\n",
    "x = mdl.binary_var_list(len(allBinaryVariables), name=\"x\")\n",
    "\n",
    "# OBJECTIVE FUNCTION\n",
    "mdl.minimize(-mdl.sum(\n",
    "    t_i * m_i * x[len(positions) * i + j] \n",
    "    for j in positions\n",
    "    for t_i,m_i,i in zip(containers_proportion_of_mass_per_position,containers_mass,containers)\n",
    "))\n",
    "'''\n",
    "# NO OVERLAPS\n",
    "for j in positions:\n",
    "    mdl.add_constraint(mdl.sum(\n",
    "        d_i * x[len(positions) * i + j]\n",
    "        for d_i,i in zip(containers_occupacy_per_position,containers) \n",
    "        ) <= 1\n",
    "    )\n",
    "'''\n",
    "# NO DUPLICATES\n",
    "for i in containers:\n",
    "    t_i = containers_proportion_of_mass_per_position[i]\n",
    "    mdl.add_constraint(t_i * mdl.sum(\n",
    "        x[len(positions) * i + j]\n",
    "        for j in positions \n",
    "        ) <= 1\n",
    "    )\n",
    "'''\n",
    "# CONTIGUITY FOR BIG CONTAINERS\n",
    "for i in containers:\n",
    "    if containers_type[i] != 3:\n",
    "        continue\n",
    "    mdl.add_constraint(\n",
    "        mdl.sum(\n",
    "            x[len(positions) * i + j] * x[len(positions) * i + (j+1)]\n",
    "            for j in positions[:-1]\n",
    "        ) \n",
    "        ==\n",
    "        0.5 * mdl.sum(\n",
    "            x[len(positions) * i + j]\n",
    "            for j in positions\n",
    "        )\n",
    "    )\n",
    "\n",
    "# MAXIMUM CAPACITY\n",
    "mdl.add_constraint(\n",
    "    mdl.sum(\n",
    "        t_i * m_i * x[len(positions) * i + j] \n",
    "        for j in positions\n",
    "        for t_i,m_i,i in zip(containers_proportion_of_mass_per_position,containers_mass,containers)\n",
    "    ) <= max_weight\n",
    ")'''\n",
    "#mdl.add_constraint(mdl.sum(var * weights[i] for i, var in enumerate(x)) <= max_weight)\n"
   ]
  },
  {
   "cell_type": "code",
   "execution_count": 162,
   "id": "42613718-c5fb-4fe4-b629-858db18f0af3",
   "metadata": {
    "scrolled": true
   },
   "outputs": [
    {
     "name": "stdout",
     "output_type": "stream",
     "text": [
      "Variables:\n",
      "x_0\n",
      "x_1\n",
      "x_2\n",
      "x_3\n",
      "x_4\n",
      "x_5\n",
      "x_6\n",
      "x_7\n",
      "x_8\n",
      "\n",
      "objective function:\n",
      "-x_0-x_1-x_2-0.600x_3-0.600x_4-0.600x_5-1.200x_6-1.200x_7-1.200x_8 \n",
      "\n",
      "Constraints:\n",
      "x_0+x_1+x_2 <= 1\n",
      "0.500x_3+0.500x_4+0.500x_5 <= 1\n",
      "x_6+x_7+x_8 <= 1\n"
     ]
    }
   ],
   "source": [
    "mdl.name\n",
    "print('Variables:')\n",
    "for var in mdl.iter_variables():\n",
    "    print(var)\n",
    "print('\\nobjective function:')\n",
    "print(mdl.get_objective_expr(),'\\n')\n",
    "print('Constraints:')\n",
    "for constraint in mdl.iter_constraints():\n",
    "    print(constraint)"
   ]
  },
  {
   "cell_type": "code",
   "execution_count": 186,
   "id": "907b939c-ea27-4928-8daa-de22de4708de",
   "metadata": {},
   "outputs": [
    {
     "name": "stdout",
     "output_type": "stream",
     "text": [
      "Variables:\n",
      "x_0\n",
      "x_1\n",
      "x_2\n",
      "x_3\n",
      "x_4\n",
      "x_5\n",
      "x_6\n",
      "x_7\n",
      "x_8\n",
      "0.080x_0^2+0.160x_0*x_1+0.160x_0*x_2+0.080x_1^2+0.160x_1*x_2+0.080x_2^2+0.020x_3^2+0.040x_3*x_4+0.040x_3*x_5+0.020x_4^2+0.040x_4*x_5+0.020x_5^2+0.080x_6^2+0.160x_6*x_7+0.160x_6*x_8+0.080x_7^2+0.160x_7*x_8+0.080x_8^2-0.200x_0-0.200x_1-0.200x_2-0.200x_3-0.200x_4-0.200x_5-0.400x_6-0.400x_7-0.400x_8-2.641\n",
      "(docplex.mp.Var(type=B,name='x_0'), -0.1997)\n",
      "(docplex.mp.Var(type=B,name='x_1'), -0.1997)\n",
      "(docplex.mp.Var(type=B,name='x_2'), -0.1997)\n",
      "(docplex.mp.Var(type=B,name='x_3'), -0.19984999999999997)\n",
      "(docplex.mp.Var(type=B,name='x_4'), -0.19984999999999997)\n",
      "(docplex.mp.Var(type=B,name='x_5'), -0.19984999999999997)\n",
      "(docplex.mp.Var(type=B,name='x_6'), -0.39969999999999994)\n",
      "(docplex.mp.Var(type=B,name='x_7'), -0.39969999999999994)\n",
      "(docplex.mp.Var(type=B,name='x_8'), -0.39969999999999994)\n"
     ]
    }
   ],
   "source": [
    "lambdas = [0.9603,0.08] # From the paper the lambdas found: https://arxiv.org/abs/2211.13914    \n",
    "convertergWrapper = FromDocplex2IsingModel(mdl, unbalanced_const=True, strength_ineq=lambdas)\n",
    "ising = convertergWrapper.ising_model\n",
    "mdl_ising = convertergWrapper.qubo_docplex\n",
    "#mdl.solve()\n",
    "#print(ising.asdict())\n",
    "mdl.name\n",
    "print('Variables:')\n",
    "for var in mdl_ising.iter_variables():\n",
    "    print(var)\n",
    "print(mdl_ising.objective_expr)\n",
    "for var in mdl_ising.objective_expr.iter_terms():\n",
    "    print(var)\n",
    "# Iterar sobre los términos cuadráticos de la función objetivo\n",
    "for quad_term in mdl.objective_expr.iter_quads():\n",
    "    print(quad_term)"
   ]
  },
  {
   "cell_type": "code",
   "execution_count": 164,
   "id": "f28924f2-568c-4ded-a780-a863ece96f0b",
   "metadata": {},
   "outputs": [
    {
     "name": "stdout",
     "output_type": "stream",
     "text": [
      "Ground State energy: -3.65955, Solution: ['100111110', '010111110', '001111110', '100111101', '010111101', '001111101', '100111011', '010111011', '001111011']\n"
     ]
    }
   ],
   "source": [
    "q = QAOA()\n",
    "\n",
    "qiskit_device = create_device(location='local', name='vectorized')\n",
    "\n",
    "q.set_device(qiskit_device)\n",
    "\n",
    "# circuit properties\n",
    "q.set_circuit_properties(p=3, param_type='standard', init_type='ramp', mixer_hamiltonian='x')\n",
    "\n",
    "# backend properties (already set by default)\n",
    "q.set_backend_properties(prepend_state=None, append_state=None)\n",
    "\n",
    "# classical optimizer properties\n",
    "q.set_classical_optimizer(method='nelder-mead', maxiter=500, tol=0.001,\n",
    "                          optimization_progress=True, cost_progress=True, parameter_log=True)\n",
    "\n",
    "q.compile(ising)\n",
    "#q.optimize()\n",
    "q.solve_brute_force(verbose=True)"
   ]
  },
  {
   "cell_type": "code",
   "execution_count": 46,
   "id": "22e2f043-c30f-40ba-ad07-2529c5879345",
   "metadata": {},
   "outputs": [
    {
     "name": "stdout",
     "output_type": "stream",
     "text": [
      "states kept: 40\n"
     ]
    },
    {
     "data": {
      "image/png": "[encoded data removed]",
      "text/plain": [
       "<Figure size 1000x800 with 1 Axes>"
      ]
     },
     "metadata": {},
     "output_type": "display_data"
    }
   ],
   "source": [
    "qresult=q.result\n",
    "qresult.plot_probabilities()"
   ]
  }
 ],
 "metadata": {
  "kernelspec": {
   "display_name": "Python 3 (ipykernel)",
   "language": "python",
   "name": "python3"
  },
  "language_info": {
   "codemirror_mode": {
    "name": "ipython",
    "version": 3
   },
   "file_extension": ".py",
   "mimetype": "text/x-python",
   "name": "python",
   "nbconvert_exporter": "python",
   "pygments_lexer": "ipython3",
   "version": "3.10.13"
  }
 },
 "nbformat": 4,
 "nbformat_minor": 5
}
